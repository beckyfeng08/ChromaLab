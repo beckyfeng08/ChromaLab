{
 "cells": [
  {
   "cell_type": "code",
   "execution_count": 2,
   "metadata": {},
   "outputs": [],
   "source": [
    "import csv\n",
    "import numpy as np\n",
    "import matplotlib.pyplot as plt\n",
    "from tqdm import tqdm\n",
    "from itertools import product\n",
    "from scipy.spatial import ConvexHull, Delaunay\n",
    "\n",
    "\n",
    "from chromalab.observer import Observer, Cone, transformToChromaticity, getHeringMatrix\n",
    "from chromalab.inks import Neugebauer, InkGamut, CellNeugebauer, Pigment, InkLibrary\n",
    "from chromalab.spectra import Spectra, Illuminant\n",
    "from chromalab.maxbasis import MaxBasis\n",
    "from chromalab.cubemap import CubeMap\n",
    "from chromalab.printer import Printer"
   ]
  },
  {
   "cell_type": "code",
   "execution_count": 3,
   "metadata": {},
   "outputs": [],
   "source": [
    "%load_ext autoreload\n",
    "%autoreload 2\n",
    "%matplotlib ipympl"
   ]
  },
  {
   "cell_type": "code",
   "execution_count": 4,
   "metadata": {},
   "outputs": [
    {
     "name": "stderr",
     "output_type": "stream",
     "text": [
      "100%|██████████| 28/28 [00:00<00:00, 974.18it/s]\n",
      "/Users/jessicalee/Projects/generalized-colorimetry/code/ChromaLab/chromalab/spectra.py:36: UserWarning: Data has values not between 0 and 1. Clipping.\n",
      "  warnings.warn(\"Data has values not between 0 and 1. Clipping.\")\n",
      "100%|██████████| 28/28 [00:00<00:00, 50.72it/s]\n"
     ]
    }
   ],
   "source": [
    "wavelengths = np.arange(390, 700, 10)\n",
    "d65 = Illuminant.get(\"E\")\n",
    "\n",
    "trichromat = Observer.trichromat(wavelengths=wavelengths, illuminant=d65) \n",
    "maxbasis_tri = MaxBasis(trichromat, verbose=True)\n",
    "LMS_to_RGB = maxbasis_tri.get_cone_to_maxbasis_transform()[::-1]\n",
    "\n",
    "tetrachromat = Observer.tetrachromat(wavelengths=wavelengths, illuminant=d65, verbose=True) \n",
    "maxbasis = MaxBasis(tetrachromat, verbose=True)\n",
    "tetra_maxbasis = maxbasis.get_max_basis_observer()"
   ]
  },
  {
   "cell_type": "code",
   "execution_count": null,
   "metadata": {},
   "outputs": [],
   "source": [
    "# Max Contrast Hypercube Point Cloud\n",
    "# stepsize = 0.05\n",
    "# values = np.arange(0, 1 + stepsize, stepsize)/ np.linalg.norm([1, 1, 1, 1])\n",
    "# total_combinations = len(values) ** 4\n",
    "# LMSQ_gamut = product(values, repeat=4)\n",
    "# enumerate_pc = np.array(list(LMSQ_gamut))\n",
    "\n",
    "# # Convert to RGB\n",
    "# enumerate_rgbs = np.clip((LMS_to_RGB@(enumerate_pc[:, [0, 1, 3]].T)).T, 0, 1)\n",
    "\n",
    "# hull = Delaunay(point_cloud)\n",
    "# def in_hull(p, hull):\n",
    "#     \"\"\"\n",
    "#     Test if points in `p` are in `hull`\n",
    "\n",
    "#     `p` should be a `NxK` coordinates of `N` points in `K` dimensions\n",
    "#     `hull` is either a scipy.spatial.Delaunay object or the `MxK` array of the \n",
    "#     coordinates of `M` points in `K`dimensions for which Delaunay triangulation\n",
    "#     will be computed\n",
    "#     \"\"\"\n",
    "#     from scipy.spatial import Delaunay\n",
    "#     if not isinstance(hull,Delaunay):\n",
    "#         hull = Delaunay(hull)\n",
    "\n",
    "#     return hull.find_simplex(p)>=0\n",
    "# results = in_hull(enumerate_pc, hull)"
   ]
  },
  {
   "cell_type": "code",
   "execution_count": 5,
   "metadata": {},
   "outputs": [
    {
     "name": "stderr",
     "output_type": "stream",
     "text": [
      "100%|██████████| 4495/4495 [00:00<00:00, 9841.55it/s] \n",
      "100%|██████████| 4495/4495 [00:00<00:00, 9337.60it/s]\n",
      "100%|██████████| 8990/8990 [00:19<00:00, 461.29it/s]\n"
     ]
    }
   ],
   "source": [
    "point_cloud, rgbs = tetrachromat.get_enumeration_of_solid(0.1)"
   ]
  },
  {
   "cell_type": "code",
   "execution_count": null,
   "metadata": {},
   "outputs": [],
   "source": [
    "# fig = plt.figure(figsize=(6, 6))\n",
    "# ax = fig.add_subplot(111, projection='3d')\n",
    "# ax.scatter(point_cloud[:, 1], point_cloud[:, 2], point_cloud[:, 3], s=70, c='blue', alpha=0.8, label='Points')\n",
    "# ax.legend()\n",
    "# plt.show()"
   ]
  },
  {
   "cell_type": "code",
   "execution_count": 6,
   "metadata": {},
   "outputs": [],
   "source": [
    "cubemap = CubeMap(point_cloud, maxbasis, rgbs=rgbs, verbose=True)\n",
    "cubemap.display_cubemap_Q_orientation(0.8, 0.4, 5)"
   ]
  },
  {
   "cell_type": "code",
   "execution_count": null,
   "metadata": {},
   "outputs": [],
   "source": []
  }
 ],
 "metadata": {
  "kernelspec": {
   "display_name": "chromalab",
   "language": "python",
   "name": "python3"
  },
  "language_info": {
   "codemirror_mode": {
    "name": "ipython",
    "version": 3
   },
   "file_extension": ".py",
   "mimetype": "text/x-python",
   "name": "python",
   "nbconvert_exporter": "python",
   "pygments_lexer": "ipython3",
   "version": "3.11.9"
  }
 },
 "nbformat": 4,
 "nbformat_minor": 2
}
