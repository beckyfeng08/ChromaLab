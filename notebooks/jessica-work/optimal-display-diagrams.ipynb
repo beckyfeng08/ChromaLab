{
 "cells": [
  {
   "cell_type": "code",
   "execution_count": null,
   "metadata": {},
   "outputs": [],
   "source": [
    "import csv\n",
    "import numpy as np\n",
    "import matplotlib.pyplot as plt\n",
    "import matplotlib.gridspec as gridspec\n",
    "from tqdm import tqdm\n",
    "from colour import wavelength_to_XYZ"
   ]
  },
  {
   "cell_type": "code",
   "execution_count": null,
   "metadata": {},
   "outputs": [],
   "source": [
    "from chromalab.observer import Observer, Cone, getsRGBfromWavelength, transformToDisplayChromaticity, getHeringMatrix\n",
    "from chromalab.spectra import Spectra, Illuminant\n",
    "from chromalab.maxbasis import MaxBasis\n",
    "from chromalab.maxdisplaybasis import *\n",
    "from chromalab.visualizer import PSWrapper, DisplayBasisType, exportAndPlay, easeFunction\n",
    "from chromalab.animation import Animation"
   ]
  },
  {
   "cell_type": "code",
   "execution_count": null,
   "metadata": {},
   "outputs": [],
   "source": [
    "%load_ext autoreload\n",
    "%autoreload 2\n",
    "%matplotlib ipympl"
   ]
  },
  {
   "cell_type": "markdown",
   "metadata": {},
   "source": [
    "## Create the Cone Fundamentals in 4D"
   ]
  },
  {
   "cell_type": "code",
   "execution_count": null,
   "metadata": {},
   "outputs": [],
   "source": [
    "wavelengths = np.arange(400, 700, 5)\n",
    "d65 = Illuminant.get(\"D65\")\n",
    "leds = [660, 550, 451, 590, 510, 410]"
   ]
  },
  {
   "cell_type": "code",
   "execution_count": null,
   "metadata": {},
   "outputs": [],
   "source": [
    "tetrachromat = Observer.tetrachromat(wavelengths=wavelengths, verbose=True) \n",
    "maxbasis = MaxBasis(tetrachromat, verbose=True)\n",
    "# viz = PSWrapper(tetrachromat, maxbasis, itemsToDisplay=PSWrapper.ItemsToDisplay.BOTH, displayBasis=DisplayBasisType.MAXBASIS, verbose=True) \n",
    " \n",
    "cones = [Cone.cone(x, wavelengths=wavelengths, template=\"neitz\", od=0.35) for x in [450, 500, 550, 600]]\n",
    "ideal_tetrachromat = Observer(cones, illuminant=d65, verbose=True)\n",
    "max_basis_ideal_tet = MaxBasis(ideal_tetrachromat, verbose=True)\n",
    "\n",
    "trichromat = Observer.trichromat(wavelengths=wavelengths) \n",
    "maxbasis_tri = MaxBasis(trichromat, verbose=True)\n",
    "# # viz_tri = PSWrapper(trichromat, maxbasis_tri, itemsToDisplay=PSWrapper.ItemsToDisplay.MESH, displayBasis=DisplayBasisType.MAXBASIS, verbose=True)\n"
   ]
  },
  {
   "cell_type": "code",
   "execution_count": null,
   "metadata": {},
   "outputs": [],
   "source": [
    "mdb = TriDisplayGamut(trichromat, chromaticity_diagram_type=ChromaticityDiagramType.LaserPoint)\n",
    "mdb.computeMaxPrimariesInChrom()\n",
    "mdb.displayPrimariesInChromDiagram(title=\"Ideal Hull with 3 Primaries\")"
   ]
  },
  {
   "cell_type": "code",
   "execution_count": null,
   "metadata": {},
   "outputs": [],
   "source": [
    "mdb1 = TriDisplayGamut(trichromat, chromaticity_diagram_type=ChromaticityDiagramType.LaserPoint)\n",
    "mdb1.setPrimaries([leds[i] for i in [2, 1, 3, 0, 4, 5]])\n",
    "mdb1.displayPrimariesInChromDiagram(title=\"Hull with All Tutenlab Primaries\")"
   ]
  },
  {
   "cell_type": "code",
   "execution_count": null,
   "metadata": {},
   "outputs": [],
   "source": [
    "mdb1 = TetraDisplayGamut(tetrachromat, chromaticity_diagram_type=ChromaticityDiagramType.LaserPoint)\n",
    "mdb1.computeMaxPrimariesInChrom(wavelengths=np.arange(410, 665, 5))\n",
    "mdb1.displayPrimariesInChromDiagram(title=\"Maximal Gamut with 4 Primaries\")"
   ]
  },
  {
   "cell_type": "code",
   "execution_count": null,
   "metadata": {},
   "outputs": [],
   "source": [
    "mdb2 = TetraDisplayGamut(tetrachromat, chromaticity_diagram_type=ChromaticityDiagramType.LaserPoint)\n",
    "mdb2.setPrimaries([leds[i] for i in [5, 4, 3, 0]])\n",
    "mdb2.displayPrimariesInChromDiagram(title=\"Maximal Gamut with Chosen TutenLab Primaries\")"
   ]
  },
  {
   "cell_type": "code",
   "execution_count": null,
   "metadata": {},
   "outputs": [],
   "source": [
    "mdb3 = TetraDisplayGamut(tetrachromat, chromaticity_diagram_type=ChromaticityDiagramType.LaserPoint)\n",
    "mdb3.setPrimaries([leds[i] for i in [5, 4, 3, 0, 1, 2]])\n",
    "mdb3.displayPrimariesInChromDiagram(title=\"Maximal Gamut with All TutenLab Primaries\")"
   ]
  },
  {
   "cell_type": "code",
   "execution_count": null,
   "metadata": {},
   "outputs": [],
   "source": [
    "ideal_tet_mdb = TetraDisplayGamut(ideal_tetrachromat, chromaticity_diagram_type=ChromaticityDiagramType.LaserPoint)\n",
    "ideal_tet_mdb.computeMaxPrimariesInChrom()\n",
    "ideal_tet_mdb.displayPrimariesInChromDiagram(title=\"Ideal Spaced Tetrachromatic Primaries\")"
   ]
  },
  {
   "cell_type": "code",
   "execution_count": null,
   "metadata": {},
   "outputs": [],
   "source": []
  }
 ],
 "metadata": {
  "kernelspec": {
   "display_name": "chromalab",
   "language": "python",
   "name": "python3"
  },
  "language_info": {
   "codemirror_mode": {
    "name": "ipython",
    "version": 3
   },
   "file_extension": ".py",
   "mimetype": "text/x-python",
   "name": "python",
   "nbconvert_exporter": "python",
   "pygments_lexer": "ipython3",
   "version": "3.11.9"
  }
 },
 "nbformat": 4,
 "nbformat_minor": 2
}
