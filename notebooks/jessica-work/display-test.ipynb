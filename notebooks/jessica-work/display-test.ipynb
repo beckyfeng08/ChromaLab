{
 "cells": [
  {
   "cell_type": "code",
   "execution_count": 1,
   "metadata": {},
   "outputs": [],
   "source": [
    "import csv\n",
    "import numpy as np\n",
    "import matplotlib.pyplot as plt\n",
    "from tqdm import tqdm\n",
    "from colour import wavelength_to_XYZ"
   ]
  },
  {
   "cell_type": "code",
   "execution_count": 2,
   "metadata": {},
   "outputs": [],
   "source": [
    "from chromalab.observer import Observer, Cone, getsRGBfromWavelength, transformToDisplayChromaticity\n",
    "from chromalab.led import LEDSequence"
   ]
  },
  {
   "cell_type": "code",
   "execution_count": 5,
   "metadata": {},
   "outputs": [],
   "source": [
    "%load_ext autoreload\n",
    "%autoreload 2\n",
    "%matplotlib ipympl"
   ]
  },
  {
   "cell_type": "code",
   "execution_count": 7,
   "metadata": {},
   "outputs": [],
   "source": [
    "tet = LEDSequence.TetrachromaticDisplay()"
   ]
  },
  {
   "cell_type": "code",
   "execution_count": 63,
   "metadata": {},
   "outputs": [
    {
     "name": "stdout",
     "output_type": "stream",
     "text": [
      "[[31 31 31 31]]\n",
      "[[0 0 0 1 1 1 1 1]\n",
      " [0 0 0 1 1 1 1 1]\n",
      " [0 0 0 1 1 1 1 1]\n",
      " [0 0 0 1 1 1 1 1]]\n",
      "[[False False False False  True  True  True  True]\n",
      " [ True  True  True  True  True  True  True  True]\n",
      " [ True  True  True  True  True  True  True  True]]\n"
     ]
    }
   ],
   "source": [
    "seq = tet.encode_intensities_to_seq(np.array([0.5, 0.5, 0.5, 0.5]))"
   ]
  },
  {
   "cell_type": "code",
   "execution_count": 73,
   "metadata": {},
   "outputs": [
    {
     "name": "stdout",
     "output_type": "stream",
     "text": [
      "[[False False False  True  True  True  True  True]\n",
      " [False False False  True  True  True  True  True]\n",
      " [False False False  True  True  True  True  True]\n",
      " [False False False  True  True  True  True  True]]\n",
      "[[31]\n",
      " [31]\n",
      " [31]\n",
      " [31]]\n"
     ]
    },
    {
     "data": {
      "text/plain": [
       "array([[ 0.49206349],\n",
       "       [ 0.49206349],\n",
       "       [ 0.49206349],\n",
       "       [ 0.49206349]])"
      ]
     },
     "execution_count": 73,
     "metadata": {},
     "output_type": "execute_result"
    }
   ],
   "source": [
    "tet.decode_seq_to_intensities(seq)"
   ]
  },
  {
   "cell_type": "code",
   "execution_count": null,
   "metadata": {},
   "outputs": [],
   "source": []
  }
 ],
 "metadata": {
  "kernelspec": {
   "display_name": "chromalab",
   "language": "python",
   "name": "python3"
  },
  "language_info": {
   "codemirror_mode": {
    "name": "ipython",
    "version": 3
   },
   "file_extension": ".py",
   "mimetype": "text/x-python",
   "name": "python",
   "nbconvert_exporter": "python",
   "pygments_lexer": "ipython3",
   "version": "3.11.9"
  }
 },
 "nbformat": 4,
 "nbformat_minor": 2
}
