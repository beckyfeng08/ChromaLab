{
 "cells": [
  {
   "cell_type": "code",
   "execution_count": 1,
   "metadata": {},
   "outputs": [],
   "source": [
    "import csv\n",
    "import numpy as np\n",
    "import matplotlib.pyplot as plt\n",
    "from tqdm import tqdm\n",
    "from colour import wavelength_to_XYZ"
   ]
  },
  {
   "cell_type": "code",
   "execution_count": 102,
   "metadata": {},
   "outputs": [],
   "source": [
    "from chromalab.observer import Observer, Cone, getsRGBfromWavelength, transformToDisplayChromaticity\n",
    "from chromalab.led import LEDSequence, LEDS"
   ]
  },
  {
   "cell_type": "code",
   "execution_count": 5,
   "metadata": {},
   "outputs": [],
   "source": [
    "%load_ext autoreload\n",
    "%autoreload 2\n",
    "%matplotlib ipympl"
   ]
  },
  {
   "cell_type": "code",
   "execution_count": 7,
   "metadata": {},
   "outputs": [],
   "source": [
    "tet = LEDSequence.TetrachromaticDisplay()"
   ]
  },
  {
   "cell_type": "code",
   "execution_count": 99,
   "metadata": {},
   "outputs": [
    {
     "name": "stdout",
     "output_type": "stream",
     "text": [
      "[[ 11 255 255]\n",
      " [ 15 255 255]]\n"
     ]
    }
   ],
   "source": [
    "seq = tet.encode_intensities_to_seq(np.array([[0.5, 0.25, 0.5, 0.5], [0.5, 0.5, 0.5, 0.5]]))\n",
    "print(seq)"
   ]
  },
  {
   "cell_type": "code",
   "execution_count": 100,
   "metadata": {},
   "outputs": [
    {
     "data": {
      "text/plain": [
       "array([[ 0.49206349,  0.23809524,  0.49206349,  0.49206349],\n",
       "       [ 0.49206349,  0.49206349,  0.49206349,  0.49206349]])"
      ]
     },
     "execution_count": 100,
     "metadata": {},
     "output_type": "execute_result"
    }
   ],
   "source": [
    "tet.decode_seq_to_intensities(seq)"
   ]
  },
  {
   "cell_type": "code",
   "execution_count": 105,
   "metadata": {},
   "outputs": [],
   "source": [
    "six_prim = LEDSequence(leds=[LEDS.RED, LEDS.GREEN, LEDS.BLUE, LEDS.CYAN, LEDS.YELLOW, LEDS.SBLUE], sequence=[LEDS.RED, LEDS.GREEN, LEDS.BLUE, LEDS.CYAN, LEDS.YELLOW, LEDS.SBLUE] * 4)"
   ]
  },
  {
   "cell_type": "code",
   "execution_count": 136,
   "metadata": {},
   "outputs": [
    {
     "name": "stdout",
     "output_type": "stream",
     "text": [
      "[[ 39 149  87]\n",
      " [193 218 210]]\n",
      "[[ 0.26666667  0.46666667  0.8         0.06666667  0.2         1.        ]\n",
      " [ 0.66666667  0.86666667  0.4         0.2         0.26666667  0.4       ]]\n"
     ]
    }
   ],
   "source": [
    "intensities = np.array([[0.3, 0.5, 0.8, 0.1, 0.2, 1], [0.7, 0.9, 0.4, 0.2, 0.3, 0.4]])\n",
    "# intensities = np.ones((2, 6)) * 0.8\n",
    "encoded = six_prim.encode_intensities_to_seq(intensities)\n",
    "print(encoded)\n",
    "decoded = six_prim.decode_seq_to_intensities(encoded)\n",
    "print(decoded)"
   ]
  },
  {
   "cell_type": "code",
   "execution_count": null,
   "metadata": {},
   "outputs": [],
   "source": []
  }
 ],
 "metadata": {
  "kernelspec": {
   "display_name": "chromalab",
   "language": "python",
   "name": "python3"
  },
  "language_info": {
   "codemirror_mode": {
    "name": "ipython",
    "version": 3
   },
   "file_extension": ".py",
   "mimetype": "text/x-python",
   "name": "python",
   "nbconvert_exporter": "python",
   "pygments_lexer": "ipython3",
   "version": "3.11.9"
  }
 },
 "nbformat": 4,
 "nbformat_minor": 2
}
