{
 "cells": [
  {
   "cell_type": "code",
   "execution_count": 1,
   "metadata": {},
   "outputs": [],
   "source": [
    "import csv\n",
    "import numpy as np\n",
    "import matplotlib.pyplot as plt\n",
    "from tqdm import tqdm\n",
    "import os"
   ]
  },
  {
   "cell_type": "code",
   "execution_count": 2,
   "metadata": {},
   "outputs": [
    {
     "name": "stderr",
     "output_type": "stream",
     "text": [
      "objc[78587]: Class GLFWApplicationDelegate is implemented in both /Users/jessicalee/anaconda3/envs/chromalab/lib/python3.11/site-packages/open3d/cpu/pybind.cpython-311-darwin.so (0x2a67c2e28) and /Users/jessicalee/anaconda3/envs/chromalab/lib/python3.11/site-packages/polyscope_bindings.cpython-311-darwin.so (0x2c1e366f0). One of the two will be used. Which one is undefined.\n",
      "objc[78587]: Class GLFWWindowDelegate is implemented in both /Users/jessicalee/anaconda3/envs/chromalab/lib/python3.11/site-packages/open3d/cpu/pybind.cpython-311-darwin.so (0x2a67c2db0) and /Users/jessicalee/anaconda3/envs/chromalab/lib/python3.11/site-packages/polyscope_bindings.cpython-311-darwin.so (0x2c1e36718). One of the two will be used. Which one is undefined.\n",
      "objc[78587]: Class GLFWContentView is implemented in both /Users/jessicalee/anaconda3/envs/chromalab/lib/python3.11/site-packages/open3d/cpu/pybind.cpython-311-darwin.so (0x2a67c2e50) and /Users/jessicalee/anaconda3/envs/chromalab/lib/python3.11/site-packages/polyscope_bindings.cpython-311-darwin.so (0x2c1e36768). One of the two will be used. Which one is undefined.\n",
      "objc[78587]: Class GLFWWindow is implemented in both /Users/jessicalee/anaconda3/envs/chromalab/lib/python3.11/site-packages/open3d/cpu/pybind.cpython-311-darwin.so (0x2a67c2ec8) and /Users/jessicalee/anaconda3/envs/chromalab/lib/python3.11/site-packages/polyscope_bindings.cpython-311-darwin.so (0x2c1e367e0). One of the two will be used. Which one is undefined.\n"
     ]
    }
   ],
   "source": [
    "from chromalab.observer import Observer, Cone, transformToChromaticity, getHeringMatrix\n",
    "from chromalab.spectra import Spectra, Illuminant, convert_refs_to_spectras\n",
    "from chromalab.maxbasis import MaxBasis\n",
    "from chromalab.inks import InkGamut\n",
    "from chromalab.visualizer import PSWrapper, DisplayBasisType, exportAndPlay, easeFunction\n",
    "from chromalab.animation import Animation"
   ]
  },
  {
   "cell_type": "code",
   "execution_count": 3,
   "metadata": {},
   "outputs": [],
   "source": [
    "%load_ext autoreload\n",
    "%autoreload 2\n",
    "%matplotlib ipympl"
   ]
  },
  {
   "cell_type": "code",
   "execution_count": 4,
   "metadata": {},
   "outputs": [],
   "source": [
    "wavelengths1 = np.arange(390, 701, 1)\n",
    "wavelengths5 = np.arange(400, 701, 5)\n",
    "wavelengths10 = np.arange(400, 701, 10)"
   ]
  },
  {
   "cell_type": "code",
   "execution_count": 5,
   "metadata": {},
   "outputs": [],
   "source": [
    "wavelengths = np.arange(400, 710, 10)\n",
    "d65 = Illuminant.get(\"D65\")"
   ]
  },
  {
   "cell_type": "code",
   "execution_count": 6,
   "metadata": {},
   "outputs": [
    {
     "name": "stderr",
     "output_type": "stream",
     "text": [
      "100%|██████████| 28/28 [00:00<00:00, 855.89it/s]\n",
      "/Users/jessicalee/Projects/generalized-colorimetry/code/ChromaLab/chromalab/spectra.py:36: UserWarning: Data has values not between 0 and 1. Clipping.\n",
      "  warnings.warn(\"Data has values not between 0 and 1. Clipping.\")\n"
     ]
    },
    {
     "name": "stdout",
     "output_type": "stream",
     "text": [
      "[polyscope] Backend: openGL3_glfw -- Loaded openGL version: 4.1 Metal - 83.1\n"
     ]
    },
    {
     "name": "stderr",
     "output_type": "stream",
     "text": [
      "100%|██████████| 930/930 [00:02<00:00, 432.47it/s]\n"
     ]
    }
   ],
   "source": [
    "trichromat = Observer.trichromat(wavelengths=wavelengths, illuminant=d65) \n",
    "maxbasis = MaxBasis(trichromat, verbose=True)\n",
    "viz = PSWrapper(trichromat, maxbasis, itemsToDisplay=PSWrapper.ItemsToDisplay.BOTH, displayBasis=DisplayBasisType.MAXBASIS, verbose=True)"
   ]
  },
  {
   "cell_type": "code",
   "execution_count": 7,
   "metadata": {},
   "outputs": [],
   "source": [
    "cmy_primaries_dict = {}\n",
    "with open(f'../data/nix/PrintColors/000.csv') as csvf:\n",
    "    spamreader = csv.reader(csvf, delimiter=';')\n",
    "    for i, row in enumerate(spamreader): \n",
    "        if i == 4:\n",
    "            color_data = np.array(row[33:],dtype=float)\n",
    "            spectra = Spectra(data=color_data, wavelengths=wavelengths)\n",
    "            cmy_primaries_dict[\"000\"] = spectra\n",
    "paper = cmy_primaries_dict[\"000\"]"
   ]
  },
  {
   "cell_type": "code",
   "execution_count": 8,
   "metadata": {},
   "outputs": [],
   "source": [
    "names = [\"mesh\", \"lattice\"]\n",
    "# render all objects\n",
    "viz.renderObjectsPS(mesh_alpha=0.8, lattice_alpha=1)\n",
    "\n",
    "# transform to correct dir\n",
    "mat = np.eye(4)\n",
    "mat[:3, :3] = viz.HMatrix[::-1]\n",
    "viz.ps.get_surface_mesh(\"mesh\").set_transform(mat)\n",
    "viz.ps.get_surface_mesh(\"lattice\").set_transform(mat)"
   ]
  },
  {
   "cell_type": "code",
   "execution_count": 28,
   "metadata": {},
   "outputs": [
    {
     "name": "stderr",
     "output_type": "stream",
     "text": [
      "Generating point cloud: 1it [00:00, 3819.95it/s]\n"
     ]
    }
   ],
   "source": [
    "# Ideal Printer Gamut\n",
    "refs, discrete_points, rgbs, lines = maxbasis.getDiscreteRepresentation()\n",
    "cvpy_idxs = [-2, -3, -4]\n",
    "collection = list(np.array(refs)[cvpy_idxs])\n",
    "paper = Spectra(np.stack([wavelengths, np.ones_like(cmy_primaries_dict[\"000\"].data)], axis=1))\n",
    "gamut = InkGamut(collection, paper, illuminant=d65)\n",
    "point_cloud, perc = gamut.get_point_cloud(trichromat, stepsize=0.5)\n",
    "names += viz.renderPrinterGamutConvexHull(\"cmy\", point_cloud, mat=mat)"
   ]
  },
  {
   "cell_type": "code",
   "execution_count": 47,
   "metadata": {},
   "outputs": [
    {
     "data": {
      "text/plain": [
       "['mesh',\n",
       " 'lattice',\n",
       " 'cmy_printer_mesh',\n",
       " 'cmy_printer_mesh',\n",
       " 'cmy_printer_mesh',\n",
       " 'cmy_printer_mesh']"
      ]
     },
     "execution_count": 47,
     "metadata": {},
     "output_type": "execute_result"
    }
   ],
   "source": [
    "names"
   ]
  },
  {
   "cell_type": "code",
   "execution_count": 58,
   "metadata": {},
   "outputs": [],
   "source": [
    "long_frames = 180\n",
    "r = 4\n",
    "theta = 65\n",
    "final_phi = 360\n",
    "offset = 0\n",
    "filename = \"./outputs/CMY_Gamut.mp4\"\n",
    "origin = np.array([0, 0, np.sqrt(3)/2])\n",
    "\n",
    "types =  ['surface_mesh', 'surface_mesh', 'surface_mesh', 'surface_mesh', 'point_cloud', 'surface_mesh']\n",
    "map_name_type = {name:typ for name, typ in zip(names, types)}\n",
    "anim = Animation(viz, map_name_type)\n",
    "anim.ResetTransparencies()\n",
    "viz.ps.get_surface_mesh(\"mesh\").set_transparency(0.6)\n",
    "viz.ps.get_surface_mesh(\"cmy_printer_mesh\").set_transparency(0.2)\n",
    "viz.ps.get_surface_mesh(\"cmy_printer_mesh\").set_enabled(False)\n",
    "viz.ps.get_surface_mesh(\"lattice\").set_transparency(0.2)\n",
    "viz.ps.get_surface_mesh(\"lattice\").set_enabled(False)"
   ]
  },
  {
   "cell_type": "code",
   "execution_count": 59,
   "metadata": {},
   "outputs": [
    {
     "name": "stderr",
     "output_type": "stream",
     "text": [
      "ffmpeg version 7.0.1 Copyright (c) 2000-2024 the FFmpeg developers\n",
      "  built with Apple clang version 15.0.0 (clang-1500.1.0.2.5)\n",
      "  configuration: --prefix=/opt/homebrew/Cellar/ffmpeg/7.0.1 --enable-shared --enable-pthreads --enable-version3 --cc=clang --host-cflags= --host-ldflags='-Wl,-ld_classic' --enable-ffplay --enable-gnutls --enable-gpl --enable-libaom --enable-libaribb24 --enable-libbluray --enable-libdav1d --enable-libharfbuzz --enable-libjxl --enable-libmp3lame --enable-libopus --enable-librav1e --enable-librist --enable-librubberband --enable-libsnappy --enable-libsrt --enable-libssh --enable-libsvtav1 --enable-libtesseract --enable-libtheora --enable-libvidstab --enable-libvmaf --enable-libvorbis --enable-libvpx --enable-libwebp --enable-libx264 --enable-libx265 --enable-libxml2 --enable-libxvid --enable-lzma --enable-libfontconfig --enable-libfreetype --enable-frei0r --enable-libass --enable-libopencore-amrnb --enable-libopencore-amrwb --enable-libopenjpeg --enable-libspeex --enable-libsoxr --enable-libzmq --enable-libzimg --disable-libjack --disable-indev=jack --enable-videotoolbox --enable-audiotoolbox --enable-neon\n",
      "  libavutil      59.  8.100 / 59.  8.100\n",
      "  libavcodec     61.  3.100 / 61.  3.100\n",
      "  libavformat    61.  1.100 / 61.  1.100\n",
      "  libavdevice    61.  1.100 / 61.  1.100\n",
      "  libavfilter    10.  1.100 / 10.  1.100\n",
      "  libswscale      8.  1.100 /  8.  1.100\n",
      "  libswresample   5.  1.100 /  5.  1.100\n",
      "  libpostproc    58.  1.100 / 58.  1.100\n",
      "Input #0, rawvideo, from 'fd:':\n",
      "  Duration: N/A, start: 0.000000, bitrate: 3594240 kb/s\n",
      "  Stream #0:0: Video: rawvideo (RGBA / 0x41424752), rgba, 2600x1440, 3594240 kb/s, 30 tbr, 30 tbn\n",
      "Stream mapping:\n",
      "  Stream #0:0 -> #0:0 (rawvideo (native) -> h264 (libx264))\n",
      "[libx264 @ 0x128f087b0] using cpu capabilities: ARMv8 NEON\n",
      "[libx264 @ 0x128f087b0] profile High, level 5.0, 4:2:0, 8-bit\n",
      "[libx264 @ 0x128f087b0] 264 - core 164 r3108 31e19f9 - H.264/MPEG-4 AVC codec - Copyleft 2003-2023 - http://www.videolan.org/x264.html - options: cabac=1 ref=2 deblock=1:0:0 analyse=0x3:0x113 me=hex subme=6 psy=1 psy_rd=1.00:0.00 mixed_ref=1 me_range=16 chroma_me=1 trellis=1 8x8dct=1 cqm=0 deadzone=21,11 fast_pskip=1 chroma_qp_offset=-2 threads=18 lookahead_threads=3 sliced_threads=0 nr=0 decimate=1 interlaced=0 bluray_compat=0 constrained_intra=0 bframes=3 b_pyramid=2 b_adapt=1 b_bias=0 direct=1 weightb=1 open_gop=0 weightp=1 keyint=250 keyint_min=25 scenecut=40 intra_refresh=0 rc_lookahead=30 rc=crf mbtree=1 crf=21.0 qcomp=0.60 qpmin=0 qpmax=69 qpstep=4 ip_ratio=1.40 aq=1:1.00\n",
      "Output #0, mp4, to './outputs/CMY_Gamut.mp4':\n",
      "  Metadata:\n",
      "    encoder         : Lavf61.1.100\n",
      "  Stream #0:0: Video: h264 (avc1 / 0x31637661), yuv420p(progressive), 2600x1440, q=2-31, 30 fps, 15360 tbn\n",
      "      Metadata:\n",
      "        encoder         : Lavc61.3.100 libx264\n",
      "      Side data:\n",
      "        cpb: bitrate max/min/avg: 0/0/0 buffer size: 0 vbv_delay: N/A\n",
      "[out#0/mp4 @ 0x128f075c0] video:1577KiB audio:0KiB subtitle:0KiB other streams:0KiB global headers:0KiB muxing overhead: 0.254161%\n",
      "frame=  270 fps= 76 q=-1.0 Lsize=    1581KiB time=00:00:08.93 bitrate=1449.7kbits/s speed= 2.5x    \n",
      "[libx264 @ 0x128f087b0] frame I:2     Avg QP:15.26  size: 17662\n",
      "[libx264 @ 0x128f087b0] frame P:68    Avg QP:20.68  size:  9908\n",
      "[libx264 @ 0x128f087b0] frame B:200   Avg QP:21.23  size:  4525\n",
      "[libx264 @ 0x128f087b0] consecutive B-frames:  1.1%  0.0%  1.1% 97.8%\n",
      "[libx264 @ 0x128f087b0] mb I  I16..4: 35.9% 61.5%  2.6%\n",
      "[libx264 @ 0x128f087b0] mb P  I16..4:  1.7%  3.2%  0.5%  P16..4:  4.9%  1.5%  0.7%  0.0%  0.0%    skip:87.5%\n",
      "[libx264 @ 0x128f087b0] mb B  I16..4:  0.9%  0.2%  0.0%  B16..8:  5.2%  1.9%  0.2%  direct: 1.6%  skip:90.0%  L0:46.2% L1:48.5% BI: 5.3%\n",
      "[libx264 @ 0x128f087b0] 8x8 transform intra:48.0% inter:33.5%\n",
      "[libx264 @ 0x128f087b0] coded y,uvDC,uvAC intra: 9.6% 42.7% 5.2% inter: 0.6% 3.9% 0.1%\n",
      "[libx264 @ 0x128f087b0] i16 v,h,dc,p: 40% 22%  9% 28%\n",
      "[libx264 @ 0x128f087b0] i8 v,h,dc,ddl,ddr,vr,hd,vl,hu: 26% 14% 41%  3%  6%  3%  4%  2%  2%\n",
      "[libx264 @ 0x128f087b0] i4 v,h,dc,ddl,ddr,vr,hd,vl,hu: 25% 11% 32%  6% 11%  7%  4%  3%  1%\n",
      "[libx264 @ 0x128f087b0] i8c dc,h,v,p: 67%  8% 16%  8%\n",
      "[libx264 @ 0x128f087b0] Weighted P-Frames: Y:0.0% UV:0.0%\n",
      "[libx264 @ 0x128f087b0] ref P L0: 75.8% 24.2%\n",
      "[libx264 @ 0x128f087b0] ref B L0: 85.4% 14.6%\n",
      "[libx264 @ 0x128f087b0] ref B L1: 95.7%  4.3%\n",
      "[libx264 @ 0x128f087b0] kb/s:1434.70\n"
     ]
    }
   ],
   "source": [
    "fd = viz.openVideo(filename)\n",
    "rotAroundZ, phi = anim.RotateAroundZ(long_frames//2, r, theta, [0, final_phi//2], lookAt=origin)\n",
    "offset = viz.renderVideo(rotAroundZ, fd, long_frames//2, offset)\n",
    "\n",
    "rotAroundZ, phi = anim.RotateAroundZ(long_frames//2, r, theta, [phi, final_phi], lookAt=origin)\n",
    "fadeInPrinter = anim.FadeIn(\"cmy_printer_mesh\", long_frames//2, [0.2, 1])\n",
    "fadeInLattice= anim.FadeIn(\"lattice\", long_frames//2, [0.2, 1])\n",
    "concatAll = anim.concatFns([rotAroundZ, fadeInPrinter, fadeInLattice])\n",
    "\n",
    "viz.ps.get_surface_mesh(\"lattice\").set_enabled(True)\n",
    "viz.ps.get_surface_mesh(\"cmy_printer_mesh\").set_enabled(True)\n",
    "offset = viz.renderVideo(concatAll, fd, long_frames//2, offset)\n",
    "\n",
    "rotAroundZ, phi = anim.RotateAroundZ(long_frames//2, r, theta, [phi, final_phi//2], lookAt=origin)\n",
    "offset = viz.renderVideo(rotAroundZ, fd, long_frames//2, offset)\n",
    "\n",
    "viz.closeVideo(fd)"
   ]
  },
  {
   "cell_type": "code",
   "execution_count": null,
   "metadata": {},
   "outputs": [],
   "source": []
  }
 ],
 "metadata": {
  "kernelspec": {
   "display_name": "chromalab",
   "language": "python",
   "name": "python3"
  },
  "language_info": {
   "codemirror_mode": {
    "name": "ipython",
    "version": 3
   },
   "file_extension": ".py",
   "mimetype": "text/x-python",
   "name": "python",
   "nbconvert_exporter": "python",
   "pygments_lexer": "ipython3",
   "version": "3.11.9"
  }
 },
 "nbformat": 4,
 "nbformat_minor": 2
}
