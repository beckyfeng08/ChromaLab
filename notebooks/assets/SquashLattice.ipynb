{
 "cells": [
  {
   "cell_type": "code",
   "execution_count": 1,
   "metadata": {},
   "outputs": [],
   "source": [
    "import csv\n",
    "import numpy as np\n",
    "import matplotlib.pyplot as plt\n",
    "from tqdm import tqdm"
   ]
  },
  {
   "cell_type": "code",
   "execution_count": 2,
   "metadata": {},
   "outputs": [
    {
     "name": "stderr",
     "output_type": "stream",
     "text": [
      "objc[81680]: Class GLFWApplicationDelegate is implemented in both /Users/jessicalee/anaconda3/envs/chromalab/lib/python3.11/site-packages/open3d/cpu/pybind.cpython-311-darwin.so (0x2ba386e28) and /Users/jessicalee/anaconda3/envs/chromalab/lib/python3.11/site-packages/polyscope_bindings.cpython-311-darwin.so (0x2d66beea0). One of the two will be used. Which one is undefined.\n",
      "objc[81680]: Class GLFWWindowDelegate is implemented in both /Users/jessicalee/anaconda3/envs/chromalab/lib/python3.11/site-packages/open3d/cpu/pybind.cpython-311-darwin.so (0x2ba386db0) and /Users/jessicalee/anaconda3/envs/chromalab/lib/python3.11/site-packages/polyscope_bindings.cpython-311-darwin.so (0x2d66beec8). One of the two will be used. Which one is undefined.\n",
      "objc[81680]: Class GLFWContentView is implemented in both /Users/jessicalee/anaconda3/envs/chromalab/lib/python3.11/site-packages/open3d/cpu/pybind.cpython-311-darwin.so (0x2ba386e50) and /Users/jessicalee/anaconda3/envs/chromalab/lib/python3.11/site-packages/polyscope_bindings.cpython-311-darwin.so (0x2d66bef18). One of the two will be used. Which one is undefined.\n",
      "objc[81680]: Class GLFWWindow is implemented in both /Users/jessicalee/anaconda3/envs/chromalab/lib/python3.11/site-packages/open3d/cpu/pybind.cpython-311-darwin.so (0x2ba386ec8) and /Users/jessicalee/anaconda3/envs/chromalab/lib/python3.11/site-packages/polyscope_bindings.cpython-311-darwin.so (0x2d66bef90). One of the two will be used. Which one is undefined.\n"
     ]
    }
   ],
   "source": [
    "from chromalab.observer import Observer, Cone, transformToChromaticity, getHeringMatrix\n",
    "from chromalab.spectra import Spectra, Illuminant, convert_refs_to_spectras\n",
    "from chromalab.maxbasis import MaxBasis\n",
    "from chromalab.visualizer import PSWrapper, DisplayBasisType, exportAndPlay, easeFunction"
   ]
  },
  {
   "cell_type": "code",
   "execution_count": 3,
   "metadata": {},
   "outputs": [],
   "source": [
    "%load_ext autoreload\n",
    "%autoreload 2\n",
    "%matplotlib ipympl"
   ]
  },
  {
   "cell_type": "code",
   "execution_count": 4,
   "metadata": {},
   "outputs": [],
   "source": [
    "wavelengths1 = np.arange(390, 701, 1)\n",
    "wavelengths5 = np.arange(400, 701, 5)\n",
    "wavelengths10 = np.arange(400, 701, 10)"
   ]
  },
  {
   "cell_type": "code",
   "execution_count": 5,
   "metadata": {},
   "outputs": [],
   "source": [
    "wavelengths = np.arange(400, 710, 10)\n",
    "d65 = Illuminant.get(\"D65\")"
   ]
  },
  {
   "cell_type": "code",
   "execution_count": 6,
   "metadata": {},
   "outputs": [
    {
     "name": "stderr",
     "output_type": "stream",
     "text": [
      "100%|██████████| 58/58 [00:00<00:00, 619.95it/s]\n",
      "/Users/jessicalee/Projects/generalized-colorimetry/code/ChromaLab/chromalab/spectra.py:36: UserWarning: Data has values not between 0 and 1. Clipping.\n",
      "  warnings.warn(\"Data has values not between 0 and 1. Clipping.\")\n"
     ]
    },
    {
     "name": "stdout",
     "output_type": "stream",
     "text": [
      "[polyscope] Backend: openGL3_glfw -- Loaded openGL version: 4.1 Metal - 83.1\n"
     ]
    },
    {
     "name": "stderr",
     "output_type": "stream",
     "text": [
      "100%|██████████| 3660/3660 [00:08<00:00, 418.94it/s]\n"
     ]
    }
   ],
   "source": [
    "trichromat = Observer.trichromat(wavelengths=wavelengths5, illuminant=d65) \n",
    "maxbasis_tri = MaxBasis(trichromat, verbose=True)\n",
    "viz_tri = PSWrapper(trichromat, maxbasis_tri, itemsToDisplay=PSWrapper.ItemsToDisplay.MESH, displayBasis=DisplayBasisType.MAXBASIS, verbose=True)"
   ]
  },
  {
   "cell_type": "code",
   "execution_count": 7,
   "metadata": {},
   "outputs": [],
   "source": [
    "dirname = \"./outputs/trichromat_project\"\n",
    "\n",
    "viz_tri.ps.set_ground_plane_mode(\"none\")\n"
   ]
  },
  {
   "cell_type": "code",
   "execution_count": 8,
   "metadata": {},
   "outputs": [],
   "source": [
    "# def doNothing(j):\n",
    "#     pass\n",
    "\n",
    "# viz_tri.ps.set_ground_plane_mode(\"none\")\n",
    "# dirname = \"./outputs/trichromat_animation_through\"\n",
    "# rots_per_sec = 1\n",
    "# r = 4\n",
    "# frame_count = frame_count = int(1/rots_per_sec * 30)\n",
    "# theta1 = 65\n",
    "# theta2 = 90\n",
    "\n",
    "# viz_tri.transformLMStoRGB(dirname, rots_per_sec, r, theta1, 0.8)\n",
    "# ts = (theta2 -theta1)*easeFunction(np.arange(0, 1, 1/30)) + theta1\n",
    "# viz_tri.renderTheta(doNothing, dirname, rots_per_sec, r, ts, 0, look_at_origin=[0, 0, np.sqrt(3)/2], video_save_offset=3)\n",
    "# viz_tri.assetProjectChromaticity(dirname, rots_per_sec, 1, r, theta2, 0.8, video_save_offset=4)\n",
    "# exportAndPlay(dirname)"
   ]
  },
  {
   "cell_type": "code",
   "execution_count": 9,
   "metadata": {},
   "outputs": [
    {
     "name": "stderr",
     "output_type": "stream",
     "text": [
      "ffmpeg version 7.0.1 Copyright (c) 2000-2024 the FFmpeg developers\n",
      "  built with Apple clang version 15.0.0 (clang-1500.1.0.2.5)\n",
      "  configuration: --prefix=/opt/homebrew/Cellar/ffmpeg/7.0.1 --enable-shared --enable-pthreads --enable-version3 --cc=clang --host-cflags= --host-ldflags='-Wl,-ld_classic' --enable-ffplay --enable-gnutls --enable-gpl --enable-libaom --enable-libaribb24 --enable-libbluray --enable-libdav1d --enable-libharfbuzz --enable-libjxl --enable-libmp3lame --enable-libopus --enable-librav1e --enable-librist --enable-librubberband --enable-libsnappy --enable-libsrt --enable-libssh --enable-libsvtav1 --enable-libtesseract --enable-libtheora --enable-libvidstab --enable-libvmaf --enable-libvorbis --enable-libvpx --enable-libwebp --enable-libx264 --enable-libx265 --enable-libxml2 --enable-libxvid --enable-lzma --enable-libfontconfig --enable-libfreetype --enable-frei0r --enable-libass --enable-libopencore-amrnb --enable-libopencore-amrwb --enable-libopenjpeg --enable-libspeex --enable-libsoxr --enable-libzmq --enable-libzimg --disable-libjack --disable-indev=jack --enable-videotoolbox --enable-audiotoolbox --enable-neon\n",
      "  libavutil      59.  8.100 / 59.  8.100\n",
      "  libavcodec     61.  3.100 / 61.  3.100\n",
      "  libavformat    61.  1.100 / 61.  1.100\n",
      "  libavdevice    61.  1.100 / 61.  1.100\n",
      "  libavfilter    10.  1.100 / 10.  1.100\n",
      "  libswscale      8.  1.100 /  8.  1.100\n",
      "  libswresample   5.  1.100 /  5.  1.100\n",
      "  libpostproc    58.  1.100 / 58.  1.100\n",
      "Input #0, image2, from './outputs/trichromat_project/cropped_frame_%03d.png':\n",
      "  Duration: 00:00:06.67, start: 0.000000, bitrate: N/A\n",
      "  Stream #0:0: Video: png, rgb24(pc, gbr/unknown/unknown), 1440x1440, 30 fps, 30 tbr, 30 tbn\n",
      "Stream mapping:\n",
      "  Stream #0:0 -> #0:0 (png (native) -> h264 (libx264))\n",
      "Press [q] to stop, [?] for help\n",
      "[libx264 @ 0x138f09bb0] using cpu capabilities: ARMv8 NEON\n",
      "[libx264 @ 0x138f09bb0] profile High, level 4.0, 4:2:0, 8-bit\n",
      "[libx264 @ 0x138f09bb0] 264 - core 164 r3108 31e19f9 - H.264/MPEG-4 AVC codec - Copyleft 2003-2023 - http://www.videolan.org/x264.html - options: cabac=1 ref=3 deblock=1:0:0 analyse=0x3:0x113 me=hex subme=7 psy=1 psy_rd=1.00:0.00 mixed_ref=1 me_range=16 chroma_me=1 trellis=1 8x8dct=1 cqm=0 deadzone=21,11 fast_pskip=1 chroma_qp_offset=-2 threads=18 lookahead_threads=3 sliced_threads=0 nr=0 decimate=1 interlaced=0 bluray_compat=0 constrained_intra=0 bframes=3 b_pyramid=2 b_adapt=1 b_bias=0 direct=1 weightb=1 open_gop=0 weightp=2 keyint=250 keyint_min=25 scenecut=40 intra_refresh=0 rc_lookahead=40 rc=crf mbtree=1 crf=23.0 qcomp=0.60 qpmin=0 qpmax=69 qpstep=4 ip_ratio=1.40 aq=1:1.00\n",
      "Output #0, mp4, to './outputs/trichromat_project.mp4':\n",
      "  Metadata:\n",
      "    encoder         : Lavf61.1.100\n",
      "  Stream #0:0: Video: h264 (avc1 / 0x31637661), yuv420p(progressive), 1440x1440, q=2-31, 30 fps, 15360 tbn\n",
      "      Metadata:\n",
      "        encoder         : Lavc61.3.100 libx264\n",
      "      Side data:\n",
      "        cpb: bitrate max/min/avg: 0/0/0 buffer size: 0 vbv_delay: N/A\n",
      "[out#0/mp4 @ 0x138f081d0] video:288KiB audio:0KiB subtitle:0KiB other streams:0KiB global headers:0KiB muxing overhead: 1.101045%\n",
      "frame=  200 fps=0.0 q=-1.0 Lsize=     292KiB time=00:00:06.60 bitrate= 361.8kbits/s speed=7.16x    \n",
      "[libx264 @ 0x138f09bb0] frame I:1     Avg QP:16.74  size:  7969\n",
      "[libx264 @ 0x138f09bb0] frame P:52    Avg QP:16.67  size:  2751\n",
      "[libx264 @ 0x138f09bb0] frame B:147   Avg QP:21.00  size:   977\n",
      "[libx264 @ 0x138f09bb0] consecutive B-frames:  0.5%  4.0%  1.5% 94.0%\n",
      "[libx264 @ 0x138f09bb0] mb I  I16..4: 36.6% 61.6%  1.8%\n",
      "[libx264 @ 0x138f09bb0] mb P  I16..4:  3.5%  0.8%  0.1%  P16..4:  5.1%  0.9%  0.5%  0.0%  0.0%    skip:89.1%\n",
      "[libx264 @ 0x138f09bb0] mb B  I16..4:  0.1%  0.0%  0.0%  B16..8:  4.2%  0.5%  0.0%  direct: 0.7%  skip:94.4%  L0:38.8% L1:59.8% BI: 1.3%\n",
      "[libx264 @ 0x138f09bb0] 8x8 transform intra:29.7% inter:52.4%\n",
      "[libx264 @ 0x138f09bb0] coded y,uvDC,uvAC intra: 2.2% 43.5% 4.7% inter: 0.2% 2.6% 0.2%\n",
      "[libx264 @ 0x138f09bb0] i16 v,h,dc,p: 18% 38%  1% 44%\n",
      "[libx264 @ 0x138f09bb0] i8 v,h,dc,ddl,ddr,vr,hd,vl,hu: 30% 23% 39%  0%  3%  2%  3%  0%  0%\n",
      "[libx264 @ 0x138f09bb0] i4 v,h,dc,ddl,ddr,vr,hd,vl,hu: 11% 37% 41%  1%  3%  2%  2%  1%  3%\n",
      "[libx264 @ 0x138f09bb0] i8c dc,h,v,p: 32%  9%  4% 56%\n",
      "[libx264 @ 0x138f09bb0] Weighted P-Frames: Y:0.0% UV:0.0%\n",
      "[libx264 @ 0x138f09bb0] ref P L0: 76.0%  2.8% 15.4%  5.8%\n",
      "[libx264 @ 0x138f09bb0] ref B L0: 85.1% 13.2%  1.7%\n",
      "[libx264 @ 0x138f09bb0] ref B L1: 95.2%  4.8%\n",
      "[libx264 @ 0x138f09bb0] kb/s:353.49\n"
     ]
    }
   ],
   "source": [
    "exportAndPlay(dirname)"
   ]
  },
  {
   "cell_type": "code",
   "execution_count": null,
   "metadata": {},
   "outputs": [],
   "source": []
  }
 ],
 "metadata": {
  "kernelspec": {
   "display_name": "chromalab",
   "language": "python",
   "name": "python3"
  },
  "language_info": {
   "codemirror_mode": {
    "name": "ipython",
    "version": 3
   },
   "file_extension": ".py",
   "mimetype": "text/x-python",
   "name": "python",
   "nbconvert_exporter": "python",
   "pygments_lexer": "ipython3",
   "version": "3.11.9"
  }
 },
 "nbformat": 4,
 "nbformat_minor": 2
}
