{
 "cells": [
  {
   "cell_type": "code",
   "execution_count": 1,
   "metadata": {},
   "outputs": [],
   "source": [
    "import csv\n",
    "import numpy as np\n",
    "import matplotlib.pyplot as plt\n",
    "from tqdm import tqdm\n",
    "import os"
   ]
  },
  {
   "cell_type": "code",
   "execution_count": 2,
   "metadata": {},
   "outputs": [
    {
     "name": "stderr",
     "output_type": "stream",
     "text": [
      "objc[5740]: Class GLFWApplicationDelegate is implemented in both /Users/jessicalee/anaconda3/envs/chromalab/lib/python3.11/site-packages/open3d/cpu/pybind.cpython-311-darwin.so (0x2ba386e28) and /Users/jessicalee/anaconda3/envs/chromalab/lib/python3.11/site-packages/polyscope_bindings.cpython-311-darwin.so (0x2d62366f0). One of the two will be used. Which one is undefined.\n",
      "objc[5740]: Class GLFWWindowDelegate is implemented in both /Users/jessicalee/anaconda3/envs/chromalab/lib/python3.11/site-packages/open3d/cpu/pybind.cpython-311-darwin.so (0x2ba386db0) and /Users/jessicalee/anaconda3/envs/chromalab/lib/python3.11/site-packages/polyscope_bindings.cpython-311-darwin.so (0x2d6236718). One of the two will be used. Which one is undefined.\n",
      "objc[5740]: Class GLFWContentView is implemented in both /Users/jessicalee/anaconda3/envs/chromalab/lib/python3.11/site-packages/open3d/cpu/pybind.cpython-311-darwin.so (0x2ba386e50) and /Users/jessicalee/anaconda3/envs/chromalab/lib/python3.11/site-packages/polyscope_bindings.cpython-311-darwin.so (0x2d6236768). One of the two will be used. Which one is undefined.\n",
      "objc[5740]: Class GLFWWindow is implemented in both /Users/jessicalee/anaconda3/envs/chromalab/lib/python3.11/site-packages/open3d/cpu/pybind.cpython-311-darwin.so (0x2ba386ec8) and /Users/jessicalee/anaconda3/envs/chromalab/lib/python3.11/site-packages/polyscope_bindings.cpython-311-darwin.so (0x2d62367e0). One of the two will be used. Which one is undefined.\n"
     ]
    }
   ],
   "source": [
    "from chromalab.observer import Observer, Cone, transformToChromaticity, getHeringMatrix\n",
    "from chromalab.spectra import Spectra, Illuminant, convert_refs_to_spectras\n",
    "from chromalab.maxbasis import MaxBasis\n",
    "from chromalab.visualizer import PSWrapper, DisplayBasisType, exportAndPlay, easeFunction\n",
    "from chromalab.animation import Animation"
   ]
  },
  {
   "cell_type": "code",
   "execution_count": 3,
   "metadata": {},
   "outputs": [],
   "source": [
    "%load_ext autoreload\n",
    "%autoreload 2\n",
    "%matplotlib ipympl"
   ]
  },
  {
   "cell_type": "code",
   "execution_count": 4,
   "metadata": {},
   "outputs": [],
   "source": [
    "wavelengths1 = np.arange(390, 701, 1)\n",
    "wavelengths5 = np.arange(400, 701, 5)\n",
    "wavelengths10 = np.arange(400, 701, 10)"
   ]
  },
  {
   "cell_type": "code",
   "execution_count": 5,
   "metadata": {},
   "outputs": [],
   "source": [
    "wavelengths = np.arange(400, 710, 5)\n",
    "d65 = Illuminant.get(\"D65\")"
   ]
  },
  {
   "cell_type": "code",
   "execution_count": 6,
   "metadata": {},
   "outputs": [
    {
     "name": "stderr",
     "output_type": "stream",
     "text": [
      "100%|██████████| 58/58 [00:00<00:00, 646.12it/s]\n",
      "/Users/jessicalee/Projects/generalized-colorimetry/code/ChromaLab/chromalab/spectra.py:36: UserWarning: Data has values not between 0 and 1. Clipping.\n",
      "  warnings.warn(\"Data has values not between 0 and 1. Clipping.\")\n"
     ]
    },
    {
     "name": "stdout",
     "output_type": "stream",
     "text": [
      "[polyscope] Backend: openGL3_glfw -- Loaded openGL version: 4.1 Metal - 83.1\n"
     ]
    },
    {
     "name": "stderr",
     "output_type": "stream",
     "text": [
      "100%|██████████| 3660/3660 [00:08<00:00, 419.29it/s]\n"
     ]
    }
   ],
   "source": [
    "trichromat = Observer.trichromat(wavelengths=wavelengths5, illuminant=d65) \n",
    "maxbasis_tri = MaxBasis(trichromat, verbose=True)\n",
    "viz = PSWrapper(trichromat, maxbasis_tri, itemsToDisplay=PSWrapper.ItemsToDisplay.BOTH, displayBasis=DisplayBasisType.MAXBASIS, verbose=True)"
   ]
  },
  {
   "cell_type": "code",
   "execution_count": 7,
   "metadata": {},
   "outputs": [],
   "source": [
    "names = ['mesh', 'lattice', 'qarrow', 'lumAxis']"
   ]
  },
  {
   "cell_type": "code",
   "execution_count": 8,
   "metadata": {},
   "outputs": [],
   "source": [
    "# general settings - RUN THIS CELL TO RESET AN ANIMATION RUN\n",
    "viz.ps.set_ground_plane_mode(\"none\")\n",
    "offset = 0 # start at 0 frames indexing"
   ]
  },
  {
   "cell_type": "code",
   "execution_count": 9,
   "metadata": {},
   "outputs": [],
   "source": [
    "# render all objects\n",
    "viz.renderObjectsPS(mesh_alpha=0.8, lattice_alpha=1)\n",
    "\n",
    "# transform to correct dir\n",
    "mat = np.eye(4)\n",
    "mat[:3, :3] = viz.HMatrix[::-1]\n",
    "viz.ps.get_surface_mesh(\"mesh\").set_transform(mat)\n",
    "viz.ps.get_surface_mesh(\"lattice\").set_transform(mat)"
   ]
  },
  {
   "cell_type": "code",
   "execution_count": 10,
   "metadata": {},
   "outputs": [],
   "source": [
    "def normalized(a, axis=-1, order=2):\n",
    "    l2 = np.atleast_1d(np.linalg.norm(a, order, axis))\n",
    "    l2[l2==0] = 1\n",
    "    return a / np.expand_dims(l2, axis)"
   ]
  },
  {
   "cell_type": "code",
   "execution_count": 11,
   "metadata": {},
   "outputs": [],
   "source": [
    "transforms_LMS, transforms_RGB = viz._getIntermediateTransformsLMSRGB(2)\n",
    "HMat = viz._getmatrixBasisToLum()\n",
    "\n",
    "ps_mesh = viz.ps.get_surface_mesh(\"mesh\")\n",
    "names += viz._getCoordBasis(\"RGB_coords\", ((HMat@np.eye(4))[:3, :3]).T)\n",
    "names += viz._getCoordBasis(\"LMS_coords\", ((HMat@normalized(transforms_LMS[-1]))[:3, :3]).T)\n",
    "names += viz.renderLuminanceAxis()"
   ]
  },
  {
   "cell_type": "code",
   "execution_count": 12,
   "metadata": {},
   "outputs": [],
   "source": [
    "long_frames = 90\n",
    "medium_frames = 60\n",
    "short_frames = 30"
   ]
  },
  {
   "cell_type": "code",
   "execution_count": 13,
   "metadata": {},
   "outputs": [],
   "source": [
    "types =  ['surface_mesh', 'surface_mesh', 'surface_mesh', 'surface_mesh', 'surface_mesh', 'surface_mesh', 'surface_mesh']\n",
    "map_name_type = {name:typ for name, typ in zip(names, types)}\n",
    "anim = Animation(viz, map_name_type)"
   ]
  },
  {
   "cell_type": "code",
   "execution_count": 14,
   "metadata": {},
   "outputs": [],
   "source": [
    "filename = \"./outputs/obs-seq-siggraph.mp4\"\n",
    "anim.set_enabled('lattice', False)\n",
    "anim.set_enabled('lumAxis', False)\n",
    "anim.set_enabled('RGB_coords', False)\n",
    "anim.set_enabled('mesh', True)\n",
    "fd = viz.openVideo(filename)"
   ]
  },
  {
   "cell_type": "code",
   "execution_count": 15,
   "metadata": {},
   "outputs": [],
   "source": [
    "r, theta, phi = 4, 90, 270\n",
    "origin = np.array([0, 0, np.sqrt(3)/2])\n",
    "offset = 0"
   ]
  },
  {
   "cell_type": "code",
   "execution_count": 16,
   "metadata": {},
   "outputs": [
    {
     "name": "stderr",
     "output_type": "stream",
     "text": [
      "ffmpeg version 7.0.1 Copyright (c) 2000-2024 the FFmpeg developers\n",
      "  built with Apple clang version 15.0.0 (clang-1500.1.0.2.5)\n",
      "  configuration: --prefix=/opt/homebrew/Cellar/ffmpeg/7.0.1 --enable-shared --enable-pthreads --enable-version3 --cc=clang --host-cflags= --host-ldflags='-Wl,-ld_classic' --enable-ffplay --enable-gnutls --enable-gpl --enable-libaom --enable-libaribb24 --enable-libbluray --enable-libdav1d --enable-libharfbuzz --enable-libjxl --enable-libmp3lame --enable-libopus --enable-librav1e --enable-librist --enable-librubberband --enable-libsnappy --enable-libsrt --enable-libssh --enable-libsvtav1 --enable-libtesseract --enable-libtheora --enable-libvidstab --enable-libvmaf --enable-libvorbis --enable-libvpx --enable-libwebp --enable-libx264 --enable-libx265 --enable-libxml2 --enable-libxvid --enable-lzma --enable-libfontconfig --enable-libfreetype --enable-frei0r --enable-libass --enable-libopencore-amrnb --enable-libopencore-amrwb --enable-libopenjpeg --enable-libspeex --enable-libsoxr --enable-libzmq --enable-libzimg --disable-libjack --disable-indev=jack --enable-videotoolbox --enable-audiotoolbox --enable-neon\n",
      "  libavutil      59.  8.100 / 59.  8.100\n",
      "  libavcodec     61.  3.100 / 61.  3.100\n",
      "  libavformat    61.  1.100 / 61.  1.100\n",
      "  libavdevice    61.  1.100 / 61.  1.100\n",
      "  libavfilter    10.  1.100 / 10.  1.100\n",
      "  libswscale      8.  1.100 /  8.  1.100\n",
      "  libswresample   5.  1.100 /  5.  1.100\n",
      "  libpostproc    58.  1.100 / 58.  1.100\n",
      "Input #0, rawvideo, from 'fd:':\n",
      "  Duration: N/A, start: 0.000000, bitrate: 3594240 kb/s\n",
      "  Stream #0:0: Video: rawvideo (RGBA / 0x41424752), rgba, 2600x1440, 3594240 kb/s, 30 tbr, 30 tbn\n",
      "Stream mapping:\n",
      "  Stream #0:0 -> #0:0 (rawvideo (native) -> h264 (libx264))\n",
      "[libx264 @ 0x139f05460] using cpu capabilities: ARMv8 NEON\n",
      "[libx264 @ 0x139f05460] profile High, level 5.0, 4:2:0, 8-bit\n",
      "[libx264 @ 0x139f05460] 264 - core 164 r3108 31e19f9 - H.264/MPEG-4 AVC codec - Copyleft 2003-2023 - http://www.videolan.org/x264.html - options: cabac=1 ref=2 deblock=1:0:0 analyse=0x3:0x113 me=hex subme=6 psy=1 psy_rd=1.00:0.00 mixed_ref=1 me_range=16 chroma_me=1 trellis=1 8x8dct=1 cqm=0 deadzone=21,11 fast_pskip=1 chroma_qp_offset=-2 threads=18 lookahead_threads=3 sliced_threads=0 nr=0 decimate=1 interlaced=0 bluray_compat=0 constrained_intra=0 bframes=3 b_pyramid=2 b_adapt=1 b_bias=0 direct=1 weightb=1 open_gop=0 weightp=1 keyint=250 keyint_min=25 scenecut=40 intra_refresh=0 rc_lookahead=30 rc=crf mbtree=1 crf=21.0 qcomp=0.60 qpmin=0 qpmax=69 qpstep=4 ip_ratio=1.40 aq=1:1.00\n",
      "Output #0, mp4, to './outputs/obs-seq-siggraph.mp4':\n",
      "  Metadata:\n",
      "    encoder         : Lavf61.1.100\n",
      "  Stream #0:0: Video: h264 (avc1 / 0x31637661), yuv420p(progressive), 2600x1440, q=2-31, 30 fps, 15360 tbn\n",
      "      Metadata:\n",
      "        encoder         : Lavc61.3.100 libx264\n",
      "      Side data:\n",
      "        cpb: bitrate max/min/avg: 0/0/0 buffer size: 0 vbv_delay: N/A\n",
      "[out#0/mp4 @ 0x139f044b0] video:1293KiB audio:0KiB subtitle:0KiB other streams:0KiB global headers:0KiB muxing overhead: 0.364385%\n",
      "frame=  330 fps= 74 q=-1.0 Lsize=    1298KiB time=00:00:10.93 bitrate= 972.2kbits/s speed=2.45x    \n",
      "[libx264 @ 0x139f05460] frame I:2     Avg QP:11.96  size: 14182\n",
      "[libx264 @ 0x139f05460] frame P:83    Avg QP:18.78  size:  6705\n",
      "[libx264 @ 0x139f05460] frame B:245   Avg QP:20.68  size:  3013\n",
      "[libx264 @ 0x139f05460] consecutive B-frames:  0.9%  0.0%  0.9% 98.2%\n",
      "[libx264 @ 0x139f05460] mb I  I16..4: 58.3% 39.9%  1.9%\n",
      "[libx264 @ 0x139f05460] mb P  I16..4:  2.1%  2.5%  0.3%  P16..4:  2.7%  0.9%  0.4%  0.0%  0.0%    skip:91.2%\n",
      "[libx264 @ 0x139f05460] mb B  I16..4:  0.7%  0.1%  0.0%  B16..8:  3.1%  1.0%  0.1%  direct: 1.6%  skip:93.3%  L0:46.5% L1:48.4% BI: 5.1%\n",
      "[libx264 @ 0x139f05460] 8x8 transform intra:39.2% inter:36.0%\n",
      "[libx264 @ 0x139f05460] coded y,uvDC,uvAC intra: 7.9% 50.9% 6.1% inter: 0.4% 3.1% 0.1%\n",
      "[libx264 @ 0x139f05460] i16 v,h,dc,p: 48% 20%  7% 25%\n",
      "[libx264 @ 0x139f05460] i8 v,h,dc,ddl,ddr,vr,hd,vl,hu: 22% 19% 40%  3%  5%  3%  4%  2%  1%\n",
      "[libx264 @ 0x139f05460] i4 v,h,dc,ddl,ddr,vr,hd,vl,hu: 21% 18% 37%  4%  6%  4%  4%  2%  3%\n",
      "[libx264 @ 0x139f05460] i8c dc,h,v,p: 57%  8% 21% 14%\n",
      "[libx264 @ 0x139f05460] Weighted P-Frames: Y:0.0% UV:0.0%\n",
      "[libx264 @ 0x139f05460] ref P L0: 79.8% 20.2%\n",
      "[libx264 @ 0x139f05460] ref B L0: 85.2% 14.8%\n",
      "[libx264 @ 0x139f05460] ref B L1: 94.0%  6.0%\n",
      "[libx264 @ 0x139f05460] kb/s:962.31\n"
     ]
    }
   ],
   "source": [
    "# squash along L Axis\n",
    "def Squash(i):\n",
    "    viz.renderFlattenExistingMesh(mesh_alpha=0.8, height=1 - (i/short_frames), basis=viz.ps.get_surface_mesh(\"mesh\").get_transform()[:3, :3])\n",
    "\n",
    "rotAroundZ, phi = anim.RotateAroundZ(long_frames, r, theta, [0, phi], lookAt=origin)\n",
    "offset = viz.renderVideo(rotAroundZ, fd, long_frames, offset)\n",
    "\n",
    "anim.set_enabled(\"lumAxis\", True)\n",
    "fadeInLum = anim.FadeIn(\"lumAxis\", medium_frames, [0.3, 1])\n",
    "fadeOutMesh = anim.FadeOut(\"mesh\", medium_frames, [0.3, 0.8])\n",
    "rotAroundZ, phi = anim.RotateAroundZ(medium_frames, r, theta, [phi, phi +45], lookAt=origin)\n",
    "offset = viz.renderVideo(anim.concatFns([fadeInLum, fadeOutMesh, rotAroundZ]), fd, medium_frames, offset)\n",
    "\n",
    "fadeInMesh = anim.FadeIn(\"mesh\", medium_frames, [0.3, 0.8])\n",
    "rotAroundZ, phi = anim.RotateAroundZ(medium_frames, r, theta, [phi, phi +45], lookAt=origin)\n",
    "offset = viz.renderVideo(anim.concatFns([fadeInMesh, rotAroundZ]), fd, medium_frames, offset)\n",
    "\n",
    "anim.set_enabled(\"mesh\", False)\n",
    "offset = viz.renderVideo(Squash, fd, short_frames, offset)\n",
    "\n",
    "rotTheta = anim.RotateTheta(medium_frames, r, [90, 0], phi, lookAt=origin)\n",
    "offset = viz.renderVideo(anim.concatFns([rotTheta]), fd, medium_frames, offset)\n",
    "\n",
    "fadeOutLum = anim.FadeOut(\"lumAxis\", short_frames, [0.3, 1], removeBefore=10)\n",
    "offset = viz.renderVideo(anim.concatFns([fadeOutLum]), fd, short_frames, offset)\n",
    "\n",
    "viz.closeVideo(fd)"
   ]
  }
 ],
 "metadata": {
  "kernelspec": {
   "display_name": "chromalab",
   "language": "python",
   "name": "python3"
  },
  "language_info": {
   "codemirror_mode": {
    "name": "ipython",
    "version": 3
   },
   "file_extension": ".py",
   "mimetype": "text/x-python",
   "name": "python",
   "nbconvert_exporter": "python",
   "pygments_lexer": "ipython3",
   "version": "3.11.9"
  }
 },
 "nbformat": 4,
 "nbformat_minor": 2
}
