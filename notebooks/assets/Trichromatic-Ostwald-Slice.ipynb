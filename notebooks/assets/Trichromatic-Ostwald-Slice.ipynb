{
 "cells": [
  {
   "cell_type": "code",
   "execution_count": 1,
   "metadata": {},
   "outputs": [],
   "source": [
    "import csv\n",
    "import numpy as np\n",
    "import matplotlib.pyplot as plt\n",
    "from tqdm import tqdm\n",
    "import os"
   ]
  },
  {
   "cell_type": "code",
   "execution_count": 2,
   "metadata": {},
   "outputs": [
    {
     "name": "stderr",
     "output_type": "stream",
     "text": [
      "objc[26237]: Class GLFWApplicationDelegate is implemented in both /Users/jessicalee/anaconda3/envs/chromalab/lib/python3.11/site-packages/open3d/cpu/pybind.cpython-311-darwin.so (0x2aa386e28) and /Users/jessicalee/anaconda3/envs/chromalab/lib/python3.11/site-packages/polyscope_bindings.cpython-311-darwin.so (0x2c5cc2ea0). One of the two will be used. Which one is undefined.\n",
      "objc[26237]: Class GLFWWindowDelegate is implemented in both /Users/jessicalee/anaconda3/envs/chromalab/lib/python3.11/site-packages/open3d/cpu/pybind.cpython-311-darwin.so (0x2aa386db0) and /Users/jessicalee/anaconda3/envs/chromalab/lib/python3.11/site-packages/polyscope_bindings.cpython-311-darwin.so (0x2c5cc2ec8). One of the two will be used. Which one is undefined.\n",
      "objc[26237]: Class GLFWContentView is implemented in both /Users/jessicalee/anaconda3/envs/chromalab/lib/python3.11/site-packages/open3d/cpu/pybind.cpython-311-darwin.so (0x2aa386e50) and /Users/jessicalee/anaconda3/envs/chromalab/lib/python3.11/site-packages/polyscope_bindings.cpython-311-darwin.so (0x2c5cc2f18). One of the two will be used. Which one is undefined.\n",
      "objc[26237]: Class GLFWWindow is implemented in both /Users/jessicalee/anaconda3/envs/chromalab/lib/python3.11/site-packages/open3d/cpu/pybind.cpython-311-darwin.so (0x2aa386ec8) and /Users/jessicalee/anaconda3/envs/chromalab/lib/python3.11/site-packages/polyscope_bindings.cpython-311-darwin.so (0x2c5cc2f90). One of the two will be used. Which one is undefined.\n"
     ]
    }
   ],
   "source": [
    "from chromalab.observer import Observer, Cone, transformToChromaticity, getHeringMatrix\n",
    "from chromalab.spectra import Spectra, Illuminant, convert_refs_to_spectras\n",
    "from chromalab.maxbasis import MaxBasis\n",
    "from chromalab.visualizer import PSWrapper, DisplayBasisType, exportAndPlay, easeFunction\n",
    "from chromalab.animation import Animation"
   ]
  },
  {
   "cell_type": "code",
   "execution_count": 3,
   "metadata": {},
   "outputs": [],
   "source": [
    "%load_ext autoreload\n",
    "%autoreload 2\n",
    "%matplotlib ipympl"
   ]
  },
  {
   "cell_type": "code",
   "execution_count": 4,
   "metadata": {},
   "outputs": [],
   "source": [
    "wavelengths1 = np.arange(390, 701, 1)\n",
    "wavelengths5 = np.arange(400, 701, 5)\n",
    "wavelengths10 = np.arange(400, 701, 10)"
   ]
  },
  {
   "cell_type": "code",
   "execution_count": 5,
   "metadata": {},
   "outputs": [],
   "source": [
    "wavelengths = np.arange(400, 710, 10)\n",
    "d65 = Illuminant.get(\"D65\")"
   ]
  },
  {
   "cell_type": "code",
   "execution_count": 6,
   "metadata": {},
   "outputs": [
    {
     "name": "stderr",
     "output_type": "stream",
     "text": [
      "100%|██████████| 58/58 [00:00<00:00, 629.14it/s]\n",
      "/Users/jessicalee/Projects/generalized-colorimetry/code/ChromaLab/chromalab/spectra.py:36: UserWarning: Data has values not between 0 and 1. Clipping.\n",
      "  warnings.warn(\"Data has values not between 0 and 1. Clipping.\")\n"
     ]
    },
    {
     "name": "stdout",
     "output_type": "stream",
     "text": [
      "[polyscope] Backend: openGL3_glfw -- Loaded openGL version: 4.1 Metal - 83.1\n"
     ]
    },
    {
     "name": "stderr",
     "output_type": "stream",
     "text": [
      "100%|██████████| 3660/3660 [00:08<00:00, 421.43it/s]\n"
     ]
    }
   ],
   "source": [
    "trichromat = Observer.trichromat(wavelengths=wavelengths5, illuminant=d65) \n",
    "maxbasis = MaxBasis(trichromat, verbose=True)\n",
    "viz = PSWrapper(trichromat, maxbasis, itemsToDisplay=PSWrapper.ItemsToDisplay.BOTH, displayBasis=DisplayBasisType.MAXBASIS, verbose=True)"
   ]
  },
  {
   "cell_type": "code",
   "execution_count": 7,
   "metadata": {},
   "outputs": [],
   "source": [
    "# general settings\n",
    "viz.ps.set_ground_plane_mode(\"none\")\n",
    "dirname = \"./outputs/trichromatic-ostwald-slice\"\n",
    "os.makedirs(dirname, exist_ok=True)\n",
    "offset = 0"
   ]
  },
  {
   "cell_type": "code",
   "execution_count": 8,
   "metadata": {},
   "outputs": [],
   "source": [
    "viz.renderObjectsPS(mesh_alpha=0.8, lattice_alpha=1)\n",
    "\n",
    "mat = np.eye(4)\n",
    "mat[:3, :3] = viz.HMatrix[::-1]\n",
    "viz.ps.get_surface_mesh(\"mesh\").set_transform(mat)\n",
    "viz.ps.get_surface_mesh(\"lattice\").set_transform(mat)\n",
    "\n",
    "viz.ps.get_surface_mesh(\"lattice\").set_enabled(False)"
   ]
  },
  {
   "cell_type": "code",
   "execution_count": 9,
   "metadata": {},
   "outputs": [],
   "source": [
    "# plane = viz.ps.add_scene_slice_plane()\n",
    "# plane.set_pose(np.array([0, -1, 0]), np.array([0, 1, 0.1]))\n",
    "# plane.set_active(False)"
   ]
  },
  {
   "cell_type": "code",
   "execution_count": 10,
   "metadata": {},
   "outputs": [],
   "source": [
    "frames_per_sec = 30\n",
    "short_frames = 30\n",
    "medium_frames = 60\n",
    "long_frames = 90\n",
    "\n",
    "rots_per_sec = 1/3\n",
    "rot_frames = int(frames_per_sec/rots_per_sec)\n",
    "\n",
    "r = 4\n",
    "theta = 65\n",
    "phi = -30\n",
    "\n",
    "dirname = \"./outputs/ostwald-slice-lol\"\n",
    "offset = 0\n",
    "origin = [0, 0, np.sqrt(3)/2]"
   ]
  },
  {
   "cell_type": "code",
   "execution_count": 11,
   "metadata": {},
   "outputs": [],
   "source": [
    "os.makedirs(dirname, exist_ok=True)"
   ]
  },
  {
   "cell_type": "code",
   "execution_count": 12,
   "metadata": {},
   "outputs": [],
   "source": [
    "names = [\"mesh\", \"lattice\"]\n",
    "types =  ['surface_mesh', 'surface_mesh']\n",
    "map_name_type = {name:typ for name, typ in zip(names, types)}\n",
    "\n",
    "anim = Animation(viz, map_name_type)"
   ]
  },
  {
   "cell_type": "code",
   "execution_count": 14,
   "metadata": {},
   "outputs": [],
   "source": [
    "rotAroundZ, phi = anim.RotateAroundZ(medium_frames, r, theta, [phi, phi+90], lookAt=origin)\n",
    "offset = viz.renderScreenshots(rotAroundZ, dirname, medium_frames, offset)"
   ]
  },
  {
   "cell_type": "code",
   "execution_count": 15,
   "metadata": {},
   "outputs": [],
   "source": [
    "# plane.set_active(True)\n",
    "# def moveAlongSlice(i):\n",
    "#     plane.set_pose(np.array([0, -1 + i/medium_frames, 0]), np.array([0, 1, 0]))\n",
    "\n",
    "# offset = viz.renderScreenshots(moveAlongSlice, dirname, medium_frames, offset)"
   ]
  },
  {
   "cell_type": "code",
   "execution_count": 16,
   "metadata": {},
   "outputs": [
    {
     "name": "stderr",
     "output_type": "stream",
     "text": [
      "ffmpeg version 7.0.1 Copyright (c) 2000-2024 the FFmpeg developers\n",
      "  built with Apple clang version 15.0.0 (clang-1500.1.0.2.5)\n",
      "  configuration: --prefix=/opt/homebrew/Cellar/ffmpeg/7.0.1 --enable-shared --enable-pthreads --enable-version3 --cc=clang --host-cflags= --host-ldflags='-Wl,-ld_classic' --enable-ffplay --enable-gnutls --enable-gpl --enable-libaom --enable-libaribb24 --enable-libbluray --enable-libdav1d --enable-libharfbuzz --enable-libjxl --enable-libmp3lame --enable-libopus --enable-librav1e --enable-librist --enable-librubberband --enable-libsnappy --enable-libsrt --enable-libssh --enable-libsvtav1 --enable-libtesseract --enable-libtheora --enable-libvidstab --enable-libvmaf --enable-libvorbis --enable-libvpx --enable-libwebp --enable-libx264 --enable-libx265 --enable-libxml2 --enable-libxvid --enable-lzma --enable-libfontconfig --enable-libfreetype --enable-frei0r --enable-libass --enable-libopencore-amrnb --enable-libopencore-amrwb --enable-libopenjpeg --enable-libspeex --enable-libsoxr --enable-libzmq --enable-libzimg --disable-libjack --disable-indev=jack --enable-videotoolbox --enable-audiotoolbox --enable-neon\n",
      "  libavutil      59.  8.100 / 59.  8.100\n",
      "  libavcodec     61.  3.100 / 61.  3.100\n",
      "  libavformat    61.  1.100 / 61.  1.100\n",
      "  libavdevice    61.  1.100 / 61.  1.100\n",
      "  libavfilter    10.  1.100 / 10.  1.100\n",
      "  libswscale      8.  1.100 /  8.  1.100\n",
      "  libswresample   5.  1.100 /  5.  1.100\n",
      "  libpostproc    58.  1.100 / 58.  1.100\n",
      "Input #0, image2, from './outputs/ostwald-slice-lol/cropped_frame_%03d.png':\n",
      "  Duration: 00:00:02.00, start: 0.000000, bitrate: N/A\n",
      "  Stream #0:0: Video: png, rgb24(pc, gbr/unknown/unknown), 1440x1440, 30 fps, 30 tbr, 30 tbn\n",
      "Stream mapping:\n",
      "  Stream #0:0 -> #0:0 (png (native) -> h264 (libx264))\n",
      "Press [q] to stop, [?] for help\n",
      "[libx264 @ 0x14661bb00] using cpu capabilities: ARMv8 NEON\n",
      "[libx264 @ 0x14661bb00] profile High, level 4.0, 4:2:0, 8-bit\n",
      "[libx264 @ 0x14661bb00] 264 - core 164 r3108 31e19f9 - H.264/MPEG-4 AVC codec - Copyleft 2003-2023 - http://www.videolan.org/x264.html - options: cabac=1 ref=3 deblock=1:0:0 analyse=0x3:0x113 me=hex subme=7 psy=1 psy_rd=1.00:0.00 mixed_ref=1 me_range=16 chroma_me=1 trellis=1 8x8dct=1 cqm=0 deadzone=21,11 fast_pskip=1 chroma_qp_offset=-2 threads=18 lookahead_threads=3 sliced_threads=0 nr=0 decimate=1 interlaced=0 bluray_compat=0 constrained_intra=0 bframes=3 b_pyramid=2 b_adapt=1 b_bias=0 direct=1 weightb=1 open_gop=0 weightp=2 keyint=250 keyint_min=25 scenecut=40 intra_refresh=0 rc_lookahead=40 rc=crf mbtree=1 crf=23.0 qcomp=0.60 qpmin=0 qpmax=69 qpstep=4 ip_ratio=1.40 aq=1:1.00\n",
      "Output #0, mp4, to './outputs/ostwald-slice-lol.mp4':\n",
      "  Metadata:\n",
      "    encoder         : Lavf61.1.100\n",
      "  Stream #0:0: Video: h264 (avc1 / 0x31637661), yuv420p(progressive), 1440x1440, q=2-31, 30 fps, 15360 tbn\n",
      "      Metadata:\n",
      "        encoder         : Lavc61.3.100 libx264\n",
      "      Side data:\n",
      "        cpb: bitrate max/min/avg: 0/0/0 buffer size: 0 vbv_delay: N/A\n",
      "[out#0/mp4 @ 0x14661aae0] video:194KiB audio:0KiB subtitle:0KiB other streams:0KiB global headers:0KiB muxing overhead: 0.790826%\n",
      "frame=   60 fps=0.0 q=-1.0 Lsize=     196KiB time=00:00:01.93 bitrate= 828.5kbits/s speed=5.13x    \n",
      "[libx264 @ 0x14661bb00] frame I:1     Avg QP:12.95  size:  9743\n",
      "[libx264 @ 0x14661bb00] frame P:15    Avg QP:22.39  size:  6212\n",
      "[libx264 @ 0x14661bb00] frame B:44    Avg QP:23.97  size:  2160\n",
      "[libx264 @ 0x14661bb00] consecutive B-frames:  1.7%  0.0%  5.0% 93.3%\n",
      "[libx264 @ 0x14661bb00] mb I  I16..4: 31.0% 66.8%  2.2%\n",
      "[libx264 @ 0x14661bb00] mb P  I16..4:  5.7%  7.0%  0.2%  P16..4:  6.8%  1.5%  0.5%  0.0%  0.0%    skip:78.2%\n",
      "[libx264 @ 0x14661bb00] mb B  I16..4:  0.3%  0.2%  0.0%  B16..8:  6.5%  1.2%  0.1%  direct: 1.3%  skip:90.3%  L0:46.2% L1:49.9% BI: 3.9%\n",
      "[libx264 @ 0x14661bb00] 8x8 transform intra:57.1% inter:78.1%\n",
      "[libx264 @ 0x14661bb00] coded y,uvDC,uvAC intra: 7.3% 44.2% 2.5% inter: 0.8% 4.9% 0.0%\n",
      "[libx264 @ 0x14661bb00] i16 v,h,dc,p: 31% 21%  6% 42%\n",
      "[libx264 @ 0x14661bb00] i8 v,h,dc,ddl,ddr,vr,hd,vl,hu: 27% 23% 37%  2%  3%  3%  2%  1%  1%\n",
      "[libx264 @ 0x14661bb00] i4 v,h,dc,ddl,ddr,vr,hd,vl,hu: 25% 17% 37%  6%  7%  2%  4%  2%  1%\n",
      "[libx264 @ 0x14661bb00] i8c dc,h,v,p: 62% 10% 15% 13%\n",
      "[libx264 @ 0x14661bb00] Weighted P-Frames: Y:0.0% UV:0.0%\n",
      "[libx264 @ 0x14661bb00] ref P L0: 80.3%  4.5% 11.1%  4.0%\n",
      "[libx264 @ 0x14661bb00] ref B L0: 90.0%  8.2%  1.8%\n",
      "[libx264 @ 0x14661bb00] ref B L1: 96.5%  3.5%\n",
      "[libx264 @ 0x14661bb00] kb/s:791.85\n"
     ]
    },
    {
     "ename": "",
     "evalue": "",
     "output_type": "error",
     "traceback": [
      "\u001b[1;31mThe Kernel crashed while executing code in the current cell or a previous cell. \n",
      "\u001b[1;31mPlease review the code in the cell(s) to identify a possible cause of the failure. \n",
      "\u001b[1;31mClick <a href='https://aka.ms/vscodeJupyterKernelCrash'>here</a> for more info. \n",
      "\u001b[1;31mView Jupyter <a href='command:jupyter.viewOutput'>log</a> for further details."
     ]
    }
   ],
   "source": [
    "exportAndPlay(dirname)"
   ]
  }
 ],
 "metadata": {
  "kernelspec": {
   "display_name": "chromalab",
   "language": "python",
   "name": "python3"
  },
  "language_info": {
   "codemirror_mode": {
    "name": "ipython",
    "version": 3
   },
   "file_extension": ".py",
   "mimetype": "text/x-python",
   "name": "python",
   "nbconvert_exporter": "python",
   "pygments_lexer": "ipython3",
   "version": "3.11.9"
  }
 },
 "nbformat": 4,
 "nbformat_minor": 2
}
