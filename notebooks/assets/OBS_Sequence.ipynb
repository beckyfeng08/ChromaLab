{
 "cells": [
  {
   "cell_type": "code",
   "execution_count": 1,
   "metadata": {},
   "outputs": [],
   "source": [
    "import csv\n",
    "import numpy as np\n",
    "import matplotlib.pyplot as plt\n",
    "from tqdm import tqdm\n",
    "import os"
   ]
  },
  {
   "cell_type": "code",
   "execution_count": 2,
   "metadata": {},
   "outputs": [
    {
     "name": "stderr",
     "output_type": "stream",
     "text": [
      "objc[85477]: Class GLFWApplicationDelegate is implemented in both /Users/jessicalee/anaconda3/envs/chromalab/lib/python3.11/site-packages/open3d/cpu/pybind.cpython-311-darwin.so (0x2b2386e28) and /Users/jessicalee/anaconda3/envs/chromalab/lib/python3.11/site-packages/polyscope_bindings.cpython-311-darwin.so (0x2ce71eea0). One of the two will be used. Which one is undefined.\n",
      "objc[85477]: Class GLFWWindowDelegate is implemented in both /Users/jessicalee/anaconda3/envs/chromalab/lib/python3.11/site-packages/open3d/cpu/pybind.cpython-311-darwin.so (0x2b2386db0) and /Users/jessicalee/anaconda3/envs/chromalab/lib/python3.11/site-packages/polyscope_bindings.cpython-311-darwin.so (0x2ce71eec8). One of the two will be used. Which one is undefined.\n",
      "objc[85477]: Class GLFWContentView is implemented in both /Users/jessicalee/anaconda3/envs/chromalab/lib/python3.11/site-packages/open3d/cpu/pybind.cpython-311-darwin.so (0x2b2386e50) and /Users/jessicalee/anaconda3/envs/chromalab/lib/python3.11/site-packages/polyscope_bindings.cpython-311-darwin.so (0x2ce71ef18). One of the two will be used. Which one is undefined.\n",
      "objc[85477]: Class GLFWWindow is implemented in both /Users/jessicalee/anaconda3/envs/chromalab/lib/python3.11/site-packages/open3d/cpu/pybind.cpython-311-darwin.so (0x2b2386ec8) and /Users/jessicalee/anaconda3/envs/chromalab/lib/python3.11/site-packages/polyscope_bindings.cpython-311-darwin.so (0x2ce71ef90). One of the two will be used. Which one is undefined.\n"
     ]
    }
   ],
   "source": [
    "from chromalab.observer import Observer, Cone, transformToChromaticity, getHeringMatrix\n",
    "from chromalab.spectra import Spectra, Illuminant, convert_refs_to_spectras\n",
    "from chromalab.maxbasis import MaxBasis\n",
    "from chromalab.visualizer import PSWrapper, DisplayBasisType, exportAndPlay, easeFunction\n",
    "from chromalab.animation import *"
   ]
  },
  {
   "cell_type": "code",
   "execution_count": 3,
   "metadata": {},
   "outputs": [],
   "source": [
    "%load_ext autoreload\n",
    "%autoreload 2\n",
    "%matplotlib ipympl"
   ]
  },
  {
   "cell_type": "code",
   "execution_count": 4,
   "metadata": {},
   "outputs": [],
   "source": [
    "wavelengths1 = np.arange(390, 701, 1)\n",
    "wavelengths5 = np.arange(400, 701, 5)\n",
    "wavelengths10 = np.arange(400, 701, 10)"
   ]
  },
  {
   "cell_type": "code",
   "execution_count": 5,
   "metadata": {},
   "outputs": [],
   "source": [
    "wavelengths = np.arange(400, 710, 10)\n",
    "d65 = Illuminant.get(\"D65\")"
   ]
  },
  {
   "cell_type": "code",
   "execution_count": 6,
   "metadata": {},
   "outputs": [
    {
     "name": "stderr",
     "output_type": "stream",
     "text": [
      "100%|██████████| 58/58 [00:00<00:00, 644.39it/s]\n",
      "/Users/jessicalee/Projects/generalized-colorimetry/code/ChromaLab/chromalab/spectra.py:36: UserWarning: Data has values not between 0 and 1. Clipping.\n",
      "  warnings.warn(\"Data has values not between 0 and 1. Clipping.\")\n"
     ]
    },
    {
     "name": "stdout",
     "output_type": "stream",
     "text": [
      "[polyscope] Backend: openGL3_glfw -- Loaded openGL version: 4.1 Metal - 83.1\n"
     ]
    },
    {
     "name": "stderr",
     "output_type": "stream",
     "text": [
      "100%|██████████| 3660/3660 [00:08<00:00, 417.70it/s]\n"
     ]
    }
   ],
   "source": [
    "trichromat = Observer.trichromat(wavelengths=wavelengths5, illuminant=d65) \n",
    "maxbasis_tri = MaxBasis(trichromat, verbose=True)\n",
    "viz = PSWrapper(trichromat, maxbasis_tri, itemsToDisplay=PSWrapper.ItemsToDisplay.BOTH, displayBasis=DisplayBasisType.CONE, verbose=True)\n",
    "\n",
    "# tetrachromat = Observer.tetrachromat(wavelengths=wavelengths, illuminant=d65, verbose=True) \n",
    "# maxbasis = MaxBasis(tetrachromat, verbose=True)\n",
    "# viz = PSWrapper(tetrachromat, maxbasis, itemsToDisplay=PSWrapper.ItemsToDisplay.BOTH, displayBasis=DisplayBasisType.MAXBASIS, verbose=True) "
   ]
  },
  {
   "cell_type": "code",
   "execution_count": 7,
   "metadata": {},
   "outputs": [],
   "source": [
    "# general settings - RUN THIS CELL TO RESET AN ANIMATION RUN\n",
    "viz.ps.set_ground_plane_mode(\"none\")\n",
    "dirname = \"./outputs/trichromat_obs\"\n",
    "os.makedirs(dirname, exist_ok=True)\n",
    "offset = 0 # start at 0 frames indexing"
   ]
  },
  {
   "cell_type": "code",
   "execution_count": 8,
   "metadata": {},
   "outputs": [],
   "source": [
    "# render all objects\n",
    "viz.renderObjectsPS(mesh_alpha=0.8, lattice_alpha=1)\n",
    "\n",
    "# transform to correct dir\n",
    "mat = np.eye(4)\n",
    "mat[:3, :3] = viz.HMatrix[::-1]\n",
    "viz.ps.get_surface_mesh(\"mesh\").set_transform(mat)\n",
    "viz.ps.get_surface_mesh(\"lattice\").set_transform(mat)"
   ]
  },
  {
   "cell_type": "code",
   "execution_count": 9,
   "metadata": {},
   "outputs": [],
   "source": [
    "list_names = [\"mesh\", \"lattice\"]\n",
    "set_enabled = SetEnabledFn(viz, list_names)\n",
    "long_frames = 90\n",
    "medium_frames = 60\n",
    "short_frames = 30"
   ]
  },
  {
   "cell_type": "code",
   "execution_count": 10,
   "metadata": {},
   "outputs": [],
   "source": [
    "r, theta, phi = 4, 90, 0\n",
    "origin = np.array([0, 0, np.sqrt(3)/2])\n",
    "# xyz = PSWrapper.polarToCartesian(r, theta, phi)\n",
    "# viz.ps.look_at(xyz)"
   ]
  },
  {
   "cell_type": "code",
   "execution_count": 11,
   "metadata": {},
   "outputs": [
    {
     "name": "stderr",
     "output_type": "stream",
     "text": [
      "100%|██████████| 3660/3660 [00:06<00:00, 529.67it/s]\n"
     ]
    }
   ],
   "source": [
    "# 1. Point Cloud and then Render Mesh\n",
    "points = trichromat.get_optimal_colors()[0]\n",
    "points = (viz.HMatrix[::-1]@points.T).T\n",
    "rgbs = trichromat.get_optimal_rgbs()"
   ]
  },
  {
   "cell_type": "code",
   "execution_count": 12,
   "metadata": {},
   "outputs": [],
   "source": [
    "LMSinHering = viz.HMatrix[::-1]@np.eye(3)\n",
    "viz._getCoordBasis('LMS',  LMSinHering.T, coordAlpha=1)\n",
    "name_points = viz.renderPointCloud(points, rgbs, radius=0.01)[0]"
   ]
  },
  {
   "cell_type": "code",
   "execution_count": 13,
   "metadata": {},
   "outputs": [],
   "source": [
    "superLongFrames = 2*long_frames\n",
    "rotZLong = RotateAroundZ(viz, superLongFrames, r, theta, [0,360], lookAt=origin)"
   ]
  },
  {
   "cell_type": "code",
   "execution_count": 14,
   "metadata": {},
   "outputs": [],
   "source": [
    "\n",
    "def opacityWhileRotate(i):\n",
    "    set_enabled([True, False])\n",
    "    viz.ps.get_surface_mesh(\"mesh\").set_transparency(0.8 * easeFunction(i/superLongFrames))\n",
    "    viz.ps.get_point_cloud(name_points).set_transparency(1- easeFunction(i/superLongFrames))\n",
    "    if i == superLongFrames - 5:\n",
    "        viz.ps.get_point_cloud(name_points).set_enabled(False)\n",
    "    rotZLong(i)\n",
    "    return i\n",
    "\n",
    "offset = viz.renderScreenshots(opacityWhileRotate, dirname, superLongFrames, offset)"
   ]
  },
  {
   "cell_type": "code",
   "execution_count": 15,
   "metadata": {},
   "outputs": [],
   "source": [
    "LMStoRGB, last_transform = CoordBasisChange(viz, superLongFrames)\n",
    "rotZFirst = RotateAroundZ(viz, medium_frames, r, theta, [0,65], lookAt=origin)\n",
    "rotZAfter= RotateAroundZ(viz, superLongFrames, r, theta, [65,360], lookAt=origin)\n",
    "\n",
    "viz.ps.remove_surface_mesh(\"LMS\")\n",
    "offset = viz.renderScreenshots(rotZFirst, dirname, medium_frames, offset)\n",
    "offset = viz.renderScreenshots(LMStoRGB, dirname, superLongFrames, offset)\n",
    "offset = viz.renderScreenshots(rotZAfter, dirname, superLongFrames, offset)"
   ]
  },
  {
   "cell_type": "code",
   "execution_count": 16,
   "metadata": {},
   "outputs": [],
   "source": [
    "lum_name = viz.renderLuminanceAxis()\n",
    "\n",
    "fadeLumAxis = FadeIn(viz, lum_name[0], medium_frames, [0.2, 1])\n",
    "fadeOutLMSCoords = FadeOut(viz, \"LMS_coords\", medium_frames, [0.2, 1], removeBefore=5)\n",
    "rotZMedium= RotateAroundZ(viz, medium_frames, r, theta, [0,90], lookAt=origin)\n",
    "fadeLumRotateInMedium = concatFns([fadeLumAxis, rotZMedium, fadeOutLMSCoords])\n",
    "offset = viz.renderScreenshots(fadeLumRotateInMedium, dirname, medium_frames, offset)"
   ]
  },
  {
   "cell_type": "code",
   "execution_count": 17,
   "metadata": {},
   "outputs": [],
   "source": [
    "rotZMedium3= RotateAroundZ(viz, medium_frames * 3, r, theta, [90,360], lookAt=origin)\n",
    "offset = viz.renderScreenshots(rotZMedium3, dirname, medium_frames * 3, offset)"
   ]
  },
  {
   "cell_type": "code",
   "execution_count": 18,
   "metadata": {},
   "outputs": [],
   "source": [
    "# squash along L Axis\n",
    "def Squash(i):\n",
    "    viz.renderFlattenExistingMesh(mesh_alpha=0.8, height=1 - (i/long_frames), basis=viz.ps.get_surface_mesh(\"mesh\").get_transform()[:3, :3])\n",
    "fade_coords = FadeOut(viz, \"RGB_coords\", long_frames, opacity_range=[0.2, 1], removeBefore=5)\n",
    "\n",
    "set_enabled([False, False])\n",
    "squash_fade = concatFns([fade_coords, Squash])\n",
    "offset = viz.renderScreenshots(squash_fade, dirname, long_frames, offset)"
   ]
  },
  {
   "cell_type": "code",
   "execution_count": 19,
   "metadata": {},
   "outputs": [],
   "source": [
    "rotTheta = RotateTheta(viz, medium_frames, r, [90, 0], phi, lookAt=origin)\n",
    "fade_Lum = FadeOut(viz, lum_name[0], medium_frames)\n",
    "fadeInMesh = FadeIn(viz, \"flatmesh\", medium_frames, [0.8, 1])\n",
    "\n",
    "fadeandRot = concatFns([fade_Lum, rotTheta, fadeInMesh])\n",
    "offset = viz.renderScreenshots(fadeandRot, dirname, medium_frames, offset)"
   ]
  },
  {
   "cell_type": "code",
   "execution_count": 20,
   "metadata": {},
   "outputs": [
    {
     "name": "stderr",
     "output_type": "stream",
     "text": [
      "ffmpeg version 7.0.1 Copyright (c) 2000-2024 the FFmpeg developers\n",
      "  built with Apple clang version 15.0.0 (clang-1500.1.0.2.5)\n",
      "  configuration: --prefix=/opt/homebrew/Cellar/ffmpeg/7.0.1 --enable-shared --enable-pthreads --enable-version3 --cc=clang --host-cflags= --host-ldflags='-Wl,-ld_classic' --enable-ffplay --enable-gnutls --enable-gpl --enable-libaom --enable-libaribb24 --enable-libbluray --enable-libdav1d --enable-libharfbuzz --enable-libjxl --enable-libmp3lame --enable-libopus --enable-librav1e --enable-librist --enable-librubberband --enable-libsnappy --enable-libsrt --enable-libssh --enable-libsvtav1 --enable-libtesseract --enable-libtheora --enable-libvidstab --enable-libvmaf --enable-libvorbis --enable-libvpx --enable-libwebp --enable-libx264 --enable-libx265 --enable-libxml2 --enable-libxvid --enable-lzma --enable-libfontconfig --enable-libfreetype --enable-frei0r --enable-libass --enable-libopencore-amrnb --enable-libopencore-amrwb --enable-libopenjpeg --enable-libspeex --enable-libsoxr --enable-libzmq --enable-libzimg --disable-libjack --disable-indev=jack --enable-videotoolbox --enable-audiotoolbox --enable-neon\n",
      "  libavutil      59.  8.100 / 59.  8.100\n",
      "  libavcodec     61.  3.100 / 61.  3.100\n",
      "  libavformat    61.  1.100 / 61.  1.100\n",
      "  libavdevice    61.  1.100 / 61.  1.100\n",
      "  libavfilter    10.  1.100 / 10.  1.100\n",
      "  libswscale      8.  1.100 /  8.  1.100\n",
      "  libswresample   5.  1.100 /  5.  1.100\n",
      "  libpostproc    58.  1.100 / 58.  1.100\n",
      "Input #0, image2, from './outputs/trichromat_obs/cropped_frame_%03d.png':\n",
      "  Duration: 00:00:33.00, start: 0.000000, bitrate: N/A\n",
      "  Stream #0:0: Video: png, rgb24(pc, gbr/unknown/unknown), 1440x1440, 30 fps, 30 tbr, 30 tbn\n",
      "Stream mapping:\n",
      "  Stream #0:0 -> #0:0 (png (native) -> h264 (libx264))\n",
      "Press [q] to stop, [?] for help\n",
      "[libx264 @ 0x12c636c20] using cpu capabilities: ARMv8 NEON\n",
      "[libx264 @ 0x12c636c20] profile High, level 4.0, 4:2:0, 8-bit\n",
      "[libx264 @ 0x12c636c20] 264 - core 164 r3108 31e19f9 - H.264/MPEG-4 AVC codec - Copyleft 2003-2023 - http://www.videolan.org/x264.html - options: cabac=1 ref=3 deblock=1:0:0 analyse=0x3:0x113 me=hex subme=7 psy=1 psy_rd=1.00:0.00 mixed_ref=1 me_range=16 chroma_me=1 trellis=1 8x8dct=1 cqm=0 deadzone=21,11 fast_pskip=1 chroma_qp_offset=-2 threads=18 lookahead_threads=3 sliced_threads=0 nr=0 decimate=1 interlaced=0 bluray_compat=0 constrained_intra=0 bframes=3 b_pyramid=2 b_adapt=1 b_bias=0 direct=1 weightb=1 open_gop=0 weightp=2 keyint=250 keyint_min=25 scenecut=40 intra_refresh=0 rc_lookahead=40 rc=crf mbtree=1 crf=23.0 qcomp=0.60 qpmin=0 qpmax=69 qpstep=4 ip_ratio=1.40 aq=1:1.00\n",
      "Output #0, mp4, to './outputs/trichromat_obs.mp4':\n",
      "  Metadata:\n",
      "    encoder         : Lavf61.1.100\n",
      "  Stream #0:0: Video: h264 (avc1 / 0x31637661), yuv420p(progressive), 1440x1440, q=2-31, 30 fps, 15360 tbn\n",
      "      Metadata:\n",
      "        encoder         : Lavc61.3.100 libx264\n",
      "      Side data:\n",
      "        cpb: bitrate max/min/avg: 0/0/0 buffer size: 0 vbv_delay: N/A\n",
      "[out#0/mp4 @ 0x12c6358a0] video:5870KiB audio:0KiB subtitle:0KiB other streams:0KiB global headers:0KiB muxing overhead: 0.209280%\n",
      "frame=  990 fps=188 q=-1.0 Lsize=    5882KiB time=00:00:32.93 bitrate=1463.1kbits/s speed=6.26x    \n",
      "[libx264 @ 0x12c636c20] frame I:5     Avg QP:13.40  size: 25762\n",
      "[libx264 @ 0x12c636c20] frame P:275   Avg QP:22.45  size:  9435\n",
      "[libx264 @ 0x12c636c20] frame B:710   Avg QP:25.49  size:  4629\n",
      "[libx264 @ 0x12c636c20] consecutive B-frames:  3.2%  2.4%  3.0% 91.3%\n",
      "[libx264 @ 0x12c636c20] mb I  I16..4: 44.7% 48.9%  6.4%\n",
      "[libx264 @ 0x12c636c20] mb P  I16..4:  2.9%  4.0%  0.8%  P16..4:  6.0%  1.9%  1.2%  0.0%  0.0%    skip:83.2%\n",
      "[libx264 @ 0x12c636c20] mb B  I16..4:  0.3%  0.1%  0.1%  B16..8:  5.8%  1.7%  0.6%  direct: 1.1%  skip:90.4%  L0:43.2% L1:49.1% BI: 7.6%\n",
      "[libx264 @ 0x12c636c20] 8x8 transform intra:49.6% inter:41.5%\n",
      "[libx264 @ 0x12c636c20] coded y,uvDC,uvAC intra: 15.2% 47.5% 9.4% inter: 1.6% 3.6% 0.4%\n",
      "[libx264 @ 0x12c636c20] i16 v,h,dc,p: 42% 19%  9% 29%\n",
      "[libx264 @ 0x12c636c20] i8 v,h,dc,ddl,ddr,vr,hd,vl,hu: 24% 18% 44%  2%  4%  2%  3%  1%  1%\n",
      "[libx264 @ 0x12c636c20] i4 v,h,dc,ddl,ddr,vr,hd,vl,hu: 23% 15% 32%  6%  5%  5%  4%  5%  5%\n",
      "[libx264 @ 0x12c636c20] i8c dc,h,v,p: 58%  8% 19% 15%\n",
      "[libx264 @ 0x12c636c20] Weighted P-Frames: Y:10.9% UV:5.8%\n",
      "[libx264 @ 0x12c636c20] ref P L0: 66.7%  8.8% 17.5%  6.2%  0.7%\n",
      "[libx264 @ 0x12c636c20] ref B L0: 87.1% 10.8%  2.1%\n",
      "[libx264 @ 0x12c636c20] ref B L1: 95.2%  4.8%\n",
      "[libx264 @ 0x12c636c20] kb/s:1456.95\n"
     ]
    },
    {
     "ename": "",
     "evalue": "",
     "output_type": "error",
     "traceback": [
      "\u001b[1;31mThe Kernel crashed while executing code in the current cell or a previous cell. \n",
      "\u001b[1;31mPlease review the code in the cell(s) to identify a possible cause of the failure. \n",
      "\u001b[1;31mClick <a href='https://aka.ms/vscodeJupyterKernelCrash'>here</a> for more info. \n",
      "\u001b[1;31mView Jupyter <a href='command:jupyter.viewOutput'>log</a> for further details."
     ]
    }
   ],
   "source": [
    "exportAndPlay(dirname)"
   ]
  },
  {
   "cell_type": "code",
   "execution_count": null,
   "metadata": {},
   "outputs": [],
   "source": []
  }
 ],
 "metadata": {
  "kernelspec": {
   "display_name": "chromalab",
   "language": "python",
   "name": "python3"
  },
  "language_info": {
   "codemirror_mode": {
    "name": "ipython",
    "version": 3
   },
   "file_extension": ".py",
   "mimetype": "text/x-python",
   "name": "python",
   "nbconvert_exporter": "python",
   "pygments_lexer": "ipython3",
   "version": "3.11.9"
  }
 },
 "nbformat": 4,
 "nbformat_minor": 2
}
