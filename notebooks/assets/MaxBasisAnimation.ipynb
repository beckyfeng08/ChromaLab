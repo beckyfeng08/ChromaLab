{
 "cells": [
  {
   "cell_type": "code",
   "execution_count": 1,
   "metadata": {},
   "outputs": [],
   "source": [
    "import csv\n",
    "import numpy as np\n",
    "import matplotlib.pyplot as plt\n",
    "from tqdm import tqdm"
   ]
  },
  {
   "cell_type": "code",
   "execution_count": 2,
   "metadata": {},
   "outputs": [
    {
     "name": "stderr",
     "output_type": "stream",
     "text": [
      "objc[73107]: Class GLFWApplicationDelegate is implemented in both /Users/jessicalee/anaconda3/envs/chromalab/lib/python3.11/site-packages/open3d/cpu/pybind.cpython-311-darwin.so (0x2b084ee28) and /Users/jessicalee/anaconda3/envs/chromalab/lib/python3.11/site-packages/polyscope_bindings.cpython-311-darwin.so (0x2cf322ea0). One of the two will be used. Which one is undefined.\n",
      "objc[73107]: Class GLFWWindowDelegate is implemented in both /Users/jessicalee/anaconda3/envs/chromalab/lib/python3.11/site-packages/open3d/cpu/pybind.cpython-311-darwin.so (0x2b084edb0) and /Users/jessicalee/anaconda3/envs/chromalab/lib/python3.11/site-packages/polyscope_bindings.cpython-311-darwin.so (0x2cf322ec8). One of the two will be used. Which one is undefined.\n",
      "objc[73107]: Class GLFWContentView is implemented in both /Users/jessicalee/anaconda3/envs/chromalab/lib/python3.11/site-packages/open3d/cpu/pybind.cpython-311-darwin.so (0x2b084ee50) and /Users/jessicalee/anaconda3/envs/chromalab/lib/python3.11/site-packages/polyscope_bindings.cpython-311-darwin.so (0x2cf322f18). One of the two will be used. Which one is undefined.\n",
      "objc[73107]: Class GLFWWindow is implemented in both /Users/jessicalee/anaconda3/envs/chromalab/lib/python3.11/site-packages/open3d/cpu/pybind.cpython-311-darwin.so (0x2b084eec8) and /Users/jessicalee/anaconda3/envs/chromalab/lib/python3.11/site-packages/polyscope_bindings.cpython-311-darwin.so (0x2cf322f90). One of the two will be used. Which one is undefined.\n"
     ]
    }
   ],
   "source": [
    "from chromalab.observer import Observer, Cone, transformToChromaticity, getHeringMatrix\n",
    "from chromalab.spectra import Spectra, Illuminant, convert_refs_to_spectras\n",
    "from chromalab.maxbasis import MaxBasis\n",
    "from chromalab.visualizer import PSWrapper, DisplayBasisType, exportAndPlay\n"
   ]
  },
  {
   "cell_type": "code",
   "execution_count": 3,
   "metadata": {},
   "outputs": [],
   "source": [
    "%load_ext autoreload\n",
    "%autoreload 2\n",
    "%matplotlib ipympl"
   ]
  },
  {
   "cell_type": "code",
   "execution_count": 4,
   "metadata": {},
   "outputs": [],
   "source": [
    "wavelengths1 = np.arange(390, 701, 1)\n",
    "wavelengths5 = np.arange(400, 701, 5)\n",
    "wavelengths10 = np.arange(400, 701, 10)"
   ]
  },
  {
   "cell_type": "code",
   "execution_count": 5,
   "metadata": {},
   "outputs": [],
   "source": [
    "wavelengths = np.arange(400, 710, 10)\n",
    "d65 = Illuminant.get(\"D65\")"
   ]
  },
  {
   "cell_type": "code",
   "execution_count": 6,
   "metadata": {},
   "outputs": [
    {
     "name": "stderr",
     "output_type": "stream",
     "text": [
      "100%|██████████| 58/58 [00:00<00:00, 521.23it/s]\n",
      "/Users/jessicalee/Projects/generalized-colorimetry/code/ChromaLab/chromalab/spectra.py:36: UserWarning: Data has values not between 0 and 1. Clipping.\n",
      "  warnings.warn(\"Data has values not between 0 and 1. Clipping.\")\n"
     ]
    },
    {
     "name": "stdout",
     "output_type": "stream",
     "text": [
      "[polyscope] Backend: openGL3_glfw -- Loaded openGL version: 4.1 Metal - 83.1\n"
     ]
    },
    {
     "name": "stderr",
     "output_type": "stream",
     "text": [
      "100%|██████████| 3660/3660 [00:08<00:00, 420.41it/s]\n"
     ]
    }
   ],
   "source": [
    "trichromat = Observer.trichromat(wavelengths=wavelengths5, illuminant=d65) \n",
    "maxbasis_tri = MaxBasis(trichromat, verbose=True)\n",
    "viz_tri = PSWrapper(trichromat, maxbasis_tri, itemsToDisplay=PSWrapper.ItemsToDisplay.MESH, displayBasis=DisplayBasisType.CONE, verbose=True)\n",
    "\n",
    "# HMat = viz_tri._getmatrixBasisToLum()\n",
    "# viz_tri.renderObjectsPS( matrix=HMat)\n",
    "# viz_tri.ps.show()"
   ]
  },
  {
   "cell_type": "code",
   "execution_count": 7,
   "metadata": {},
   "outputs": [
    {
     "name": "stderr",
     "output_type": "stream",
     "text": [
      "ffmpeg version 7.0.1 Copyright (c) 2000-2024 the FFmpeg developers\n",
      "  built with Apple clang version 15.0.0 (clang-1500.1.0.2.5)\n",
      "  configuration: --prefix=/opt/homebrew/Cellar/ffmpeg/7.0.1 --enable-shared --enable-pthreads --enable-version3 --cc=clang --host-cflags= --host-ldflags='-Wl,-ld_classic' --enable-ffplay --enable-gnutls --enable-gpl --enable-libaom --enable-libaribb24 --enable-libbluray --enable-libdav1d --enable-libharfbuzz --enable-libjxl --enable-libmp3lame --enable-libopus --enable-librav1e --enable-librist --enable-librubberband --enable-libsnappy --enable-libsrt --enable-libssh --enable-libsvtav1 --enable-libtesseract --enable-libtheora --enable-libvidstab --enable-libvmaf --enable-libvorbis --enable-libvpx --enable-libwebp --enable-libx264 --enable-libx265 --enable-libxml2 --enable-libxvid --enable-lzma --enable-libfontconfig --enable-libfreetype --enable-frei0r --enable-libass --enable-libopencore-amrnb --enable-libopencore-amrwb --enable-libopenjpeg --enable-libspeex --enable-libsoxr --enable-libzmq --enable-libzimg --disable-libjack --disable-indev=jack --enable-videotoolbox --enable-audiotoolbox --enable-neon\n",
      "  libavutil      59.  8.100 / 59.  8.100\n",
      "  libavcodec     61.  3.100 / 61.  3.100\n",
      "  libavformat    61.  1.100 / 61.  1.100\n",
      "  libavdevice    61.  1.100 / 61.  1.100\n",
      "  libavfilter    10.  1.100 / 10.  1.100\n",
      "  libswscale      8.  1.100 /  8.  1.100\n",
      "  libswresample   5.  1.100 /  5.  1.100\n",
      "  libpostproc    58.  1.100 / 58.  1.100\n",
      "Input #0, image2, from './output-coord-basis-LMS-RGB/cropped_frame_%03d.png':\n",
      "  Duration: 00:00:10.00, start: 0.000000, bitrate: N/A\n",
      "  Stream #0:0: Video: png, rgb24(pc, gbr/unknown/unknown), 1440x1440, 30 fps, 30 tbr, 30 tbn\n",
      "Stream mapping:\n",
      "  Stream #0:0 -> #0:0 (png (native) -> h264 (libx264))\n",
      "Press [q] to stop, [?] for help\n",
      "[libx264 @ 0x129e37ae0] using cpu capabilities: ARMv8 NEON\n",
      "[libx264 @ 0x129e37ae0] profile High, level 4.0, 4:2:0, 8-bit\n",
      "[libx264 @ 0x129e37ae0] 264 - core 164 r3108 31e19f9 - H.264/MPEG-4 AVC codec - Copyleft 2003-2023 - http://www.videolan.org/x264.html - options: cabac=1 ref=3 deblock=1:0:0 analyse=0x3:0x113 me=hex subme=7 psy=1 psy_rd=1.00:0.00 mixed_ref=1 me_range=16 chroma_me=1 trellis=1 8x8dct=1 cqm=0 deadzone=21,11 fast_pskip=1 chroma_qp_offset=-2 threads=18 lookahead_threads=3 sliced_threads=0 nr=0 decimate=1 interlaced=0 bluray_compat=0 constrained_intra=0 bframes=3 b_pyramid=2 b_adapt=1 b_bias=0 direct=1 weightb=1 open_gop=0 weightp=2 keyint=250 keyint_min=25 scenecut=40 intra_refresh=0 rc_lookahead=40 rc=crf mbtree=1 crf=23.0 qcomp=0.60 qpmin=0 qpmax=69 qpstep=4 ip_ratio=1.40 aq=1:1.00\n",
      "Output #0, mp4, to './output-coord-basis-LMS-RGB.mp4':\n",
      "  Metadata:\n",
      "    encoder         : Lavf61.1.100\n",
      "  Stream #0:0: Video: h264 (avc1 / 0x31637661), yuv420p(progressive), 1440x1440, q=2-31, 30 fps, 15360 tbn\n",
      "      Metadata:\n",
      "        encoder         : Lavc61.3.100 libx264\n",
      "      Side data:\n",
      "        cpb: bitrate max/min/avg: 0/0/0 buffer size: 0 vbv_delay: N/A\n",
      "[out#0/mp4 @ 0x129e363d0] video:1550KiB audio:0KiB subtitle:0KiB other streams:0KiB global headers:0KiB muxing overhead: 0.260055%\n",
      "frame=  300 fps=165 q=-1.0 Lsize=    1554KiB time=00:00:09.93 bitrate=1281.4kbits/s speed=5.46x    \n",
      "[libx264 @ 0x129e37ae0] frame I:2     Avg QP:18.05  size: 14445\n",
      "[libx264 @ 0x129e37ae0] frame P:116   Avg QP:23.57  size:  8067\n",
      "[libx264 @ 0x129e37ae0] frame B:182   Avg QP:24.84  size:  3415\n",
      "[libx264 @ 0x129e37ae0] consecutive B-frames: 14.0% 10.7% 14.0% 61.3%\n",
      "[libx264 @ 0x129e37ae0] mb I  I16..4: 28.8% 66.8%  4.4%\n",
      "[libx264 @ 0x129e37ae0] mb P  I16..4:  3.5%  7.7%  0.7%  P16..4:  7.6%  2.2%  0.9%  0.0%  0.0%    skip:77.4%\n",
      "[libx264 @ 0x129e37ae0] mb B  I16..4:  0.6%  0.5%  0.1%  B16..8:  8.4%  1.8%  0.3%  direct: 1.4%  skip:86.8%  L0:47.1% L1:48.8% BI: 4.1%\n",
      "[libx264 @ 0x129e37ae0] 8x8 transform intra:62.6% inter:61.4%\n",
      "[libx264 @ 0x129e37ae0] coded y,uvDC,uvAC intra: 11.3% 47.2% 4.9% inter: 1.4% 4.4% 0.1%\n",
      "[libx264 @ 0x129e37ae0] i16 v,h,dc,p: 28% 25%  8% 39%\n",
      "[libx264 @ 0x129e37ae0] i8 v,h,dc,ddl,ddr,vr,hd,vl,hu: 22% 20% 40%  3%  6%  4%  3%  2%  1%\n",
      "[libx264 @ 0x129e37ae0] i4 v,h,dc,ddl,ddr,vr,hd,vl,hu: 24% 16% 34%  6%  5%  4%  3%  3%  3%\n",
      "[libx264 @ 0x129e37ae0] i8c dc,h,v,p: 57%  6% 25% 13%\n",
      "[libx264 @ 0x129e37ae0] Weighted P-Frames: Y:0.0% UV:0.0%\n",
      "[libx264 @ 0x129e37ae0] ref P L0: 75.6%  7.0% 13.1%  4.2%\n",
      "[libx264 @ 0x129e37ae0] ref B L0: 88.3% 10.1%  1.6%\n",
      "[libx264 @ 0x129e37ae0] ref B L1: 96.7%  3.3%\n",
      "[libx264 @ 0x129e37ae0] kb/s:1269.03\n"
     ]
    }
   ],
   "source": [
    "# factor = 0.1/5.25\n",
    "# viz_tri.ps.set_background_color((factor, factor, factor, 1))\n",
    "# viz_tri.assetCoordinateBasisTransform('./output-coord-basis', 0.3, 4, 65, 0.8, 1, phi_offset=30)\n",
    "viz_tri.assetCoordinateTransformLMSRGB('./output-coord-basis-LMS-RGB', 0.3, 4, 65, 0.8, 1, phi_offset=30)"
   ]
  },
  {
   "cell_type": "code",
   "execution_count": 8,
   "metadata": {},
   "outputs": [
    {
     "ename": "",
     "evalue": "",
     "output_type": "error",
     "traceback": [
      "\u001b[1;31mThe Kernel crashed while executing code in the current cell or a previous cell. \n",
      "\u001b[1;31mPlease review the code in the cell(s) to identify a possible cause of the failure. \n",
      "\u001b[1;31mClick <a href='https://aka.ms/vscodeJupyterKernelCrash'>here</a> for more info. \n",
      "\u001b[1;31mView Jupyter <a href='command:jupyter.viewOutput'>log</a> for further details."
     ]
    }
   ],
   "source": [
    "# transforms_LMS, transforms_RGB = viz_tri._getIntermediateTransformsLMSRGB(5)\n",
    "# import matplotlib.pyplot as plt\n",
    "\n",
    "# HMat = viz_tri._getmatrixBasisToLum()\n",
    "\n",
    "# # Get the 3x3 upper subset of the 4x4 transforms matrix\n",
    "# subset_transforms = (HMat[:3, :3]@(np.array(transforms_LMS)[:, :3, :3].T)).T\n",
    "\n",
    "# fig, ax = plt.subplots(subplot_kw={'projection': '3d'})\n",
    "\n",
    "# # Create a figure and axis\n",
    "# # Plot arrows for each basis component\n",
    "# for i in range(len(transforms_LMS)):\n",
    "#     color = (i / len(transforms_LMS), 0, 1 - i / len(transforms_LMS))\n",
    "#     for j in range(3):\n",
    "#         ax.quiver(0, 0, 0, subset_transforms[i, j, 0], subset_transforms[i, j, 1], subset_transforms[i, j, 2], \n",
    "#                   arrow_length_ratio=0.1, colors=color)\n",
    "\n",
    "# # Set the x, y, and z limits\n",
    "# ax.set_xlim([-1, 1])\n",
    "# ax.set_ylim([-1, 1])\n",
    "# ax.set_zlim([-1, 1])\n",
    "\n",
    "\n",
    "# # Set the aspect ratio to equal\n",
    "# ax.set_box_aspect([1, 1, 1])\n",
    "\n",
    "# # Show the plot\n",
    "# plt.show()"
   ]
  },
  {
   "cell_type": "code",
   "execution_count": null,
   "metadata": {},
   "outputs": [],
   "source": []
  }
 ],
 "metadata": {
  "kernelspec": {
   "display_name": "chromalab",
   "language": "python",
   "name": "python3"
  },
  "language_info": {
   "codemirror_mode": {
    "name": "ipython",
    "version": 3
   },
   "file_extension": ".py",
   "mimetype": "text/x-python",
   "name": "python",
   "nbconvert_exporter": "python",
   "pygments_lexer": "ipython3",
   "version": "3.11.9"
  }
 },
 "nbformat": 4,
 "nbformat_minor": 2
}
