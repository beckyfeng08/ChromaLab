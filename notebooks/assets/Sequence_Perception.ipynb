{
 "cells": [
  {
   "cell_type": "code",
   "execution_count": 1,
   "metadata": {},
   "outputs": [],
   "source": [
    "import csv\n",
    "import numpy as np\n",
    "import matplotlib.pyplot as plt\n",
    "from tqdm import tqdm"
   ]
  },
  {
   "cell_type": "code",
   "execution_count": 2,
   "metadata": {},
   "outputs": [
    {
     "name": "stderr",
     "output_type": "stream",
     "text": [
      "objc[1842]: Class GLFWApplicationDelegate is implemented in both /Users/jessicalee/anaconda3/envs/chromalab/lib/python3.11/site-packages/open3d/cpu/pybind.cpython-311-darwin.so (0x294966e28) and /Users/jessicalee/anaconda3/envs/chromalab/lib/python3.11/site-packages/polyscope_bindings.cpython-311-darwin.so (0x2af396ea0). One of the two will be used. Which one is undefined.\n",
      "objc[1842]: Class GLFWWindowDelegate is implemented in both /Users/jessicalee/anaconda3/envs/chromalab/lib/python3.11/site-packages/open3d/cpu/pybind.cpython-311-darwin.so (0x294966db0) and /Users/jessicalee/anaconda3/envs/chromalab/lib/python3.11/site-packages/polyscope_bindings.cpython-311-darwin.so (0x2af396ec8). One of the two will be used. Which one is undefined.\n",
      "objc[1842]: Class GLFWContentView is implemented in both /Users/jessicalee/anaconda3/envs/chromalab/lib/python3.11/site-packages/open3d/cpu/pybind.cpython-311-darwin.so (0x294966e50) and /Users/jessicalee/anaconda3/envs/chromalab/lib/python3.11/site-packages/polyscope_bindings.cpython-311-darwin.so (0x2af396f18). One of the two will be used. Which one is undefined.\n",
      "objc[1842]: Class GLFWWindow is implemented in both /Users/jessicalee/anaconda3/envs/chromalab/lib/python3.11/site-packages/open3d/cpu/pybind.cpython-311-darwin.so (0x294966ec8) and /Users/jessicalee/anaconda3/envs/chromalab/lib/python3.11/site-packages/polyscope_bindings.cpython-311-darwin.so (0x2af396f90). One of the two will be used. Which one is undefined.\n"
     ]
    }
   ],
   "source": [
    "from chromalab.observer import Observer, Cone, transformToChromaticity, getHeringMatrix\n",
    "from chromalab.spectra import Spectra, Illuminant, convert_refs_to_spectras\n",
    "from chromalab.maxbasis import MaxBasis\n",
    "from chromalab.visualizer import PSWrapper, DisplayBasisType, exportAndPlay, easeFunction"
   ]
  },
  {
   "cell_type": "code",
   "execution_count": 3,
   "metadata": {},
   "outputs": [],
   "source": [
    "%load_ext autoreload\n",
    "%autoreload 2\n",
    "%matplotlib ipympl"
   ]
  },
  {
   "cell_type": "code",
   "execution_count": 4,
   "metadata": {},
   "outputs": [],
   "source": [
    "wavelengths1 = np.arange(390, 701, 1)\n",
    "wavelengths5 = np.arange(400, 701, 5)\n",
    "wavelengths10 = np.arange(400, 701, 10)"
   ]
  },
  {
   "cell_type": "code",
   "execution_count": 5,
   "metadata": {},
   "outputs": [],
   "source": [
    "wavelengths = np.arange(400, 710, 10)\n",
    "d65 = Illuminant.get(\"D65\")"
   ]
  },
  {
   "cell_type": "code",
   "execution_count": 6,
   "metadata": {},
   "outputs": [
    {
     "name": "stderr",
     "output_type": "stream",
     "text": [
      "100%|██████████| 58/58 [00:00<00:00, 653.72it/s]\n",
      "/Users/jessicalee/Projects/generalized-colorimetry/code/ChromaLab/chromalab/spectra.py:36: UserWarning: Data has values not between 0 and 1. Clipping.\n",
      "  warnings.warn(\"Data has values not between 0 and 1. Clipping.\")\n",
      "100%|██████████| 28/28 [00:00<00:00, 48.13it/s]\n"
     ]
    },
    {
     "name": "stdout",
     "output_type": "stream",
     "text": [
      "[polyscope] Backend: openGL3_glfw -- Loaded openGL version: 4.1 Metal - 83.1\n"
     ]
    },
    {
     "name": "stderr",
     "output_type": "stream",
     "text": [
      "100%|██████████| 4495/4495 [00:00<00:00, 9609.38it/s] \n",
      "100%|██████████| 4495/4495 [00:00<00:00, 8415.87it/s]\n",
      "100%|██████████| 8990/8990 [00:19<00:00, 465.68it/s]\n"
     ]
    }
   ],
   "source": [
    "trichromat = Observer.trichromat(wavelengths=wavelengths5, illuminant=d65) \n",
    "maxbasis_tri = MaxBasis(trichromat, verbose=True)\n",
    "# viz_tri = PSWrapper(trichromat, maxbasis_tri, itemsToDisplay=PSWrapper.ItemsToDisplay.MESH, displayBasis=DisplayBasisType.MAXBASIS, verbose=True)\n",
    "\n",
    "tetrachromat = Observer.tetrachromat(wavelengths=wavelengths, illuminant=d65, verbose=True) \n",
    "maxbasis = MaxBasis(tetrachromat, verbose=True)\n",
    "viz = PSWrapper(tetrachromat, maxbasis, itemsToDisplay=PSWrapper.ItemsToDisplay.BOTH, displayBasis=DisplayBasisType.MAXBASIS, verbose=True) "
   ]
  },
  {
   "cell_type": "code",
   "execution_count": 7,
   "metadata": {},
   "outputs": [],
   "source": [
    "refs, discrete_points, rgbs, lines = maxbasis.getDiscreteRepresentation()\n",
    "# fig, axs = plt.subplots(4, 4, figsize=(8, 8))\n",
    "\n",
    "# for i in range(4):\n",
    "#     for j in range(4):\n",
    "#         axs[i, j].plot(wavelengths, refs[i*4+j].data, c=rgbs[i*4 + j])\n",
    "#         axs[i, j].fill_between(wavelengths, refs[i*4+j].data, color=rgbs[i*4 + j])\n",
    "#         axs[i, j].set_xlabel('Wavelength')\n",
    "#         axs[i, j].set_ylabel('Refs')\n",
    "#         axs[i, j].set_title(f'Ref {i*4+j}')\n",
    "\n",
    "# plt.tight_layout()\n",
    "# plt.show()\n"
   ]
  },
  {
   "cell_type": "code",
   "execution_count": 8,
   "metadata": {},
   "outputs": [
    {
     "name": "stdout",
     "output_type": "stream",
     "text": [
      "arrow set to true\n"
     ]
    }
   ],
   "source": [
    "viz.ps.set_ground_plane_mode(\"none\")\n",
    "dirname = \"./outputs/perception\"\n",
    "\n",
    "def doNothing(j):\n",
    "    pass\n",
    "\n",
    "viz.renderObjectsPS(mesh_alpha=0.8, lattice_alpha=1)\n",
    "viz.renderQArrow()\n",
    "mat = viz._getTransformQUpDir()\n",
    "viz.ps.get_surface_mesh(\"mesh\").set_enabled(True)\n",
    "viz.ps.get_surface_mesh(\"qarrow\").set_enabled(False)\n",
    "viz.ps.get_surface_mesh(\"lattice\").set_enabled(False)\n",
    "\n",
    "viz.ps.get_surface_mesh(\"mesh\").set_transform(mat)\n",
    "viz.ps.get_surface_mesh(\"lattice\").set_transform(mat)\n",
    "viz.ps.get_surface_mesh(\"qarrow\").set_transform(mat)\n",
    "\n",
    "ref_points = (mat[:3, :3]@((viz.HMatrix@discrete_points.T)[1:, :])).T\n",
    "# viz.ps.show()\n",
    "\n",
    "r = 4\n",
    "theta = 65\n",
    "phi = 0\n",
    "frames_per_path = 30\n",
    "rots_per_sec = 0.33\n",
    "opacity_baseline = 0.2\n",
    "\n",
    "# 1. hue sphere is differnet from the hue circle\n",
    "viz.renderRotationAroundZ(doNothing, dirname,  rots_per_sec, r, theta)\n",
    "viz.ps.get_surface_mesh(\"lattice\").set_enabled(True)\n",
    "viz.ps.get_surface_mesh(\"lattice\").set_transparency(opacity_baseline)\n",
    "\n",
    "# 2. Travel to Lattice Points with 4 neighbors\n",
    "magenta = ref_points[7]\n",
    "orange = ref_points[10]\n",
    "\n",
    "r_theta_phis = [orange, magenta]\n",
    "polar = np.array([PSWrapper.cartesianToPolar(v[0], v[1], v[2]) for v in r_theta_phis])\n",
    "polar[:, 0] = r\n",
    "\n",
    "# Debug\n",
    "# cartesian = np.array([PSWrapper.polarToCartesian(v[0], v[1], v[2]) for v in polar])\n",
    "# viz.ps.look_at(cartesian[1], [0, 0, 0])\n",
    "# viz.ps.show()\n",
    "\n",
    "last_phi = polar[-1, -1]\n",
    "path = [[r, theta, phi]] + polar.tolist() + [[r, 90, last_phi], [r, 5, last_phi], [r, 90, last_phi], [r, 180-5, last_phi], [r, 90, last_phi]]\n",
    "path_opacity = np.cos(2 * np.linspace(0, 3 * np.pi, 3 * frames_per_path))/2.5 + 0.6\n",
    "path_opacity[:15] = opacity_baseline\n",
    "path_opacity[-15:] = opacity_baseline\n",
    "path_opacity = np.concatenate([path_opacity, opacity_baseline * np.ones(4 * frames_per_path)])\n",
    "\n",
    "viz.renderPath(dirname, frames_per_path, path, path_opacity, video_save_offset=int(1/rots_per_sec))"
   ]
  },
  {
   "cell_type": "code",
   "execution_count": 9,
   "metadata": {},
   "outputs": [
    {
     "name": "stderr",
     "output_type": "stream",
     "text": [
      "ffmpeg version 7.0.1 Copyright (c) 2000-2024 the FFmpeg developers\n",
      "  built with Apple clang version 15.0.0 (clang-1500.1.0.2.5)\n",
      "  configuration: --prefix=/opt/homebrew/Cellar/ffmpeg/7.0.1 --enable-shared --enable-pthreads --enable-version3 --cc=clang --host-cflags= --host-ldflags='-Wl,-ld_classic' --enable-ffplay --enable-gnutls --enable-gpl --enable-libaom --enable-libaribb24 --enable-libbluray --enable-libdav1d --enable-libharfbuzz --enable-libjxl --enable-libmp3lame --enable-libopus --enable-librav1e --enable-librist --enable-librubberband --enable-libsnappy --enable-libsrt --enable-libssh --enable-libsvtav1 --enable-libtesseract --enable-libtheora --enable-libvidstab --enable-libvmaf --enable-libvorbis --enable-libvpx --enable-libwebp --enable-libx264 --enable-libx265 --enable-libxml2 --enable-libxvid --enable-lzma --enable-libfontconfig --enable-libfreetype --enable-frei0r --enable-libass --enable-libopencore-amrnb --enable-libopencore-amrwb --enable-libopenjpeg --enable-libspeex --enable-libsoxr --enable-libzmq --enable-libzimg --disable-libjack --disable-indev=jack --enable-videotoolbox --enable-audiotoolbox --enable-neon\n",
      "  libavutil      59.  8.100 / 59.  8.100\n",
      "  libavcodec     61.  3.100 / 61.  3.100\n",
      "  libavformat    61.  1.100 / 61.  1.100\n",
      "  libavdevice    61.  1.100 / 61.  1.100\n",
      "  libavfilter    10.  1.100 / 10.  1.100\n",
      "  libswscale      8.  1.100 /  8.  1.100\n",
      "  libswresample   5.  1.100 /  5.  1.100\n",
      "  libpostproc    58.  1.100 / 58.  1.100\n",
      "Input #0, image2, from './outputs/perception/cropped_frame_%03d.png':\n",
      "  Duration: 00:00:10.00, start: 0.000000, bitrate: N/A\n",
      "  Stream #0:0: Video: png, rgb24(pc, gbr/unknown/unknown), 1440x1440, 30 fps, 30 tbr, 30 tbn\n",
      "Stream mapping:\n",
      "  Stream #0:0 -> #0:0 (png (native) -> h264 (libx264))\n",
      "Press [q] to stop, [?] for help\n",
      "[libx264 @ 0x127f09320] using cpu capabilities: ARMv8 NEON\n",
      "[libx264 @ 0x127f09320] profile High, level 4.0, 4:2:0, 8-bit\n",
      "[libx264 @ 0x127f09320] 264 - core 164 r3108 31e19f9 - H.264/MPEG-4 AVC codec - Copyleft 2003-2023 - http://www.videolan.org/x264.html - options: cabac=1 ref=3 deblock=1:0:0 analyse=0x3:0x113 me=hex subme=7 psy=1 psy_rd=1.00:0.00 mixed_ref=1 me_range=16 chroma_me=1 trellis=1 8x8dct=1 cqm=0 deadzone=21,11 fast_pskip=1 chroma_qp_offset=-2 threads=18 lookahead_threads=3 sliced_threads=0 nr=0 decimate=1 interlaced=0 bluray_compat=0 constrained_intra=0 bframes=3 b_pyramid=2 b_adapt=1 b_bias=0 direct=1 weightb=1 open_gop=0 weightp=2 keyint=250 keyint_min=25 scenecut=40 intra_refresh=0 rc_lookahead=40 rc=crf mbtree=1 crf=23.0 qcomp=0.60 qpmin=0 qpmax=69 qpstep=4 ip_ratio=1.40 aq=1:1.00\n",
      "Output #0, mp4, to './outputs/perception.mp4':\n",
      "  Metadata:\n",
      "    encoder         : Lavf61.1.100\n",
      "  Stream #0:0: Video: h264 (avc1 / 0x31637661), yuv420p(progressive), 1440x1440, q=2-31, 30 fps, 15360 tbn\n",
      "      Metadata:\n",
      "        encoder         : Lavc61.3.100 libx264\n",
      "      Side data:\n",
      "        cpb: bitrate max/min/avg: 0/0/0 buffer size: 0 vbv_delay: N/A\n",
      "[out#0/mp4 @ 0x127f06b40] video:1978KiB audio:0KiB subtitle:0KiB other streams:0KiB global headers:0KiB muxing overhead: 0.220699%\n",
      "frame=  300 fps=158 q=-1.0 Lsize=    1983KiB time=00:00:09.93 bitrate=1635.1kbits/s speed=5.22x    \n",
      "[libx264 @ 0x127f09320] frame I:2     Avg QP:16.48  size: 15604\n",
      "[libx264 @ 0x127f09320] frame P:76    Avg QP:23.08  size: 10689\n",
      "[libx264 @ 0x127f09320] frame B:222   Avg QP:25.01  size:  5322\n",
      "[libx264 @ 0x127f09320] consecutive B-frames:  1.3%  0.0%  0.0% 98.7%\n",
      "[libx264 @ 0x127f09320] mb I  I16..4: 37.3% 59.4%  3.3%\n",
      "[libx264 @ 0x127f09320] mb P  I16..4:  7.2% 12.3%  1.1%  P16..4:  5.4%  1.6%  0.7%  0.0%  0.0%    skip:71.8%\n",
      "[libx264 @ 0x127f09320] mb B  I16..4:  1.4%  1.3%  0.1%  B16..8: 10.8%  2.0%  0.3%  direct: 2.3%  skip:81.9%  L0:46.4% L1:49.3% BI: 4.3%\n",
      "[libx264 @ 0x127f09320] 8x8 transform intra:56.2% inter:81.8%\n",
      "[libx264 @ 0x127f09320] coded y,uvDC,uvAC intra: 18.7% 60.4% 6.5% inter: 2.5% 9.1% 0.1%\n",
      "[libx264 @ 0x127f09320] i16 v,h,dc,p: 29% 18%  7% 45%\n",
      "[libx264 @ 0x127f09320] i8 v,h,dc,ddl,ddr,vr,hd,vl,hu: 22% 14% 32%  7%  7%  7%  4%  3%  4%\n",
      "[libx264 @ 0x127f09320] i4 v,h,dc,ddl,ddr,vr,hd,vl,hu: 27% 17% 31%  6%  5%  6%  3%  2%  3%\n",
      "[libx264 @ 0x127f09320] i8c dc,h,v,p: 50% 12% 24% 14%\n",
      "[libx264 @ 0x127f09320] Weighted P-Frames: Y:0.0% UV:0.0%\n",
      "[libx264 @ 0x127f09320] ref P L0: 69.6% 10.2% 10.7%  9.5%\n",
      "[libx264 @ 0x127f09320] ref B L0: 91.7%  6.6%  1.8%\n",
      "[libx264 @ 0x127f09320] ref B L1: 97.0%  3.0%\n",
      "[libx264 @ 0x127f09320] kb/s:1620.11\n"
     ]
    }
   ],
   "source": [
    "exportAndPlay(dirname)"
   ]
  },
  {
   "cell_type": "code",
   "execution_count": null,
   "metadata": {},
   "outputs": [],
   "source": []
  }
 ],
 "metadata": {
  "kernelspec": {
   "display_name": "chromalab",
   "language": "python",
   "name": "python3"
  },
  "language_info": {
   "codemirror_mode": {
    "name": "ipython",
    "version": 3
   },
   "file_extension": ".py",
   "mimetype": "text/x-python",
   "name": "python",
   "nbconvert_exporter": "python",
   "pygments_lexer": "ipython3",
   "version": "3.11.9"
  }
 },
 "nbformat": 4,
 "nbformat_minor": 2
}
