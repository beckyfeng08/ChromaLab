{
 "cells": [
  {
   "cell_type": "code",
   "execution_count": 1,
   "metadata": {},
   "outputs": [],
   "source": [
    "import csv\n",
    "import os\n",
    "import numpy as np\n",
    "import matplotlib.pyplot as plt\n",
    "from tqdm import tqdm"
   ]
  },
  {
   "cell_type": "code",
   "execution_count": 2,
   "metadata": {},
   "outputs": [
    {
     "name": "stdout",
     "output_type": "stream",
     "text": [
      "Jupyter environment detected. Enabling Open3D WebVisualizer.\n",
      "[Open3D INFO] WebRTC GUI backend enabled.\n",
      "[Open3D INFO] WebRTCWindowSystem: HTTP handshake server disabled.\n"
     ]
    }
   ],
   "source": [
    "from chromalab.observer import Observer, Cone, transformToChromaticity, getHeringMatrix\n",
    "from chromalab.spectra import Spectra, Illuminant, convert_refs_to_spectras\n",
    "from chromalab.maxbasis import MaxBasis\n",
    "from chromalab.visualizer import PSWrapper, DisplayBasisType, exportAndPlay\n",
    "from chromalab.spectral_analysis import PCAAnalysis\n"
   ]
  },
  {
   "cell_type": "code",
   "execution_count": 3,
   "metadata": {},
   "outputs": [],
   "source": [
    "%load_ext autoreload\n",
    "%autoreload 2\n",
    "%matplotlib ipympl"
   ]
  },
  {
   "cell_type": "code",
   "execution_count": 4,
   "metadata": {},
   "outputs": [],
   "source": [
    "wavelengths1 = np.arange(400, 701, 1)\n",
    "wavelengths5 = np.arange(400, 701, 5)\n",
    "wavelengths10 = np.arange(400, 701, 10)"
   ]
  },
  {
   "cell_type": "code",
   "execution_count": 5,
   "metadata": {},
   "outputs": [],
   "source": [
    "wavelengths = np.arange(400, 710, 10)\n",
    "d65 = Illuminant.get(\"D65\")"
   ]
  },
  {
   "cell_type": "code",
   "execution_count": 6,
   "metadata": {},
   "outputs": [
    {
     "name": "stderr",
     "output_type": "stream",
     "text": [
      "100%|██████████| 28/28 [00:00<00:00, 72.49it/s]\n",
      "/home/jlee/ChromaLab/chromalab/spectra.py:36: UserWarning: Data has values not between 0 and 1. Clipping.\n",
      "  warnings.warn(\"Data has values not between 0 and 1. Clipping.\")\n"
     ]
    }
   ],
   "source": [
    "trichromat = Observer.trichromat(wavelengths=wavelengths, illuminant=d65) \n",
    "maxbasis_tri = MaxBasis(trichromat, verbose=True)\n",
    "LMS_to_RGB = maxbasis_tri.get_cone_to_maxbasis_transform()[::-1]"
   ]
  },
  {
   "cell_type": "code",
   "execution_count": null,
   "metadata": {},
   "outputs": [],
   "source": [
    "# natural_spectra = np.load(\"../../../Hyperspectral-Data/natural-spectra-400-700-5.npy\")\n",
    "lmsq_data = np.load(\"./data/lmsq.npy\").reshape(-1, 4)\n",
    "\n",
    "tetrachromat = Observer.tetrachromat(wavelengths=wavelengths, illuminant=d65, verbose=True) \n",
    "maxbasis = MaxBasis(tetrachromat, verbose=True)\n",
    "\n",
    "viz = PSWrapper(tetrachromat, maxbasis, itemsToDisplay=PSWrapper.ItemsToDisplay.MESH, displayBasis=DisplayBasisType.MAXBASIS, verbose=True)"
   ]
  },
  {
   "cell_type": "code",
   "execution_count": 7,
   "metadata": {},
   "outputs": [
    {
     "name": "stderr",
     "output_type": "stream",
     "text": [
      "100%|██████████| 9/9 [00:02<00:00,  3.02it/s]\n"
     ]
    }
   ],
   "source": [
    "pca = PCAAnalysis(tetrachromat)\n",
    "lmsq = pca.get_LMSQ_Responses()\n",
    "np.save(\"lmsq.npy\", lmsq)"
   ]
  },
  {
   "cell_type": "code",
   "execution_count": null,
   "metadata": {},
   "outputs": [],
   "source": [
    "T = maxbasis.get_cone_to_maxbasis_transform()\n",
    "responses = (viz.HMatrix@T@lmsq_data.T).T[:, 1:]\n",
    "rgbs = np.clip((LMS_to_RGB@(lmsq_data[:, [0, 1, 3]].T)).T, 0, 1)"
   ]
  },
  {
   "cell_type": "code",
   "execution_count": null,
   "metadata": {},
   "outputs": [],
   "source": [
    "viz.ps.set_ground_plane_mode(\"none\")\n",
    "viz.renderObjectsPS(mesh_alpha=0.4, lattice_alpha=0.1)\n",
    "viz.ps.get_surface_mesh(\"mesh\").set_transform(viz._getTransformQUpDir())\n",
    "viz.renderPointCloud(responses[::100], rgbs[::100], radius=0.01)\n",
    "viz.ps.get_point_cloud(\"points\").set_transform(viz._getTransformQUpDir())\n",
    "viz.renderQArrow(radius=0.003)\n",
    "viz.ps.get_surface_mesh(\"qarrow\").set_transform(viz._getTransformQUpDir())"
   ]
  },
  {
   "cell_type": "code",
   "execution_count": null,
   "metadata": {},
   "outputs": [],
   "source": [
    "# viz.ps.show()"
   ]
  },
  {
   "cell_type": "code",
   "execution_count": null,
   "metadata": {},
   "outputs": [],
   "source": [
    "dirname = \"./outputs/pca-point-cloud\"\n",
    "os.makedirs(dirname, exist_ok=True)\n",
    "def rotate_once(offset, frame_count, theta):\n",
    "    for j in range(frame_count): # rotate once\n",
    "        phi = 360 * j / frame_count\n",
    "        point_3d = PSWrapper.polarToCartesian(3, theta, phi)\n",
    "        viz.ps.look_at(point_3d, [0, 0, 0])\n",
    "        viz.ps.screenshot(dirname + f\"/frame_{offset * frame_count + j:03d}.png\", True)\n",
    "\n",
    "def up_down_once(offset, frame_count, start_theta):\n",
    "    thetas = np.cos(np.linspace(np.radians(start_theta), 2*np.pi + np.radians(start_theta), frame_count)) * 45 + 45\n",
    "    # plt.plot(thetas)\n",
    "    # plt.show()\n",
    "    for j in range(frame_count): # rotate once\n",
    "        # theta = 90 * (start_theta + j) / frame_count\n",
    "        point_3d = PSWrapper.polarToCartesian(3, thetas[j], 0)\n",
    "        viz.ps.look_at(point_3d, [0, 0, 0])\n",
    "        viz.ps.screenshot(dirname + f\"/frame_{offset * frame_count + j:03d}.png\", True)\n",
    "    \n",
    "rot_per_sec = 0.3\n",
    "frame_count = int(1/rot_per_sec * 30)\n",
    "start_theta = 70\n",
    "\n",
    "rotate_once(0, frame_count, start_theta)\n",
    "up_down_once(1, frame_count, start_theta)"
   ]
  },
  {
   "cell_type": "code",
   "execution_count": null,
   "metadata": {},
   "outputs": [],
   "source": [
    "exportAndPlay(dirname)"
   ]
  },
  {
   "cell_type": "code",
   "execution_count": null,
   "metadata": {},
   "outputs": [],
   "source": []
  }
 ],
 "metadata": {
  "kernelspec": {
   "display_name": "chromalab",
   "language": "python",
   "name": "python3"
  },
  "language_info": {
   "codemirror_mode": {
    "name": "ipython",
    "version": 3
   },
   "file_extension": ".py",
   "mimetype": "text/x-python",
   "name": "python",
   "nbconvert_exporter": "python",
   "pygments_lexer": "ipython3",
   "version": "3.11.9"
  }
 },
 "nbformat": 4,
 "nbformat_minor": 2
}
