{
 "cells": [
  {
   "cell_type": "code",
   "execution_count": 1,
   "metadata": {},
   "outputs": [],
   "source": [
    "import csv\n",
    "import numpy as np\n",
    "np.set_printoptions(precision=3, suppress=True)\n",
    "import matplotlib.pyplot as plt\n",
    "from tqdm import tqdm\n",
    "import os\n",
    "import csv"
   ]
  },
  {
   "cell_type": "code",
   "execution_count": 2,
   "metadata": {},
   "outputs": [
    {
     "name": "stderr",
     "output_type": "stream",
     "text": [
      "objc[99009]: Class GLFWApplicationDelegate is implemented in both /Users/jessicalee/anaconda3/envs/chromalab/lib/python3.11/site-packages/open3d/cpu/pybind.cpython-311-darwin.so (0x2ac7c2e28) and /Users/jessicalee/anaconda3/envs/chromalab/lib/python3.11/site-packages/polyscope_bindings.cpython-311-darwin.so (0x2d06b26f0). One of the two will be used. Which one is undefined.\n",
      "objc[99009]: Class GLFWWindowDelegate is implemented in both /Users/jessicalee/anaconda3/envs/chromalab/lib/python3.11/site-packages/open3d/cpu/pybind.cpython-311-darwin.so (0x2ac7c2db0) and /Users/jessicalee/anaconda3/envs/chromalab/lib/python3.11/site-packages/polyscope_bindings.cpython-311-darwin.so (0x2d06b2718). One of the two will be used. Which one is undefined.\n",
      "objc[99009]: Class GLFWContentView is implemented in both /Users/jessicalee/anaconda3/envs/chromalab/lib/python3.11/site-packages/open3d/cpu/pybind.cpython-311-darwin.so (0x2ac7c2e50) and /Users/jessicalee/anaconda3/envs/chromalab/lib/python3.11/site-packages/polyscope_bindings.cpython-311-darwin.so (0x2d06b2768). One of the two will be used. Which one is undefined.\n",
      "objc[99009]: Class GLFWWindow is implemented in both /Users/jessicalee/anaconda3/envs/chromalab/lib/python3.11/site-packages/open3d/cpu/pybind.cpython-311-darwin.so (0x2ac7c2ec8) and /Users/jessicalee/anaconda3/envs/chromalab/lib/python3.11/site-packages/polyscope_bindings.cpython-311-darwin.so (0x2d06b27e0). One of the two will be used. Which one is undefined.\n"
     ]
    }
   ],
   "source": [
    "from chromalab.observer import Observer, Cone, transformToChromaticity, getHeringMatrix\n",
    "from chromalab.spectra import Spectra, Illuminant, convert_refs_to_spectras, convert_refs_to_rgbs\n",
    "from chromalab.maxbasis import MaxBasis\n",
    "from chromalab.inks import InkGamut\n",
    "from chromalab.visualizer import PSWrapper, DisplayBasisType, exportAndPlay, easeFunction\n",
    "from chromalab.animation import Animation"
   ]
  },
  {
   "cell_type": "code",
   "execution_count": 3,
   "metadata": {},
   "outputs": [],
   "source": [
    "%load_ext autoreload\n",
    "%autoreload 2\n",
    "%matplotlib ipympl"
   ]
  },
  {
   "cell_type": "code",
   "execution_count": 4,
   "metadata": {},
   "outputs": [],
   "source": [
    "wavelengths = np.arange(400, 710, 10)\n",
    "d65 = Illuminant.get(\"D65\")"
   ]
  },
  {
   "cell_type": "code",
   "execution_count": 5,
   "metadata": {},
   "outputs": [
    {
     "name": "stderr",
     "output_type": "stream",
     "text": [
      "100%|██████████| 28/28 [00:00<00:00, 65.85it/s]\n",
      "/Users/jessicalee/Projects/generalized-colorimetry/code/ChromaLab/chromalab/spectra.py:36: UserWarning: Data has values not between 0 and 1. Clipping.\n",
      "  warnings.warn(\"Data has values not between 0 and 1. Clipping.\")\n"
     ]
    },
    {
     "name": "stdout",
     "output_type": "stream",
     "text": [
      "[polyscope] Backend: openGL3_glfw -- Loaded openGL version: 4.1 Metal - 83.1\n"
     ]
    },
    {
     "name": "stderr",
     "output_type": "stream",
     "text": [
      "100%|██████████| 4495/4495 [00:00<00:00, 10354.40it/s]\n",
      "100%|██████████| 4495/4495 [00:00<00:00, 9806.42it/s] \n",
      "100%|██████████| 8990/8990 [00:19<00:00, 468.42it/s]\n"
     ]
    }
   ],
   "source": [
    "tetrachromat = Observer.tetrachromat(wavelengths=wavelengths, illuminant=d65, verbose=True) \n",
    "maxbasis = MaxBasis(tetrachromat, verbose=True)\n",
    "viz = PSWrapper(tetrachromat, maxbasis, itemsToDisplay=PSWrapper.ItemsToDisplay.BOTH, displayBasis=DisplayBasisType.MAXBASIS, verbose=True) "
   ]
  },
  {
   "cell_type": "code",
   "execution_count": 6,
   "metadata": {},
   "outputs": [],
   "source": [
    "cmy_primaries_dict = {}\n",
    "with open(f'../data/nix/PrintColors/000.csv') as csvf:\n",
    "    spamreader = csv.reader(csvf, delimiter=';')\n",
    "    for i, row in enumerate(spamreader): \n",
    "        if i == 4:\n",
    "            color_data = np.array(row[33:],dtype=float)\n",
    "            spectra = Spectra(data=color_data, wavelengths=wavelengths)\n",
    "            cmy_primaries_dict[\"000\"] = spectra"
   ]
  },
  {
   "cell_type": "code",
   "execution_count": 7,
   "metadata": {},
   "outputs": [],
   "source": [
    "# Polyscope settings\n",
    "viz.ps.set_ground_plane_mode(\"none\")\n",
    "\n",
    "# render all objects\n",
    "viz.renderObjectsPS(mesh_alpha=0.8, lattice_alpha=1)\n",
    "viz.renderQArrow()\n",
    "\n",
    "# transform to correct dir\n",
    "mat = viz._getTransformQUpDir()\n",
    "viz.ps.get_surface_mesh(\"mesh\").set_transform(mat)\n",
    "viz.ps.get_surface_mesh(\"lattice\").set_transform(mat)\n",
    "viz.ps.get_surface_mesh(\"qarrow\").set_transform(mat)"
   ]
  },
  {
   "cell_type": "code",
   "execution_count": 8,
   "metadata": {},
   "outputs": [],
   "source": [
    "names = [\"mesh\", \"lattice\", \"qarrow\"]"
   ]
  },
  {
   "cell_type": "code",
   "execution_count": 9,
   "metadata": {},
   "outputs": [
    {
     "name": "stderr",
     "output_type": "stream",
     "text": [
      "Generating point cloud: 1it [00:00, 2308.37it/s]\n"
     ]
    }
   ],
   "source": [
    "# Ideal Printer Gamut\n",
    "refs, discrete_points, rgbs, lines = maxbasis.getDiscreteRepresentation()\n",
    "cvpy_idxs = [-2, -3, -4, -5]\n",
    "collection = list(np.array(refs)[cvpy_idxs])\n",
    "\n",
    "\n",
    "paper = cmy_primaries_dict[\"000\"]  \n",
    "gamut = InkGamut(collection, paper, illuminant=d65)\n",
    "point_cloud, perc = gamut.get_point_cloud(tetrachromat, stepsize=0.5)\n",
    "names += viz.renderPrinterGamutConvexHull(\"cvpy\", point_cloud, mat=mat)"
   ]
  },
  {
   "cell_type": "code",
   "execution_count": 27,
   "metadata": {},
   "outputs": [],
   "source": [
    "real_ink_locs = np.array([ (viz.HMatrix@maxbasis.cone_to_maxbasis@tetrachromat.observe(ref))[1:] for ref in collection])\n",
    "real_ink_rgbs = np.array([ ref.to_rgb() for ref in collection])\n",
    "names += viz.renderPointCloud(\"CVPY_inks\", real_ink_locs, real_ink_rgbs, radius=0.018 * 2, mat=mat)\n"
   ]
  },
  {
   "cell_type": "code",
   "execution_count": 11,
   "metadata": {},
   "outputs": [],
   "source": [
    "names += viz._getCoordBasis(\"cvpy_coord\", (mat[:3, :3]@real_ink_locs.T).T)"
   ]
  },
  {
   "cell_type": "code",
   "execution_count": 12,
   "metadata": {},
   "outputs": [],
   "source": [
    "all_inks = {}\n",
    "with open(f'../data/nix/submittable-printing-library.csv') as csvf:\n",
    "    spamreader = csv.reader(csvf, delimiter=',')\n",
    "    for i, row in enumerate(spamreader):\n",
    "        if i < 1 or (i > 44 and i < 52): continue            \n",
    "        name = row[4]\n",
    "        color_data = np.array(row[33:],dtype=float)\n",
    "        spectra = Spectra(data=color_data, wavelengths=wavelengths)\n",
    "        all_inks[name] = spectra"
   ]
  },
  {
   "cell_type": "code",
   "execution_count": null,
   "metadata": {},
   "outputs": [],
   "source": [
    "real_ink_locs = np.array([ (viz.HMatrix@maxbasis.cone_to_maxbasis@tetrachromat.observe(ref))[1:] for ref in submitted_gamut])\n",
    "real_ink_rgbs = np.array([ ref.to_rgb() for ref in submitted_gamut])\n",
    "\n",
    "names += viz.renderPointCloud(\"chosen_inks\", real_ink_locs, real_ink_rgbs, radius=0.018, mat=mat)\n"
   ]
  },
  {
   "cell_type": "code",
   "execution_count": 21,
   "metadata": {},
   "outputs": [],
   "source": [
    "all_inks = {}\n",
    "with open(f'../data/nix/submittable-printing-library.csv') as csvf:\n",
    "    spamreader = csv.reader(csvf, delimiter=',')\n",
    "    for i, row in enumerate(spamreader):\n",
    "        if i < 1 or (i > 44 and i < 52): continue            \n",
    "        name = row[4]\n",
    "        color_data = np.array(row[33:],dtype=float)\n",
    "        spectra = Spectra(data=color_data, wavelengths=wavelengths)\n",
    "        all_inks[name] = spectra\n",
    "\n",
    "ink_spectras = list(all_inks.values())\n",
    "ink_locs = np.array([ (viz.HMatrix@maxbasis.cone_to_maxbasis@tetrachromat.observe(ref))[1:] for ref in ink_spectras])\n",
    "ink_rgbs = np.array([ ref.to_rgb() for ref in ink_spectras])\n",
    "\n",
    "names += viz.renderPointCloud(\"inklib\", ink_locs, ink_rgbs, radius=0.018, mat=mat)"
   ]
  },
  {
   "cell_type": "code",
   "execution_count": 13,
   "metadata": {},
   "outputs": [
    {
     "name": "stderr",
     "output_type": "stream",
     "text": [
      "Generating point cloud: 2it [00:00,  7.80it/s]                       \n"
     ]
    }
   ],
   "source": [
    "submitted_gamut = [all_inks[\"Platinum violet\"],  \n",
    "              all_inks[\"Peach haze D\"], \n",
    "              all_inks[\"Operation overlord orange N\"],\n",
    "              all_inks['Epson CMY 100']]\n",
    "\n",
    "real_ink_locs = np.array([ (viz.HMatrix@maxbasis.cone_to_maxbasis@tetrachromat.observe(ref))[1:] for ref in submitted_gamut])\n",
    "real_ink_rgbs = np.array([ ref.to_rgb() for ref in submitted_gamut])\n",
    "\n",
    "names += viz.renderPointCloud(\"chosen_inks\", real_ink_locs, real_ink_rgbs, radius=0.018, mat=mat)\n",
    "\n",
    "paper = cmy_primaries_dict[\"000\"]  \n",
    "gamut = InkGamut(submitted_gamut, paper, illuminant=d65)\n",
    "point_cloud, perc = gamut.get_point_cloud(tetrachromat, stepsize=0.05)\n",
    "names += viz.renderPrinterGamut(\"real_ink\", point_cloud, mat=mat)[0]"
   ]
  },
  {
   "cell_type": "code",
   "execution_count": 14,
   "metadata": {},
   "outputs": [
    {
     "name": "stderr",
     "output_type": "stream",
     "text": [
      "Generating point cloud: 1it [00:00, 57.98it/s]\n"
     ]
    }
   ],
   "source": [
    "CMY_gamut = [all_inks[\"Epson CMY 100\"], all_inks[\"Epson CMY 010\"], all_inks[\"Epson CMY 001\"]]\n",
    "\n",
    "real_ink_locs = np.array([ (viz.HMatrix@maxbasis.cone_to_maxbasis@tetrachromat.observe(ref))[1:] for ref in CMY_gamut])\n",
    "real_ink_rgbs = np.array([ ref.to_rgb() for ref in CMY_gamut])\n",
    "names += viz.renderPointCloud(\"CMY_points\", real_ink_locs, real_ink_rgbs, radius=0.018, mat=mat)\n",
    "\n",
    "gamut = InkGamut(CMY_gamut, paper, illuminant=d65)\n",
    "point_cloud, perc = gamut.get_point_cloud(tetrachromat, stepsize=0.05)\n",
    "names += viz.renderPrinterGamut(\"CMY_Gamut\", point_cloud, mat=mat)[0]"
   ]
  },
  {
   "cell_type": "code",
   "execution_count": 22,
   "metadata": {},
   "outputs": [],
   "source": [
    "types =  ['surface_mesh', 'surface_mesh', 'surface_mesh', 'surface_mesh', 'point_cloud', 'surface_mesh', 'point_cloud', 'surface_mesh', 'point_cloud', 'surface_mesh', 'point_cloud']\n",
    "map_name_type = {name:typ for name, typ in zip(names, types)}\n",
    "\n",
    "anim = Animation(viz, map_name_type)"
   ]
  },
  {
   "cell_type": "code",
   "execution_count": 32,
   "metadata": {},
   "outputs": [
    {
     "name": "stderr",
     "output_type": "stream",
     "text": [
      "frame=  127 fps=6.3 q=27.0 size=     768KiB time=00:00:04.16 bitrate=1510.0kbits/s speed=0.207x    \r"
     ]
    },
    {
     "name": "stderr",
     "output_type": "stream",
     "text": [
      "frame=  127 fps=5.1 q=27.0 size=     768KiB time=00:00:04.16 bitrate=1510.0kbits/s speed=0.169x    \r"
     ]
    }
   ],
   "source": [
    "short_frames = 180//3\n",
    "medium_frames = 180 * 2//3\n",
    "long_frames = 180\n",
    "r = 4\n",
    "theta = 65\n",
    "phi = 360\n",
    "offset = 0\n"
   ]
  },
  {
   "cell_type": "code",
   "execution_count": 17,
   "metadata": {},
   "outputs": [
    {
     "name": "stdout",
     "output_type": "stream",
     "text": [
      "RAYCAST_SPHERE\n",
      "SPHERE_PROPAGATE_COLOR\n",
      "SHADE_COLOR\n",
      "LIGHT_MATCAP\n",
      "RAYCAST_SPHERE\n",
      "SPHERE_PROPAGATE_COLOR\n",
      "SHADE_COLOR\n",
      "LIGHT_MATCAP\n",
      "RAYCAST_SPHERE\n",
      "SPHERE_PROPAGATE_COLOR\n",
      "SHADE_COLOR\n",
      "LIGHT_MATCAP\n"
     ]
    },
    {
     "name": "stderr",
     "output_type": "stream",
     "text": [
      "ffmpeg version 7.0.1 Copyright (c) 2000-2024 the FFmpeg developers\n",
      "  built with Apple clang version 15.0.0 (clang-1500.1.0.2.5)\n",
      "  configuration: --prefix=/opt/homebrew/Cellar/ffmpeg/7.0.1 --enable-shared --enable-pthreads --enable-version3 --cc=clang --host-cflags= --host-ldflags='-Wl,-ld_classic' --enable-ffplay --enable-gnutls --enable-gpl --enable-libaom --enable-libaribb24 --enable-libbluray --enable-libdav1d --enable-libharfbuzz --enable-libjxl --enable-libmp3lame --enable-libopus --enable-librav1e --enable-librist --enable-librubberband --enable-libsnappy --enable-libsrt --enable-libssh --enable-libsvtav1 --enable-libtesseract --enable-libtheora --enable-libvidstab --enable-libvmaf --enable-libvorbis --enable-libvpx --enable-libwebp --enable-libx264 --enable-libx265 --enable-libxml2 --enable-libxvid --enable-lzma --enable-libfontconfig --enable-libfreetype --enable-frei0r --enable-libass --enable-libopencore-amrnb --enable-libopencore-amrwb --enable-libopenjpeg --enable-libspeex --enable-libsoxr --enable-libzmq --enable-libzimg --disable-libjack --disable-indev=jack --enable-videotoolbox --enable-audiotoolbox --enable-neon\n",
      "  libavutil      59.  8.100 / 59.  8.100\n",
      "  libavcodec     61.  3.100 / 61.  3.100\n",
      "  libavformat    61.  1.100 / 61.  1.100\n",
      "  libavdevice    61.  1.100 / 61.  1.100\n",
      "  libavfilter    10.  1.100 / 10.  1.100\n",
      "  libswscale      8.  1.100 /  8.  1.100\n",
      "  libswresample   5.  1.100 /  5.  1.100\n",
      "  libpostproc    58.  1.100 / 58.  1.100\n",
      "Input #0, rawvideo, from 'fd:':\n",
      "  Duration: N/A, start: 0.000000, bitrate: 3594240 kb/s\n",
      "  Stream #0:0: Video: rawvideo (RGBA / 0x41424752), rgba, 2600x1440, 3594240 kb/s, 30 tbr, 30 tbn\n",
      "Stream mapping:\n",
      "  Stream #0:0 -> #0:0 (rawvideo (native) -> h264 (libx264))\n",
      "[libx264 @ 0x11de36e50] using cpu capabilities: ARMv8 NEON\n",
      "[libx264 @ 0x11de36e50] profile High, level 5.0, 4:2:0, 8-bit\n",
      "[libx264 @ 0x11de36e50] 264 - core 164 r3108 31e19f9 - H.264/MPEG-4 AVC codec - Copyleft 2003-2023 - http://www.videolan.org/x264.html - options: cabac=1 ref=2 deblock=1:0:0 analyse=0x3:0x113 me=hex subme=6 psy=1 psy_rd=1.00:0.00 mixed_ref=1 me_range=16 chroma_me=1 trellis=1 8x8dct=1 cqm=0 deadzone=21,11 fast_pskip=1 chroma_qp_offset=-2 threads=18 lookahead_threads=3 sliced_threads=0 nr=0 decimate=1 interlaced=0 bluray_compat=0 constrained_intra=0 bframes=3 b_pyramid=2 b_adapt=1 b_bias=0 direct=1 weightb=1 open_gop=0 weightp=1 keyint=250 keyint_min=25 scenecut=40 intra_refresh=0 rc_lookahead=30 rc=crf mbtree=1 crf=21.0 qcomp=0.60 qpmin=0 qpmax=69 qpstep=4 ip_ratio=1.40 aq=1:1.00\n",
      "Output #0, mp4, to './outputs/CMY_Gamut.mp4':\n",
      "  Metadata:\n",
      "    encoder         : Lavf61.1.100\n",
      "  Stream #0:0: Video: h264 (avc1 / 0x31637661), yuv420p(progressive), 2600x1440, q=2-31, 30 fps, 15360 tbn\n",
      "      Metadata:\n",
      "        encoder         : Lavc61.3.100 libx264\n",
      "      Side data:\n",
      "        cpb: bitrate max/min/avg: 0/0/0 buffer size: 0 vbv_delay: N/A\n",
      "[out#0/mp4 @ 0x11de357d0] video:1303KiB audio:0KiB subtitle:0KiB other streams:0KiB global headers:0KiB muxing overhead: 0.226943%\n",
      "frame=  180 fps= 68 q=-1.0 Lsize=    1306KiB time=00:00:05.93 bitrate=1803.1kbits/s speed=2.26x    \n",
      "[libx264 @ 0x11de36e50] frame I:1     Avg QP:16.59  size: 18309\n",
      "[libx264 @ 0x11de36e50] frame P:45    Avg QP:20.81  size: 11651\n",
      "[libx264 @ 0x11de36e50] frame B:134   Avg QP:21.33  size:  5903\n",
      "[libx264 @ 0x11de36e50] consecutive B-frames:  0.6%  0.0%  1.7% 97.8%\n",
      "[libx264 @ 0x11de36e50] mb I  I16..4: 43.4% 53.7%  2.9%\n",
      "[libx264 @ 0x11de36e50] mb P  I16..4:  3.5%  5.4%  0.6%  P16..4:  4.2%  1.4%  0.6%  0.0%  0.0%    skip:84.3%\n",
      "[libx264 @ 0x11de36e50] mb B  I16..4:  1.6%  0.4%  0.0%  B16..8:  5.9%  2.3%  0.1%  direct: 2.5%  skip:87.1%  L0:49.5% L1:46.0% BI: 4.6%\n",
      "[libx264 @ 0x11de36e50] 8x8 transform intra:43.8% inter:36.1%\n",
      "[libx264 @ 0x11de36e50] coded y,uvDC,uvAC intra: 10.9% 53.8% 7.0% inter: 0.8% 6.2% 0.1%\n",
      "[libx264 @ 0x11de36e50] i16 v,h,dc,p: 46% 21% 10% 24%\n",
      "[libx264 @ 0x11de36e50] i8 v,h,dc,ddl,ddr,vr,hd,vl,hu: 28% 13% 38%  3%  5%  4%  4%  3%  2%\n",
      "[libx264 @ 0x11de36e50] i4 v,h,dc,ddl,ddr,vr,hd,vl,hu: 29% 19% 33%  3%  4%  4%  4%  3%  2%\n",
      "[libx264 @ 0x11de36e50] i8c dc,h,v,p: 51% 10% 28% 10%\n",
      "[libx264 @ 0x11de36e50] Weighted P-Frames: Y:0.0% UV:0.0%\n",
      "[libx264 @ 0x11de36e50] ref P L0: 82.7% 17.3%\n",
      "[libx264 @ 0x11de36e50] ref B L0: 87.7% 12.3%\n",
      "[libx264 @ 0x11de36e50] ref B L1: 95.4%  4.6%\n",
      "[libx264 @ 0x11de36e50] kb/s:1778.09\n"
     ]
    }
   ],
   "source": [
    "filename = \"./outputs/CMY_Gamut.mp4\"\n",
    "anim.set_enabled('lattice', False)\n",
    "anim.set_enabled('cvpy_printer_mesh', False)\n",
    "fd = viz.openVideo(filename)\n",
    "rotAroundZ, phi = anim.RotateAroundZ(long_frames, r, theta, [0, phi])\n",
    "fadeOutMesh = anim.FadeOut(\"mesh\", long_frames, [0.4, 0.8])\n",
    "concatAll = anim.concatFns([rotAroundZ, fadeOutMesh])\n",
    "offset = viz.renderVideo(concatAll, fd, long_frames, offset)\n",
    "viz.closeVideo(fd)"
   ]
  },
  {
   "cell_type": "code",
   "execution_count": 19,
   "metadata": {},
   "outputs": [
    {
     "name": "stderr",
     "output_type": "stream",
     "text": [
      "ffmpeg version 7.0.1 Copyright (c) 2000-2024 the FFmpeg developers\n",
      "  built with Apple clang version 15.0.0 (clang-1500.1.0.2.5)\n",
      "  configuration: --prefix=/opt/homebrew/Cellar/ffmpeg/7.0.1 --enable-shared --enable-pthreads --enable-version3 --cc=clang --host-cflags= --host-ldflags='-Wl,-ld_classic' --enable-ffplay --enable-gnutls --enable-gpl --enable-libaom --enable-libaribb24 --enable-libbluray --enable-libdav1d --enable-libharfbuzz --enable-libjxl --enable-libmp3lame --enable-libopus --enable-librav1e --enable-librist --enable-librubberband --enable-libsnappy --enable-libsrt --enable-libssh --enable-libsvtav1 --enable-libtesseract --enable-libtheora --enable-libvidstab --enable-libvmaf --enable-libvorbis --enable-libvpx --enable-libwebp --enable-libx264 --enable-libx265 --enable-libxml2 --enable-libxvid --enable-lzma --enable-libfontconfig --enable-libfreetype --enable-frei0r --enable-libass --enable-libopencore-amrnb --enable-libopencore-amrwb --enable-libopenjpeg --enable-libspeex --enable-libsoxr --enable-libzmq --enable-libzimg --disable-libjack --disable-indev=jack --enable-videotoolbox --enable-audiotoolbox --enable-neon\n",
      "  libavutil      59.  8.100 / 59.  8.100\n",
      "  libavcodec     61.  3.100 / 61.  3.100\n",
      "  libavformat    61.  1.100 / 61.  1.100\n",
      "  libavdevice    61.  1.100 / 61.  1.100\n",
      "  libavfilter    10.  1.100 / 10.  1.100\n",
      "  libswscale      8.  1.100 /  8.  1.100\n",
      "  libswresample   5.  1.100 /  5.  1.100\n",
      "  libpostproc    58.  1.100 / 58.  1.100\n",
      "Input #0, rawvideo, from 'fd:':\n",
      "  Duration: N/A, start: 0.000000, bitrate: 3594240 kb/s\n",
      "  Stream #0:0: Video: rawvideo (RGBA / 0x41424752), rgba, 2600x1440, 3594240 kb/s, 30 tbr, 30 tbn\n",
      "Stream mapping:\n",
      "  Stream #0:0 -> #0:0 (rawvideo (native) -> h264 (libx264))\n",
      "[libx264 @ 0x155e136a0] using cpu capabilities: ARMv8 NEON\n",
      "[libx264 @ 0x155e136a0] profile High, level 5.0, 4:2:0, 8-bit\n",
      "[libx264 @ 0x155e136a0] 264 - core 164 r3108 31e19f9 - H.264/MPEG-4 AVC codec - Copyleft 2003-2023 - http://www.videolan.org/x264.html - options: cabac=1 ref=2 deblock=1:0:0 analyse=0x3:0x113 me=hex subme=6 psy=1 psy_rd=1.00:0.00 mixed_ref=1 me_range=16 chroma_me=1 trellis=1 8x8dct=1 cqm=0 deadzone=21,11 fast_pskip=1 chroma_qp_offset=-2 threads=18 lookahead_threads=3 sliced_threads=0 nr=0 decimate=1 interlaced=0 bluray_compat=0 constrained_intra=0 bframes=3 b_pyramid=2 b_adapt=1 b_bias=0 direct=1 weightb=1 open_gop=0 weightp=1 keyint=250 keyint_min=25 scenecut=40 intra_refresh=0 rc_lookahead=30 rc=crf mbtree=1 crf=21.0 qcomp=0.60 qpmin=0 qpmax=69 qpstep=4 ip_ratio=1.40 aq=1:1.00\n",
      "Output #0, mp4, to './outputs/CVPY_Gamut.mp4':\n",
      "  Metadata:\n",
      "    encoder         : Lavf61.1.100\n",
      "  Stream #0:0: Video: h264 (avc1 / 0x31637661), yuv420p(progressive), 2600x1440, q=2-31, 30 fps, 15360 tbn\n",
      "      Metadata:\n",
      "        encoder         : Lavc61.3.100 libx264\n",
      "      Side data:\n",
      "        cpb: bitrate max/min/avg: 0/0/0 buffer size: 0 vbv_delay: N/A\n",
      "[out#0/mp4 @ 0x155e12570] video:1174KiB audio:0KiB subtitle:0KiB other streams:0KiB global headers:0KiB muxing overhead: 0.251853%\n",
      "frame=  180 fps= 68 q=-1.0 Lsize=    1177KiB time=00:00:05.93 bitrate=1625.1kbits/s speed=2.26x    \n",
      "[libx264 @ 0x155e136a0] frame I:1     Avg QP:14.54  size: 16698\n",
      "[libx264 @ 0x155e136a0] frame P:45    Avg QP:19.82  size: 10403\n",
      "[libx264 @ 0x155e136a0] frame B:134   Avg QP:20.36  size:  5349\n",
      "[libx264 @ 0x155e136a0] consecutive B-frames:  0.6%  0.0%  1.7% 97.8%\n",
      "[libx264 @ 0x155e136a0] mb I  I16..4: 25.6% 71.5%  2.9%\n",
      "[libx264 @ 0x155e136a0] mb P  I16..4:  2.9%  4.6%  0.6%  P16..4:  4.8%  1.7%  0.6%  0.0%  0.0%    skip:84.8%\n",
      "[libx264 @ 0x155e136a0] mb B  I16..4:  1.5%  0.3%  0.0%  B16..8:  6.2%  2.4%  0.1%  direct: 2.1%  skip:87.2%  L0:48.0% L1:47.9% BI: 4.1%\n",
      "[libx264 @ 0x155e136a0] 8x8 transform intra:45.1% inter:40.3%\n",
      "[libx264 @ 0x155e136a0] coded y,uvDC,uvAC intra: 9.6% 47.1% 4.7% inter: 0.7% 5.6% 0.0%\n",
      "[libx264 @ 0x155e136a0] i16 v,h,dc,p: 35% 24% 10% 30%\n",
      "[libx264 @ 0x155e136a0] i8 v,h,dc,ddl,ddr,vr,hd,vl,hu: 29% 13% 37%  3%  5%  4%  3%  3%  2%\n",
      "[libx264 @ 0x155e136a0] i4 v,h,dc,ddl,ddr,vr,hd,vl,hu: 32% 16% 34%  3%  4%  4%  2%  3%  2%\n",
      "[libx264 @ 0x155e136a0] i8c dc,h,v,p: 57% 10% 25%  7%\n",
      "[libx264 @ 0x155e136a0] Weighted P-Frames: Y:0.0% UV:0.0%\n",
      "[libx264 @ 0x155e136a0] ref P L0: 82.0% 18.0%\n",
      "[libx264 @ 0x155e136a0] ref B L0: 87.1% 12.9%\n",
      "[libx264 @ 0x155e136a0] ref B L1: 95.8%  4.2%\n",
      "[libx264 @ 0x155e136a0] kb/s:1602.13\n"
     ]
    }
   ],
   "source": [
    "filename = \"./outputs/CVPY_Gamut.mp4\"\n",
    "anim.set_enabled('lattice', False)\n",
    "anim.set_enabled('cvpy_printer_mesh', True)\n",
    "anim.set_enabled('CMY_Gamut_printer_mesh', False)\n",
    "anim.set_enabled(\"CMY_points\", False)\n",
    "anim.set_enabled(\"qarrow\", False)\n",
    "anim.set_enabled('CVPY_inks', True)\n",
    "anim.set_enabled('cvpy_coord', True)\n",
    "anim.set_transparency(\"cvpy_printer_mesh\", 0.5)\n",
    "anim.set_enabled('ink_lib', False)\n",
    "\n",
    "anim.set_enabled('chosen_inks', False)\n",
    "anim.set_enabled('real_ink_printer_mesh', False)\n",
    "\n",
    "fd = viz.openVideo(filename)\n",
    "rotAroundZ, phi = anim.RotateAroundZ(long_frames, r, theta, [0, phi])\n",
    "fadeOutMesh = anim.FadeOut(\"mesh\", long_frames, [0.4, 0.6])\n",
    "concatAll = anim.concatFns([rotAroundZ, fadeOutMesh])\n",
    "offset = viz.renderVideo(concatAll, fd, long_frames, offset)\n",
    "viz.closeVideo(fd)"
   ]
  },
  {
   "cell_type": "code",
   "execution_count": 30,
   "metadata": {},
   "outputs": [
    {
     "data": {
      "text/plain": [
       "['mesh',\n",
       " 'lattice',\n",
       " 'qarrow',\n",
       " 'cvpy_printer_mesh',\n",
       " 'CVPY_inks',\n",
       " 'cvpy_coord',\n",
       " 'chosen_inks',\n",
       " 'real_ink_printer_mesh',\n",
       " 'CMY_points',\n",
       " 'CMY_Gamut_printer_mesh',\n",
       " 'inklib',\n",
       " 'CVPY_inks']"
      ]
     },
     "execution_count": 30,
     "metadata": {},
     "output_type": "execute_result"
    }
   ],
   "source": [
    "names"
   ]
  },
  {
   "cell_type": "code",
   "execution_count": 41,
   "metadata": {},
   "outputs": [],
   "source": [
    "offset = 0"
   ]
  },
  {
   "cell_type": "code",
   "execution_count": 42,
   "metadata": {},
   "outputs": [
    {
     "name": "stderr",
     "output_type": "stream",
     "text": [
      "frame=  127 fps=0.3 q=27.0 size=     768KiB time=00:00:04.16 bitrate=1510.0kbits/s speed=0.00959x    \r"
     ]
    },
    {
     "name": "stderr",
     "output_type": "stream",
     "text": [
      "ffmpeg version 7.0.1 Copyright (c) 2000-2024 the FFmpeg developers\n",
      "  built with Apple clang version 15.0.0 (clang-1500.1.0.2.5)\n",
      "  configuration: --prefix=/opt/homebrew/Cellar/ffmpeg/7.0.1 --enable-shared --enable-pthreads --enable-version3 --cc=clang --host-cflags= --host-ldflags='-Wl,-ld_classic' --enable-ffplay --enable-gnutls --enable-gpl --enable-libaom --enable-libaribb24 --enable-libbluray --enable-libdav1d --enable-libharfbuzz --enable-libjxl --enable-libmp3lame --enable-libopus --enable-librav1e --enable-librist --enable-librubberband --enable-libsnappy --enable-libsrt --enable-libssh --enable-libsvtav1 --enable-libtesseract --enable-libtheora --enable-libvidstab --enable-libvmaf --enable-libvorbis --enable-libvpx --enable-libwebp --enable-libx264 --enable-libx265 --enable-libxml2 --enable-libxvid --enable-lzma --enable-libfontconfig --enable-libfreetype --enable-frei0r --enable-libass --enable-libopencore-amrnb --enable-libopencore-amrwb --enable-libopenjpeg --enable-libspeex --enable-libsoxr --enable-libzmq --enable-libzimg --disable-libjack --disable-indev=jack --enable-videotoolbox --enable-audiotoolbox --enable-neon\n",
      "  libavutil      59.  8.100 / 59.  8.100\n",
      "  libavcodec     61.  3.100 / 61.  3.100\n",
      "  libavformat    61.  1.100 / 61.  1.100\n",
      "  libavdevice    61.  1.100 / 61.  1.100\n",
      "  libavfilter    10.  1.100 / 10.  1.100\n",
      "  libswscale      8.  1.100 /  8.  1.100\n",
      "  libswresample   5.  1.100 /  5.  1.100\n",
      "  libpostproc    58.  1.100 / 58.  1.100\n",
      "Input #0, rawvideo, from 'fd:':\n",
      "  Duration: N/A, start: 0.000000, bitrate: 3594240 kb/s\n",
      "  Stream #0:0: Video: rawvideo (RGBA / 0x41424752), rgba, 2600x1440, 3594240 kb/s, 30 tbr, 30 tbn\n",
      "Stream mapping:\n",
      "  Stream #0:0 -> #0:0 (rawvideo (native) -> h264 (libx264))\n",
      "[libx264 @ 0x12e7087b0] using cpu capabilities: ARMv8 NEON\n",
      "[libx264 @ 0x12e7087b0] profile High, level 5.0, 4:2:0, 8-bit\n",
      "[libx264 @ 0x12e7087b0] 264 - core 164 r3108 31e19f9 - H.264/MPEG-4 AVC codec - Copyleft 2003-2023 - http://www.videolan.org/x264.html - options: cabac=1 ref=2 deblock=1:0:0 analyse=0x3:0x113 me=hex subme=6 psy=1 psy_rd=1.00:0.00 mixed_ref=1 me_range=16 chroma_me=1 trellis=1 8x8dct=1 cqm=0 deadzone=21,11 fast_pskip=1 chroma_qp_offset=-2 threads=18 lookahead_threads=3 sliced_threads=0 nr=0 decimate=1 interlaced=0 bluray_compat=0 constrained_intra=0 bframes=3 b_pyramid=2 b_adapt=1 b_bias=0 direct=1 weightb=1 open_gop=0 weightp=1 keyint=250 keyint_min=25 scenecut=40 intra_refresh=0 rc_lookahead=30 rc=crf mbtree=1 crf=21.0 qcomp=0.60 qpmin=0 qpmax=69 qpstep=4 ip_ratio=1.40 aq=1:1.00\n",
      "Output #0, mp4, to './outputs/library_of_inks.mp4':\n",
      "  Metadata:\n",
      "    encoder         : Lavf61.1.100\n",
      "  Stream #0:0: Video: h264 (avc1 / 0x31637661), yuv420p(progressive), 2600x1440, q=2-31, 30 fps, 15360 tbn\n",
      "      Metadata:\n",
      "        encoder         : Lavc61.3.100 libx264\n",
      "      Side data:\n",
      "        cpb: bitrate max/min/avg: 0/0/0 buffer size: 0 vbv_delay: N/A\n",
      "frame=    0 fps=0.0 q=0.0 size=       0KiB time=N/A bitrate=N/A speed=N/A    its/s speed=0.00957x    \r"
     ]
    }
   ],
   "source": [
    "filename = \"./outputs/library_of_inks.mp4\"\n",
    "anim.set_enabled('lattice', False)\n",
    "anim.set_enabled('cvpy_printer_mesh', False)\n",
    "anim.set_enabled('CMY_Gamut_printer_mesh', False)\n",
    "anim.set_enabled(\"CMY_points\", False)\n",
    "anim.set_enabled(\"qarrow\", False)\n",
    "anim.set_enabled('CVPY_inks', True)\n",
    "anim.set_transparency(\"cvpy_printer_mesh\", 0.5)\n",
    "\n",
    "anim.set_enabled('inklib', True)\n",
    "anim.set_enabled('chosen_inks', False)\n",
    "anim.set_enabled('real_ink_printer_mesh', False)\n",
    "last_phi = 270\n",
    "fd = viz.openVideo(filename)\n",
    "rotAroundZ, phi = anim.RotateAroundZ(short_frames, r, theta, [0, last_phi/3])\n",
    "fadeOutInks = anim.FadeOut(\"inklib\", short_frames, [0.4, 0.6], removeBefore=5)\n",
    "offset = viz.renderVideo(anim.concatFns([rotAroundZ, fadeOutInks]), fd, short_frames, offset)\n",
    "\n",
    "rotAroundZ, phi = anim.RotateAroundZ(short_frames, r, theta, [phi, last_phi/3 * 2])\n",
    "anim.set_enabled('real_ink_printer_mesh', True)\n",
    "anim.set_enabled('chosen_inks', True)\n",
    "fadeInGamut = anim.FadeIn(\"real_ink_printer_mesh\", short_frames, [0.4, 0.8])\n",
    "fadeInInks = anim.FadeIn(\"chosen_inks\", short_frames, [0.4, 0.8])\n",
    "offset = viz.renderVideo(anim.concatFns([rotAroundZ, fadeInGamut, fadeInInks]), fd, short_frames, offset)\n",
    "\n",
    "rotAroundZ, phi = anim.RotateAroundZ(medium_frames, r, theta, [phi, 360])\n",
    "offset = viz.renderVideo(anim.concatFns([rotAroundZ, fadeInGamut, fadeInInks]), fd, medium_frames, offset)\n",
    "\n",
    "viz.closeVideo(fd)"
   ]
  },
  {
   "cell_type": "code",
   "execution_count": null,
   "metadata": {},
   "outputs": [],
   "source": [
    "filename = \"./outputs/chosen_ink_gamut.mp4\"\n",
    "anim.set_transparency('mesh', 0.5)\n",
    "anim.set_enabled('qarrow', False)\n",
    "anim.set_enabled('chosen_inks', True)\n",
    "anim.set_enabled('real_ink_printer_mesh', True)\n",
    "anim.set_enabled('lattice', False)\n",
    "anim.set_enabled('cvpy_printer_mesh', False)\n",
    "anim.set_enabled('CMY_Gamut_printer_mesh', False)\n",
    "anim.set_enabled(\"CMY_points\", False)\n",
    "\n",
    "fd = viz.openVideo(filename)\n",
    "rotAroundZ, phi = anim.RotateAroundZ(long_frames, r, theta, [0, phi])\n",
    "offset = viz.renderVideo(rotAroundZ, fd, long_frames, offset)\n",
    "viz.closeVideo(fd)"
   ]
  },
  {
   "cell_type": "code",
   "execution_count": null,
   "metadata": {},
   "outputs": [],
   "source": []
  }
 ],
 "metadata": {
  "kernelspec": {
   "display_name": "chromalab",
   "language": "python",
   "name": "python3"
  },
  "language_info": {
   "codemirror_mode": {
    "name": "ipython",
    "version": 3
   },
   "file_extension": ".py",
   "mimetype": "text/x-python",
   "name": "python",
   "nbconvert_exporter": "python",
   "pygments_lexer": "ipython3",
   "version": "3.11.9"
  }
 },
 "nbformat": 4,
 "nbformat_minor": 2
}
