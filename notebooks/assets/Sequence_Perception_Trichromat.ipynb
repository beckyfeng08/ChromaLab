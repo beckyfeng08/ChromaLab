{
 "cells": [
  {
   "cell_type": "code",
   "execution_count": 1,
   "metadata": {},
   "outputs": [],
   "source": [
    "import csv\n",
    "import numpy as np\n",
    "import matplotlib.pyplot as plt\n",
    "from tqdm import tqdm\n",
    "import os"
   ]
  },
  {
   "cell_type": "code",
   "execution_count": 2,
   "metadata": {},
   "outputs": [
    {
     "name": "stderr",
     "output_type": "stream",
     "text": [
      "objc[61709]: Class GLFWApplicationDelegate is implemented in both /Users/jessicalee/anaconda3/envs/chromalab/lib/python3.11/site-packages/open3d/cpu/pybind.cpython-311-darwin.so (0x2a2386e28) and /Users/jessicalee/anaconda3/envs/chromalab/lib/python3.11/site-packages/polyscope_bindings.cpython-311-darwin.so (0x2bc17aea0). One of the two will be used. Which one is undefined.\n",
      "objc[61709]: Class GLFWWindowDelegate is implemented in both /Users/jessicalee/anaconda3/envs/chromalab/lib/python3.11/site-packages/open3d/cpu/pybind.cpython-311-darwin.so (0x2a2386db0) and /Users/jessicalee/anaconda3/envs/chromalab/lib/python3.11/site-packages/polyscope_bindings.cpython-311-darwin.so (0x2bc17aec8). One of the two will be used. Which one is undefined.\n",
      "objc[61709]: Class GLFWContentView is implemented in both /Users/jessicalee/anaconda3/envs/chromalab/lib/python3.11/site-packages/open3d/cpu/pybind.cpython-311-darwin.so (0x2a2386e50) and /Users/jessicalee/anaconda3/envs/chromalab/lib/python3.11/site-packages/polyscope_bindings.cpython-311-darwin.so (0x2bc17af18). One of the two will be used. Which one is undefined.\n",
      "objc[61709]: Class GLFWWindow is implemented in both /Users/jessicalee/anaconda3/envs/chromalab/lib/python3.11/site-packages/open3d/cpu/pybind.cpython-311-darwin.so (0x2a2386ec8) and /Users/jessicalee/anaconda3/envs/chromalab/lib/python3.11/site-packages/polyscope_bindings.cpython-311-darwin.so (0x2bc17af90). One of the two will be used. Which one is undefined.\n"
     ]
    }
   ],
   "source": [
    "from chromalab.observer import Observer, Cone, transformToChromaticity, getHeringMatrix\n",
    "from chromalab.spectra import Spectra, Illuminant, convert_refs_to_spectras\n",
    "from chromalab.maxbasis import MaxBasis\n",
    "from chromalab.visualizer import PSWrapper, DisplayBasisType, exportAndPlay, easeFunction"
   ]
  },
  {
   "cell_type": "code",
   "execution_count": 3,
   "metadata": {},
   "outputs": [],
   "source": [
    "%load_ext autoreload\n",
    "%autoreload 2\n",
    "%matplotlib ipympl"
   ]
  },
  {
   "cell_type": "code",
   "execution_count": 4,
   "metadata": {},
   "outputs": [],
   "source": [
    "wavelengths1 = np.arange(390, 701, 1)\n",
    "wavelengths5 = np.arange(400, 701, 5)\n",
    "wavelengths10 = np.arange(400, 701, 10)"
   ]
  },
  {
   "cell_type": "code",
   "execution_count": 5,
   "metadata": {},
   "outputs": [],
   "source": [
    "wavelengths = np.arange(400, 710, 10)\n",
    "d65 = Illuminant.get(\"D65\")"
   ]
  },
  {
   "cell_type": "code",
   "execution_count": 6,
   "metadata": {},
   "outputs": [
    {
     "name": "stderr",
     "output_type": "stream",
     "text": [
      "100%|██████████| 58/58 [00:00<00:00, 594.96it/s]\n",
      "/Users/jessicalee/Projects/generalized-colorimetry/code/ChromaLab/chromalab/spectra.py:36: UserWarning: Data has values not between 0 and 1. Clipping.\n",
      "  warnings.warn(\"Data has values not between 0 and 1. Clipping.\")\n"
     ]
    },
    {
     "name": "stdout",
     "output_type": "stream",
     "text": [
      "[polyscope] Backend: openGL3_glfw -- Loaded openGL version: 4.1 Metal - 83.1\n"
     ]
    },
    {
     "name": "stderr",
     "output_type": "stream",
     "text": [
      "100%|██████████| 3660/3660 [00:08<00:00, 416.21it/s]\n",
      "100%|██████████| 28/28 [00:00<00:00, 62.21it/s]\n"
     ]
    }
   ],
   "source": [
    "trichromat = Observer.trichromat(wavelengths=wavelengths5, illuminant=d65) \n",
    "maxbasis = MaxBasis(trichromat, verbose=True)\n",
    "viz = PSWrapper(trichromat, maxbasis, itemsToDisplay=PSWrapper.ItemsToDisplay.MESH, displayBasis=DisplayBasisType.MAXBASIS, verbose=True)\n",
    "\n",
    "tetrachromat = Observer.tetrachromat(wavelengths=wavelengths, illuminant=d65, verbose=True) \n",
    "maxbasis_tetra = MaxBasis(tetrachromat, verbose=True)"
   ]
  },
  {
   "cell_type": "code",
   "execution_count": 7,
   "metadata": {},
   "outputs": [],
   "source": [
    "# helper functions\n",
    "def SetEnabledFn(list_names, list_types=None):\n",
    "    if list_types is None:\n",
    "        return lambda list_true: [viz.ps.get_surface_mesh(item).set_enabled(enabled) for item, enabled in zip(list_names, list_true)]\n",
    "    else:\n",
    "        return lambda list_true: [getattr(viz.ps, f'get_{type_name}')(item).set_enabled(enabled) for item, type_name, enabled in zip(list_names, list_types, list_true)]"
   ]
  },
  {
   "cell_type": "code",
   "execution_count": 13,
   "metadata": {},
   "outputs": [],
   "source": [
    "# general settings\n",
    "viz.ps.set_ground_plane_mode(\"none\")\n",
    "dirname = \"./outputs/trichromat_presentation_loop\"\n",
    "os.makedirs(dirname, exist_ok=True)\n",
    "offset = 0\n",
    "\n",
    "# render all objects\n",
    "names, mat = viz.lineOfArrows()\n",
    "mesh_types = [\"surface_mesh\", \"surface_mesh\", \"curve_network\", \"surface_mesh\"]\n",
    "set_enabled = SetEnabledFn(names, mesh_types)"
   ]
  },
  {
   "cell_type": "code",
   "execution_count": 9,
   "metadata": {},
   "outputs": [],
   "source": [
    "set_enabled([False, True, False, False])\n",
    "viz.ps.screenshot(f\"{dirname}/trichromat_chromatic_space.png\")\n",
    "set_enabled([False, True, False, True])\n",
    "viz.ps.screenshot(f\"{dirname}/trichromat_achromatic.png\")\n",
    "set_enabled([True, True, True, False])\n",
    "viz.ps.screenshot(f\"{dirname}/trichromat_confusion_lines.png\")"
   ]
  },
  {
   "cell_type": "code",
   "execution_count": 23,
   "metadata": {},
   "outputs": [],
   "source": [
    "refs, discrete_points, rgbs, lines = maxbasis_tetra.getDiscreteRepresentation()\n",
    "\n",
    "points = np.array([trichromat.observe(s) for s in refs])\n",
    "ref_points = (viz.HMatrix@maxbasis.cone_to_maxbasis@points.T).T\n",
    "ref_points[:, 0] = 0\n",
    "\n",
    "\n",
    "name = viz.renderPointCloud(ref_points[1:-1], rgbs[1:-1], radius=0.03)\n",
    "viz.ps.get_point_cloud(name[0]).set_transform(mat)\n",
    "viz.ps.get_point_cloud(name[0]).set_enabled(True)"
   ]
  },
  {
   "cell_type": "code",
   "execution_count": 24,
   "metadata": {},
   "outputs": [
    {
     "ename": "",
     "evalue": "",
     "output_type": "error",
     "traceback": [
      "\u001b[1;31mThe Kernel crashed while executing code in the current cell or a previous cell. \n",
      "\u001b[1;31mPlease review the code in the cell(s) to identify a possible cause of the failure. \n",
      "\u001b[1;31mClick <a href='https://aka.ms/vscodeJupyterKernelCrash'>here</a> for more info. \n",
      "\u001b[1;31mView Jupyter <a href='command:jupyter.viewOutput'>log</a> for further details."
     ]
    }
   ],
   "source": [
    "set_enabled([False, False, False, False])\n",
    "viz.ps.screenshot(f\"{dirname}/tetrachromat_tetra_lattice.png\")"
   ]
  },
  {
   "cell_type": "code",
   "execution_count": 20,
   "metadata": {},
   "outputs": [],
   "source": [
    "set_enabled([False, True, False, False])\n",
    "viz.ps.get_point_cloud(name[0]).set_enabled(True)\n",
    "viz.ps.screenshot(f\"{dirname}/tetrachromat_chrom.png\")"
   ]
  },
  {
   "cell_type": "code",
   "execution_count": 18,
   "metadata": {},
   "outputs": [],
   "source": [
    "viz.ps.show()"
   ]
  },
  {
   "cell_type": "code",
   "execution_count": null,
   "metadata": {},
   "outputs": [],
   "source": []
  }
 ],
 "metadata": {
  "kernelspec": {
   "display_name": "chromalab",
   "language": "python",
   "name": "python3"
  },
  "language_info": {
   "codemirror_mode": {
    "name": "ipython",
    "version": 3
   },
   "file_extension": ".py",
   "mimetype": "text/x-python",
   "name": "python",
   "nbconvert_exporter": "python",
   "pygments_lexer": "ipython3",
   "version": "3.11.9"
  }
 },
 "nbformat": 4,
 "nbformat_minor": 2
}
