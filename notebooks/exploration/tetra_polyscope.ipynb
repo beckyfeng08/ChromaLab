{
 "cells": [
  {
   "cell_type": "code",
   "execution_count": null,
   "metadata": {},
   "outputs": [],
   "source": [
    "\"\"\"\n",
    "Uninstall current version of polyscope from current virtual environment:\n",
    "    pip uninstall polyscope\n",
    "\n",
    "Local installation. Haven't put this version on PyPI yet, since it seems like uploading a \n",
    "new version could take over an hour. \n",
    "  git clone git@github.com:i-geng/polyscope-py.git\n",
    "\n",
    "From the root polyscope-py directory, need to build the C++ source:\n",
    "    mkdir build; cd build\n",
    "    cmake ../\n",
    "    make\n",
    "\n",
    "Back in the root polyscope-py directory:\n",
    "    pip install .\n",
    "\"\"\"\n",
    "\n",
    "import numpy as np\n",
    "import polyscope as ps\n",
    "import potpourri3d as pp3d"
   ]
  },
  {
   "cell_type": "code",
   "execution_count": null,
   "metadata": {},
   "outputs": [],
   "source": [
    "\"\"\" Polyscope set-up \"\"\"\n",
    "ps.set_ground_plane_mode(\"none\")\n",
    "ps.set_background_color(np.array([0.0, 0.0, 0.0]))\n",
    "ps.init()"
   ]
  },
  {
   "cell_type": "code",
   "execution_count": null,
   "metadata": {},
   "outputs": [],
   "source": [
    "\"\"\" Helper functions \"\"\"\n",
    "def load_surface_mesh(filename: str, obj_name: str):\n",
    "    verts, faces = pp3d.read_mesh(filename)\n",
    "    return ps.register_surface_mesh(obj_name, verts, faces, enabled=True)\n",
    "\n",
    "def polarToCartesian(r, theta, phi):\n",
    "    theta = np.deg2rad(theta)\n",
    "    phi = np.deg2rad(phi)  \n",
    "    x = r * np.sin(theta) * np.cos(phi)\n",
    "    y = r * np.sin(theta) * np.sin(phi)\n",
    "    z = r * np.cos(theta)\n",
    "    return np.array([x, y, z])"
   ]
  },
  {
   "cell_type": "code",
   "execution_count": null,
   "metadata": {},
   "outputs": [],
   "source": [
    "\"\"\" Write video file \"\"\"\n",
    "def write_video_file_demo(filename):\n",
    "    r, phi = 8, 20\n",
    "    frames = 120\n",
    "    theta_range = [0, 360]\n",
    "\n",
    "    # Open a video file, which returns a file descriptor (in a python capsule)\n",
    "    fd = ps.open_video_file(filename, fps=30)\n",
    "    \n",
    "    for i in range(frames):\n",
    "        theta = theta_range[0] + (theta_range[1] - theta_range[0]) * i / frames\n",
    "        cam_loc = polarToCartesian(r, theta, phi) + np.array([0, 4, 0])\n",
    "        ps.look_at(cam_loc, [0, 2, 0])\n",
    "        \n",
    "        # Call ps.write_video_frame(fd) instead of ps.screenshot()\n",
    "        ps.write_video_frame(fd, transparent_bg=True)\n",
    "\n",
    "    # Close the video file\n",
    "    ps.close_video_file(fd)\n",
    "\n",
    "    \n",
    "\"\"\" Point light set-up \"\"\"\n",
    "def point_light_demo():\n",
    "    # Registering multiple point lights\n",
    "    # As of now, can register up to 10 point lights\n",
    "    light1_pos = np.array([0, 5, 5])\n",
    "    light1_col = np.array([0.0, 0.0, 1.0])\n",
    "    light1 = ps.register_point_light(\"light 1\", light1_pos, light1_col)\n",
    "\n",
    "    light2_pos = np.array([0, 5, -5])\n",
    "    light2_col = np.array([1.0, 0.0, 0.0])\n",
    "    light2 = ps.register_point_light(\"light 2\", light2_pos, light2_col)\n",
    "\n",
    "    light3_pos = np.array([0, 3, 0])\n",
    "    light3_col = np.array([1.0, 1.0, 1.0])\n",
    "    light3 = ps.register_point_light(\"light 3\", light3_pos, light3_col)\n",
    "\n",
    "    light4_pos = np.array([0, -1, 0])\n",
    "    light4_col = np.array([0.5, 0.5, 0.5])\n",
    "    light4 = ps.register_point_light(\"light 4\", light4_pos, light4_col)\n",
    "\n",
    "    # Other point light functions:\n",
    "    light1.set_enabled(False)\n",
    "    light1.set_position(np.array([0, 5, 6]))\n",
    "    light1.set_color(np.array([0.0, 0.1, 1.0]))\n",
    "    light1.set_enabled(True)\n"
   ]
  },
  {
   "cell_type": "code",
   "execution_count": null,
   "metadata": {},
   "outputs": [],
   "source": [
    "\"\"\" Demo 1 \"\"\"\n",
    "ps_mesh = load_surface_mesh(\"./data/teapot.obj\", \"teapot\")\n",
    "ps_mesh.set_material(\"phong\")\n",
    "ps_mesh.set_color(np.array([1.0, 1.0, 1.0]))\n",
    "\n",
    "point_light_demo()\n",
    "write_video_file_demo(\"./out/teapot.mp4\")"
   ]
  },
  {
   "cell_type": "code",
   "execution_count": null,
   "metadata": {},
   "outputs": [],
   "source": [
    "\"\"\" Demo 2 \"\"\"\n",
    "ps_mesh = load_surface_mesh(\"./data/teapot.obj\", \"teapot\")\n",
    "ps_mesh.set_material(\"flat_tetra\")\n",
    "\n",
    "# Generate random tetracolors\n",
    "num_faces = ps_mesh.n_faces()\n",
    "face_colors = np.random.rand(num_faces, 3)\n",
    "q_values = 0.8 + 0.2 * np.random.rand(num_faces, 1)\n",
    "face_tetracolors = np.hstack((face_colors, q_values))\n",
    "\n",
    "# Add a tetracolor to each face\n",
    "ps_mesh.add_tetracolor_quantity(\"face tetracolor\", face_tetracolors, defined_on='faces', enabled=True)\n",
    "\n",
    "# Must set material to \"flat_tetra\" to view a tetracolor quantity\n",
    "ps_mesh.set_material(\"flat_tetra\")\n",
    "\n",
    "# Rasterize a tetracolor image\n",
    "ps.rasterize_tetra(\"./out/tetra_teapot.png\")\n",
    "\n",
    "ps.show()"
   ]
  }
 ],
 "metadata": {
  "kernelspec": {
   "display_name": "chromalab",
   "language": "python",
   "name": "python3"
  },
  "language_info": {
   "codemirror_mode": {
    "name": "ipython",
    "version": 3
   },
   "file_extension": ".py",
   "mimetype": "text/x-python",
   "name": "python",
   "nbconvert_exporter": "python",
   "pygments_lexer": "ipython3",
   "version": "3.11.9"
  }
 },
 "nbformat": 4,
 "nbformat_minor": 2
}
