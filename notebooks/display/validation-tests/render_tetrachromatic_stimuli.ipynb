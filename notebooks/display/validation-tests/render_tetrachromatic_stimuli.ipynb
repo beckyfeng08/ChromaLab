{
 "cells": [
  {
   "cell_type": "code",
   "execution_count": null,
   "metadata": {},
   "outputs": [],
   "source": [
    "import numpy as np\n",
    "import polyscope as ps"
   ]
  },
  {
   "cell_type": "code",
   "execution_count": null,
   "metadata": {},
   "outputs": [],
   "source": [
    "from chromalab.draw import IshiharaPlate, configurePolyscopeFor2D, configurePolyscopeForEvenOdd\n",
    "from chromalab.observer import Observer, getSampledHyperCube\n",
    "from chromalab.spectra import Illuminant\n",
    "from chromalab.inks import get_metamer_buckets\n",
    "from chromalab.maxdisplaybasis import TetraDisplayGamut"
   ]
  },
  {
   "cell_type": "code",
   "execution_count": null,
   "metadata": {},
   "outputs": [],
   "source": [
    "%load_ext autoreload\n",
    "%autoreload 2\n",
    "%matplotlib ipympl"
   ]
  },
  {
   "cell_type": "code",
   "execution_count": null,
   "metadata": {},
   "outputs": [],
   "source": [
    "ps.init()\n",
    "configurePolyscopeForEvenOdd(target_sleep=80, vsync=False)\n",
    "# im_h, im_w = 912, 1140\n",
    "# configurePolyscopeFor2D(im_w, im_h)"
   ]
  },
  {
   "cell_type": "code",
   "execution_count": null,
   "metadata": {},
   "outputs": [],
   "source": [
    "wavelengths = np.arange(400, 700, 5)\n",
    "d65 = Illuminant.get(\"D65\")\n",
    "\n",
    "tetrachromat = Observer.tetrachromat(wavelengths=wavelengths, verbose=True) \n",
    "# maxbasis = MaxBasis(tetrachromat, verbose=True)\n",
    "# viz = PSWrapper(tetrachromat, maxbasis, itemsToDisplay=PSWrapper.ItemsToDisplay.BOTH, displayBasis=DisplayBasisType.MAXBASIS, verbose=True) "
   ]
  },
  {
   "cell_type": "code",
   "execution_count": null,
   "metadata": {},
   "outputs": [],
   "source": [
    "# point_cloud = tetrachromat.get_optimal_point_cloud()"
   ]
  },
  {
   "cell_type": "code",
   "execution_count": null,
   "metadata": {},
   "outputs": [],
   "source": [
    "hypercube = getSampledHyperCube(0.05, 4)"
   ]
  },
  {
   "cell_type": "code",
   "execution_count": null,
   "metadata": {},
   "outputs": [],
   "source": [
    "factor = 10000\n",
    "mdb = TetraDisplayGamut.loadTutenLabDisplay(tetrachromat, led_indices=[0, 3, 4, 5]) # R O C V\n",
    "intensities = mdb.primary_intensities.T * 10000 # columns are the ratios, also 10000 is the factor in order to get the get buckets function to work"
   ]
  },
  {
   "cell_type": "code",
   "execution_count": null,
   "metadata": {},
   "outputs": [],
   "source": [
    "all_lms_intensities = (intensities@hypercube.T).T # multiply all possible led combinations with the intensities\n",
    "buckets = get_metamer_buckets(all_lms_intensities, axis=2)"
   ]
  },
  {
   "cell_type": "code",
   "execution_count": null,
   "metadata": {},
   "outputs": [],
   "source": [
    "dist, (metamer_1, metamer_2) = buckets[0]"
   ]
  },
  {
   "cell_type": "code",
   "execution_count": null,
   "metadata": {},
   "outputs": [],
   "source": [
    "weights_4tup = mdb.convertActivationsToIntensities(np.array([np.array(metamer_1)/factor, np.array(metamer_2)/factor]).T)\n",
    "# insert 0 for G and B channels\n",
    "weights = np.insert(arr=weights_4tup, obj=[1,1], values=0, axis=1)"
   ]
  },
  {
   "cell_type": "code",
   "execution_count": null,
   "metadata": {},
   "outputs": [],
   "source": [
    "print((mdb.primary_intensities.T@weights_4tup.T).T) # checking if they are metamers again after being transformed back to weights!!"
   ]
  },
  {
   "cell_type": "code",
   "execution_count": null,
   "metadata": {},
   "outputs": [],
   "source": [
    "ip = IshiharaPlate(weights[0], weights[1], 89, image_size=912)"
   ]
  },
  {
   "cell_type": "code",
   "execution_count": null,
   "metadata": {},
   "outputs": [],
   "source": [
    "ip.generate_plate()"
   ]
  },
  {
   "cell_type": "code",
   "execution_count": null,
   "metadata": {},
   "outputs": [],
   "source": [
    "while True:\n",
    "    ps.full_frame_tick()"
   ]
  }
 ],
 "metadata": {
  "kernelspec": {
   "display_name": "chromalab",
   "language": "python",
   "name": "python3"
  },
  "language_info": {
   "codemirror_mode": {
    "name": "ipython",
    "version": 3
   },
   "file_extension": ".py",
   "mimetype": "text/x-python",
   "name": "python",
   "nbconvert_exporter": "python",
   "pygments_lexer": "ipython3",
   "version": "3.11.9"
  }
 },
 "nbformat": 4,
 "nbformat_minor": 2
}
