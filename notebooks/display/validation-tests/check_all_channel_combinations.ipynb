{
 "cells": [
  {
   "cell_type": "code",
   "execution_count": null,
   "metadata": {},
   "outputs": [],
   "source": [
    "import numpy as np\n",
    "import polyscope as ps\n",
    "\n",
    "from chromalab.draw import *\n",
    "from itertools import product"
   ]
  },
  {
   "cell_type": "code",
   "execution_count": null,
   "metadata": {},
   "outputs": [],
   "source": [
    "%load_ext autoreload\n",
    "%autoreload 2\n",
    "%matplotlib ipympl"
   ]
  },
  {
   "cell_type": "markdown",
   "metadata": {},
   "source": [
    "### Polyscope Settings for Even-Odd Rendering by Irene"
   ]
  },
  {
   "cell_type": "code",
   "execution_count": null,
   "metadata": {},
   "outputs": [],
   "source": [
    "ps.init()\n",
    "configurePolyscopeForEvenOdd()\n",
    "im_h, im_w = 912, 1140\n",
    "configurePolyscopeFor2D(im_w, im_h)"
   ]
  },
  {
   "cell_type": "code",
   "execution_count": null,
   "metadata": {},
   "outputs": [],
   "source": [
    "positions, max_side_length = get_auto_sized_grid([0, 0], im_h, im_w, 8, 8, padding_percentage=0.05)"
   ]
  },
  {
   "cell_type": "code",
   "execution_count": null,
   "metadata": {},
   "outputs": [],
   "source": [
    "colors = np.flip(np.array(list(product([1, 0 ], repeat=6))), axis=0)"
   ]
  },
  {
   "cell_type": "code",
   "execution_count": null,
   "metadata": {},
   "outputs": [],
   "source": [
    "for i, (p, c) in enumerate(zip(positions, colors)):\n",
    "    vertex_colors = np.zeros((4, colors.shape[1]))\n",
    "    for j in range(4):\n",
    "        vertex_colors[j] = c\n",
    "    draw_vertex_defined_square(p[0], p[1], max_side_length * 0.8, vertex_colors, i + 4)"
   ]
  },
  {
   "cell_type": "code",
   "execution_count": null,
   "metadata": {},
   "outputs": [],
   "source": [
    "while True:\n",
    "    ps.full_frame_tick()"
   ]
  }
 ],
 "metadata": {
  "kernelspec": {
   "display_name": "chromalab",
   "language": "python",
   "name": "python3"
  },
  "language_info": {
   "codemirror_mode": {
    "name": "ipython",
    "version": 3
   },
   "file_extension": ".py",
   "mimetype": "text/x-python",
   "name": "python",
   "nbconvert_exporter": "python",
   "pygments_lexer": "ipython3",
   "version": "3.11.9"
  }
 },
 "nbformat": 4,
 "nbformat_minor": 2
}
