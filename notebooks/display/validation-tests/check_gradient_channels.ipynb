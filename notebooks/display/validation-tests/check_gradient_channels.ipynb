{
 "cells": [
  {
   "cell_type": "code",
   "execution_count": 1,
   "metadata": {},
   "outputs": [],
   "source": [
    "import numpy as np\n",
    "import polyscope as ps\n",
    "\n",
    "from chromalab.drawhelper import draw_vertex_defined_square"
   ]
  },
  {
   "cell_type": "code",
   "execution_count": 2,
   "metadata": {},
   "outputs": [],
   "source": [
    "%load_ext autoreload\n",
    "%autoreload 2\n",
    "%matplotlib ipympl"
   ]
  },
  {
   "cell_type": "markdown",
   "metadata": {},
   "source": [
    "### Polyscope Settings for Even-Odd Rendering by Irene"
   ]
  },
  {
   "cell_type": "code",
   "execution_count": 3,
   "metadata": {},
   "outputs": [
    {
     "name": "stdout",
     "output_type": "stream",
     "text": [
      "[polyscope] Backend: openGL3_glfw -- Loaded openGL version: 4.1 Metal - 83.1\n"
     ]
    }
   ],
   "source": [
    "ps.init()\n",
    "ps.set_ground_plane_mode(\"none\")\n",
    "\n",
    "# FPS for a full frame (one even and one odd frame)\n",
    "ps.set_max_fps(30)\n",
    "\n",
    "# May need to adjust this number in the range of (0, 100) to hit target FPS on a specific devide\n",
    "# If the frame rate is lower than the target, decrease the target_sleep value\n",
    "ps.set_target_sleep(85)\n",
    "\n",
    "# Set always redraw to True (or else polyscope tries to optimize and won't draw even-odd correctly)\n",
    "ps.set_always_redraw(True)\n",
    "\n",
    "# Some debug options; also available in the Even-Odd gui panel\n",
    "ps.set_draw_even_frame_first(True)\n",
    "ps.set_black_out_even_frames(False)\n",
    "ps.set_black_out_even_frames(False)\n",
    "\n",
    "# Enable the Even-Odd gui panel\n",
    "ps.set_build_even_odd_gui_panel(True)"
   ]
  },
  {
   "cell_type": "code",
   "execution_count": 4,
   "metadata": {},
   "outputs": [],
   "source": [
    "im_h, im_w = 912, 1140\n",
    "ps.set_window_resizable(True)\n",
    "ps.set_window_size(im_w, im_h)"
   ]
  },
  {
   "cell_type": "code",
   "execution_count": 5,
   "metadata": {},
   "outputs": [],
   "source": [
    "# construct camera parameters\n",
    "intrinsics = ps.CameraIntrinsics(fov_vertical_deg=45, aspect=im_w/im_h)\n",
    "extrinsics = ps.CameraExtrinsics(root=(0, 0, 1), look_dir=(0., 0., -1), up_dir=(0.,1.,0.))\n",
    "params = ps.CameraParameters(intrinsics, extrinsics)\n",
    "\n",
    "# set the viewport view to those parameters\n",
    "ps.set_view_camera_parameters(params)\n",
    "\n",
    "ps.set_navigation_style(\"planar\")\n",
    "ps.set_view_projection_mode(\"orthographic\")"
   ]
  },
  {
   "cell_type": "code",
   "execution_count": 6,
   "metadata": {},
   "outputs": [],
   "source": [
    "ps.set_automatically_compute_scene_extents(False)\n",
    "\n",
    "ray_corners = ps.get_view_camera_parameters().generate_camera_ray_corners()\n",
    "image_extent_at_z0 = (ray_corners * -1/ray_corners[0, 2])[:, :2] # result of setting up equation start + direction * t = [x, y, 0], zero-plane are objects\n",
    "\n",
    "lower_left = image_extent_at_z0[2]\n",
    "height = image_extent_at_z0[0][1] - image_extent_at_z0[2][1]\n",
    "width = image_extent_at_z0[1][0] - image_extent_at_z0[0][0]\n",
    "\n",
    "ps.set_length_scale(0.5)\n",
    "low = np.array((lower_left[0],lower_left[1], -1.)) \n",
    "high = np.array((lower_left[0] + width, lower_left[1] + height, 1)) \n",
    "ps.set_bounding_box(low, high)"
   ]
  },
  {
   "cell_type": "code",
   "execution_count": 7,
   "metadata": {},
   "outputs": [],
   "source": [
    "# edges for view debugging\n",
    "for i, coords in enumerate(image_extent_at_z0):\n",
    "    draw_vertex_defined_square(coords[0], coords[1], width/8, np.zeros((4, 3)), i)"
   ]
  },
  {
   "cell_type": "code",
   "execution_count": 8,
   "metadata": {},
   "outputs": [],
   "source": [
    "border = width / 10\n",
    "side = width / 4\n",
    "lower_left_subimage = lower_left + np.array([border, border])\n",
    "subimage_h, subimage_w = height - 2 * border, width - 2 * border\n",
    "\n",
    "center_x = np.array([-subimage_w/3, 0, subimage_w/3])\n",
    "center_y = np.array([-subimage_h/4, subimage_h/4])\n",
    "X, Y = np.meshgrid(center_x, center_y)\n",
    "positions = np.vstack([X.ravel(), Y.ravel()]).T\n",
    "colors = np.array([[1, 0, 0], [0, 1, 0], [0, 0, 1], [1, 0, 0], [0, 1, 0], [0, 0, 1]])"
   ]
  },
  {
   "cell_type": "code",
   "execution_count": 9,
   "metadata": {},
   "outputs": [],
   "source": [
    "for i, (p, c) in enumerate(zip(positions, colors)):\n",
    "    vertex_colors = np.zeros((4, 3))\n",
    "    vertex_colors[2] = c * 0.5\n",
    "    vertex_colors[3] = c\n",
    "    vertex_colors[0] = c * 0.5\n",
    "    draw_vertex_defined_square(p[0], p[1], side, vertex_colors, i + 4)"
   ]
  },
  {
   "cell_type": "code",
   "execution_count": 10,
   "metadata": {},
   "outputs": [],
   "source": [
    "ps.show()"
   ]
  },
  {
   "cell_type": "code",
   "execution_count": null,
   "metadata": {},
   "outputs": [],
   "source": []
  }
 ],
 "metadata": {
  "kernelspec": {
   "display_name": "chromalab",
   "language": "python",
   "name": "python3"
  },
  "language_info": {
   "codemirror_mode": {
    "name": "ipython",
    "version": 3
   },
   "file_extension": ".py",
   "mimetype": "text/x-python",
   "name": "python",
   "nbconvert_exporter": "python",
   "pygments_lexer": "ipython3",
   "version": "3.11.9"
  }
 },
 "nbformat": 4,
 "nbformat_minor": 2
}
