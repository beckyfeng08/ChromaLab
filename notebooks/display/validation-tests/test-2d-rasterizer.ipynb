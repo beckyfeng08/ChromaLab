{
 "cells": [
  {
   "cell_type": "code",
   "execution_count": 1,
   "metadata": {},
   "outputs": [],
   "source": [
    "import numpy as np\n",
    "import polyscope as ps\n",
    "\n",
    "from chromalab.draw import draw_vertex_defined_square, configurePolyscopeFor2D, configurePolyscopeForEvenOdd"
   ]
  },
  {
   "cell_type": "code",
   "execution_count": 2,
   "metadata": {},
   "outputs": [],
   "source": [
    "%load_ext autoreload\n",
    "%autoreload 2\n",
    "%matplotlib ipympl"
   ]
  },
  {
   "cell_type": "markdown",
   "metadata": {},
   "source": [
    "### Polyscope Settings for Even-Odd Rendering & 2D Image Drawing"
   ]
  },
  {
   "cell_type": "code",
   "execution_count": 3,
   "metadata": {},
   "outputs": [
    {
     "name": "stdout",
     "output_type": "stream",
     "text": [
      "[polyscope] Backend: openGL3_glfw -- Loaded openGL version: 4.1 Metal - 83.1\n"
     ]
    }
   ],
   "source": [
    "ps.init()\n",
    "configurePolyscopeForEvenOdd(60)\n",
    "\n",
    "im_h, im_w = 912, 1140\n",
    "configurePolyscopeFor2D(im_w, im_h)"
   ]
  },
  {
   "cell_type": "code",
   "execution_count": 4,
   "metadata": {},
   "outputs": [],
   "source": [
    "image_corners = np.array([[0, 0], [im_w, 0], [im_w, im_h], [0, im_h], [im_w/2, im_h/2]])\n",
    "\n",
    "# edges for view debugging\n",
    "for i, coords in enumerate(image_corners):\n",
    "    draw_vertex_defined_square(coords[0], coords[1], im_w/8, np.ones((4, 3)) * 255, i)"
   ]
  },
  {
   "cell_type": "code",
   "execution_count": 5,
   "metadata": {},
   "outputs": [],
   "source": [
    "ps.show()"
   ]
  }
 ],
 "metadata": {
  "kernelspec": {
   "display_name": "chromalab",
   "language": "python",
   "name": "python3"
  },
  "language_info": {
   "codemirror_mode": {
    "name": "ipython",
    "version": 3
   },
   "file_extension": ".py",
   "mimetype": "text/x-python",
   "name": "python",
   "nbconvert_exporter": "python",
   "pygments_lexer": "ipython3",
   "version": "3.11.9"
  }
 },
 "nbformat": 4,
 "nbformat_minor": 2
}
