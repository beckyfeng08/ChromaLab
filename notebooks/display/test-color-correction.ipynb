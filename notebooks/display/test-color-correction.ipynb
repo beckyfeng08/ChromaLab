{
 "cells": [
  {
   "cell_type": "code",
   "execution_count": 1,
   "metadata": {},
   "outputs": [],
   "source": [
    "import csv\n",
    "import numpy as np\n",
    "import matplotlib.pyplot as plt"
   ]
  },
  {
   "cell_type": "code",
   "execution_count": 2,
   "metadata": {},
   "outputs": [],
   "source": [
    "from chromalab.maxdisplaybasis import *\n",
    "from chromalab.zonotope import *"
   ]
  },
  {
   "cell_type": "code",
   "execution_count": 3,
   "metadata": {},
   "outputs": [],
   "source": [
    "%load_ext autoreload\n",
    "%autoreload 2\n",
    "%matplotlib ipympl"
   ]
  },
  {
   "cell_type": "markdown",
   "metadata": {},
   "source": [
    "## Test getLumConstPointsInGamut for 2D"
   ]
  },
  {
   "cell_type": "code",
   "execution_count": 4,
   "metadata": {},
   "outputs": [
    {
     "name": "stdout",
     "output_type": "stream",
     "text": [
      "Original Points\n",
      " [[ 0.5  0. ]\n",
      " [ 0.   0.5]]\n",
      "Projected Points\n",
      " [[ 0.5  0. ]\n",
      " [ 0.   0.5]]\n"
     ]
    }
   ],
   "source": [
    "candidate_points = np.eye(2) * 0.5\n",
    "print(\"Original Points\\n\", candidate_points)\n",
    "zonotope_vecs = np.eye(2) # square\n",
    "facets = getZonotopeForIntersection(zonotope_vecs, 2)\n",
    "out = getLumConstPoints(candidate_points, facets)\n",
    "print(\"Projected Points\\n\", out)"
   ]
  },
  {
   "cell_type": "markdown",
   "metadata": {},
   "source": [
    "## Test getLumConstPointsInGamut for 3D"
   ]
  },
  {
   "cell_type": "code",
   "execution_count": 9,
   "metadata": {},
   "outputs": [
    {
     "name": "stdout",
     "output_type": "stream",
     "text": [
      "Original Points\n",
      " [[ 1.5  0.   0. ]\n",
      " [ 0.   1.5  0. ]\n",
      " [ 0.   0.   1.5]]\n",
      "Projected Points\n",
      " [[ 1.    0.25  0.25]\n",
      " [ 0.25  1.    0.25]\n",
      " [ 0.25  0.25  1.  ]]\n"
     ]
    }
   ],
   "source": [
    "candidate_points = np.eye(3) * 1.5\n",
    "print(\"Original Points\\n\", candidate_points)\n",
    "zonotope_vecs = np.eye(3) # cube\n",
    "facets = getZonotopeForIntersection(zonotope_vecs, 3)\n",
    "out = getLumConstPoints(candidate_points, facets)\n",
    "print(\"Projected Points\\n\", out)"
   ]
  },
  {
   "cell_type": "markdown",
   "metadata": {},
   "source": [
    "## Test getLumConstPointsInGamut for 4D"
   ]
  },
  {
   "cell_type": "code",
   "execution_count": 7,
   "metadata": {},
   "outputs": [
    {
     "name": "stdout",
     "output_type": "stream",
     "text": [
      "Original Points\n",
      " [[ 1.1  0.   0.   0. ]\n",
      " [ 0.   1.1  0.   0. ]\n",
      " [ 0.   0.   1.1  0. ]\n",
      " [ 0.   0.   0.   1.1]]\n",
      "Projected Points\n",
      " [[ 1.          0.03333333  0.03333333  0.03333333]\n",
      " [ 0.03333333  1.          0.03333333  0.03333333]\n",
      " [ 0.03333333  0.03333333  1.          0.03333333]\n",
      " [ 0.03333333  0.03333333  0.03333333  1.        ]]\n"
     ]
    }
   ],
   "source": [
    "candidate_points = np.eye(4) * 1.1\n",
    "print(\"Original Points\\n\", candidate_points)\n",
    "zonotope_vecs = np.eye(4) # hypercube\n",
    "facets = getZonotopeForIntersection(zonotope_vecs, 4)\n",
    "out = getLumConstPoints(candidate_points, facets)\n",
    "print(\"Projected Points\\n\", out)"
   ]
  }
 ],
 "metadata": {
  "kernelspec": {
   "display_name": "chromalab",
   "language": "python",
   "name": "python3"
  },
  "language_info": {
   "codemirror_mode": {
    "name": "ipython",
    "version": 3
   },
   "file_extension": ".py",
   "mimetype": "text/x-python",
   "name": "python",
   "nbconvert_exporter": "python",
   "pygments_lexer": "ipython3",
   "version": "3.11.9"
  }
 },
 "nbformat": 4,
 "nbformat_minor": 2
}
