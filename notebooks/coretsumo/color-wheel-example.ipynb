{
 "cells": [
  {
   "cell_type": "code",
   "execution_count": null,
   "metadata": {},
   "outputs": [],
   "source": [
    "from chromalab.adaptation import generate_color_wheel\n",
    "\n",
    "import matplotlib.colors as mcolors\n",
    "import numpy as np\n",
    "import polyscope as ps"
   ]
  },
  {
   "cell_type": "code",
   "execution_count": null,
   "metadata": {},
   "outputs": [],
   "source": [
    "%load_ext autoreload\n",
    "%autoreload 2\n",
    "%matplotlib ipympl"
   ]
  },
  {
   "cell_type": "code",
   "execution_count": null,
   "metadata": {},
   "outputs": [],
   "source": [
    "# Initialize polyscope and set some scene options\n",
    "ps.init()\n",
    "\n",
    "ps.set_build_gui(False)\n",
    "ps.set_ground_plane_mode(\"none\")\n",
    "ps.set_SSAA_factor(4)\n",
    "ps.set_background_color([0, 0, 0])\n",
    "\n",
    "image_res = 512\n",
    "ps.set_window_resizable(True)\n",
    "ps.set_window_size(image_res / 2, image_res / 2)"
   ]
  },
  {
   "cell_type": "code",
   "execution_count": null,
   "metadata": {},
   "outputs": [],
   "source": [
    "def animate_wheel(num_frames, filename, n_rotations=1, fps=60, tetra_image_mode=None):\n",
    "    \"\"\"\n",
    "    Create rotating color wheel animation and save to a .mp4 video file.\n",
    "    num_frames  -- length of the animation\n",
    "    filename    -- save name for the .mp4\n",
    "    n_rotations -- how many rotations to animate\n",
    "    fps         -- default is 60\n",
    "    \"\"\"\n",
    "    cam_pos = ps.get_view_camera_parameters().get_position()\n",
    "\n",
    "    if tetra_image_mode is None:\n",
    "        fd = ps.open_video_file(filename, fps=fps)\n",
    "    else:\n",
    "        fd = ps.open_tetra_video_file(filename, fps=fps, save_image_mode=tetra_image_mode)\n",
    "\n",
    "    thetas = np.linspace(np.pi / 2, np.pi / 2 + (2 * np.pi * n_rotations), num_frames)\n",
    "    for theta in thetas:\n",
    "        x = np.cos(theta)\n",
    "        y = np.sin(theta)\n",
    "        ps.look_at_dir(cam_pos, [0, 0, 0], [x, y, 0])\n",
    "\n",
    "        if tetra_image_mode is None:\n",
    "            ps.write_video_frame(fd)\n",
    "        else:\n",
    "            ps.write_tetra_video_frame(fd)\n",
    "\n",
    "    if tetra_image_mode is None:\n",
    "        ps.close_video_file(fd)\n",
    "    else:\n",
    "        ps.close_tetra_video_file(fd)"
   ]
  },
  {
   "cell_type": "code",
   "execution_count": null,
   "metadata": {},
   "outputs": [],
   "source": [
    "n_channels = 4\n",
    "\n",
    "if n_channels == 3:\n",
    "    # Generate some rainbow colors\n",
    "    hues = np.linspace(0, 0.9, 8)\n",
    "    colors = np.array([\n",
    "        mcolors.hsv_to_rgb([hue, 1, 1]) for hue in hues])\n",
    "\n",
    "    # Create rotating wheel animation\n",
    "    wheel = generate_color_wheel(colors)\n",
    "    animate_wheel(num_frames=480, filename='./out/tri/rainbow_wheel_tri.mp4')"
   ]
  },
  {
   "cell_type": "code",
   "execution_count": null,
   "metadata": {},
   "outputs": [],
   "source": [
    "if n_channels == 4:\n",
    "    # Generate some tetra colors (with random Q)\n",
    "    hues = np.linspace(0, 0.9, 8)\n",
    "    colors = np.array([mcolors.hsv_to_rgb([hue, 1, 1]) for hue in hues])\n",
    "    Qs = np.random.rand(colors.shape[0], 1)\n",
    "    colors = np.hstack([colors, Qs])\n",
    "\n",
    "    # Create rotating wheel animation\n",
    "    wheel = generate_color_wheel(colors)\n",
    "    animate_wheel(num_frames=480, filename='./out/LMS_Q/rainbow_wheel_tetra.mp4', tetra_image_mode='LMS_Q')"
   ]
  }
 ],
 "metadata": {
  "kernelspec": {
   "display_name": "chromalab",
   "language": "python",
   "name": "python3"
  },
  "language_info": {
   "codemirror_mode": {
    "name": "ipython",
    "version": 3
   },
   "file_extension": ".py",
   "mimetype": "text/x-python",
   "name": "python",
   "nbconvert_exporter": "python",
   "pygments_lexer": "ipython3",
   "version": "3.11.9"
  }
 },
 "nbformat": 4,
 "nbformat_minor": 2
}
