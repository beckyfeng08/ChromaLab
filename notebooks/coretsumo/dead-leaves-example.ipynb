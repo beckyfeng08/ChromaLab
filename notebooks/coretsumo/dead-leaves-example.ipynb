{
 "cells": [
  {
   "cell_type": "code",
   "execution_count": null,
   "metadata": {},
   "outputs": [],
   "source": [
    "import matplotlib.colors as mcolors\n",
    "import matplotlib.pyplot as plt\n",
    "import numpy as np\n",
    "import polyscope as ps  # https://polyscope.run/py/\n",
    "import numpy as np\n",
    "from tqdm import tqdm\n",
    "from colour import wavelength_to_XYZ\n",
    "\n",
    "from pathlib import Path"
   ]
  },
  {
   "cell_type": "code",
   "execution_count": null,
   "metadata": {},
   "outputs": [],
   "source": [
    "from chromalab.observer import Observer, Cone, transformToChromaticity, getSampledHyperCube, getSampledHyperCubeSurface\n",
    "from chromalab.spectra import Illuminant\n",
    "from chromalab.adaptation import dead_leaves"
   ]
  },
  {
   "cell_type": "code",
   "execution_count": null,
   "metadata": {},
   "outputs": [],
   "source": [
    "%load_ext autoreload\n",
    "%autoreload 2\n",
    "%matplotlib ipympl"
   ]
  },
  {
   "cell_type": "code",
   "execution_count": null,
   "metadata": {},
   "outputs": [],
   "source": [
    "# Tetracolor sampling\n",
    "# wavelengths = np.arange(390, 830, 10)\n",
    "# d65 = Illuminant.get(\"E\")\n",
    "\n",
    "# tetrachromat = Observer.tetrachromat(wavelengths=wavelengths, illuminant=d65, verbose=True)\n",
    "# smql, rgbs = tetrachromat.get_full_colors_in_activations()\n",
    "# np.savetxt('./data/tetrachromat_smql.csv', smql, delimiter=',')"
   ]
  },
  {
   "cell_type": "code",
   "execution_count": null,
   "metadata": {},
   "outputs": [],
   "source": [
    "smql = np.loadtxt('./data/tetrachromat_smql.csv', delimiter=',')"
   ]
  },
  {
   "cell_type": "code",
   "execution_count": null,
   "metadata": {},
   "outputs": [],
   "source": [
    "# Initialize polyscope and set some scene options\n",
    "ps.init()\n",
    "\n",
    "ps.set_build_gui(False)\n",
    "ps.set_ground_plane_mode(\"none\")\n",
    "ps.set_SSAA_factor(4)\n",
    "ps.set_background_color([0, 0, 0])\n",
    "\n",
    "image_res = 512\n",
    "ps.set_window_resizable(True)\n",
    "ps.set_window_size(image_res / 2, image_res / 2)"
   ]
  },
  {
   "cell_type": "code",
   "execution_count": null,
   "metadata": {},
   "outputs": [],
   "source": [
    "# Set up directories for saving outputs\n",
    "Path('./out/tri').mkdir(parents=True, exist_ok=True)\n",
    "Path('./out/RG1G2B').mkdir(parents=True, exist_ok=True)\n",
    "Path('./out/LMS_Q').mkdir(parents=True, exist_ok=True)\n",
    "Path('./out/four_gray').mkdir(parents=True, exist_ok=True)"
   ]
  },
  {
   "cell_type": "code",
   "execution_count": null,
   "metadata": {},
   "outputs": [],
   "source": [
    "n_channels = 4\n",
    "\n",
    "# Trichromat dead leaves\n",
    "if n_channels == 3:\n",
    "    # Generate some RGB colors\n",
    "    hues = np.linspace(0, 0.9, 100)\n",
    "    color_palette = np.array([mcolors.hsv_to_rgb([hue, 1, 1]) for hue in hues])\n",
    "\n",
    "    # Set up the dead leaves scene\n",
    "    dead_leaves(0.5, color_palette, max_iters=20, shape_mode='mixed')\n",
    "\n",
    "    # Take a screenshot\n",
    "    dir = './out/tri/'\n",
    "    ps.screenshot(dir + 'dead_leaves_tri.png')\n",
    "\n",
    "    # Write a video file\n",
    "    fd = ps.open_video_file(dir + 'dead_leaves_tri.mp4', fps=60)\n",
    "    for i in range(60):\n",
    "        # Add in some camera motion here per frame\n",
    "        ps.write_video_frame(fd)\n",
    "    ps.close_video_file(fd)"
   ]
  },
  {
   "cell_type": "code",
   "execution_count": null,
   "metadata": {},
   "outputs": [],
   "source": [
    "# Tetrachromat dead leaves\n",
    "def animate_leaves(leaves, directions):\n",
    "    for i in range(len(leaves)):\n",
    "        leaf = leaves[i]\n",
    "        direction = directions[i]\n",
    "        leaf.translate(direction)        \n",
    "\n",
    "if n_channels == 4:\n",
    "    # Generate some tetra colors\n",
    "    # hues = np.linspace(0, 0.9, 100)\n",
    "    # color_palette = np.array([mcolors.hsv_to_rgb([hue, 1, 1]) for hue in hues])\n",
    "    # Qs = np.random.rand(color_palette.shape[0], 1)\n",
    "    # color_palette = np.hstack([color_palette, Qs])\n",
    "\n",
    "    # Use tetracolors sampled above\n",
    "    color_palette = smql\n",
    "\n",
    "    # Set up the dead leaves scene\n",
    "    leaves = dead_leaves(0.1, color_palette, max_iters=150, shape_mode='mixed')\n",
    "    \n",
    "    \"\"\"\n",
    "    save_image_mode -- if rasterizing a tetracolor scene, mode to save the output (to either image or video file)\n",
    "        'LMS_Q' : saves first 3 channels in one RGB .png file, saves 4th channel in one grayscale .png file\n",
    "        'four_gray' : saves each channel to a separate grayscale .png file\n",
    "        'RG1G2B' : saves 4 color channels in one RGBA .png file\n",
    "    \"\"\"\n",
    "    tetra_save_mode = 'LMS_Q'\n",
    "    # tetra_save_mode = 'four_gray'\n",
    "    # tetra_save_mode = 'RG1G2B'\n",
    "\n",
    "    dir = f'./out/{tetra_save_mode}/'\n",
    "\n",
    "    # Take a tetra screenshot\n",
    "    ps.rasterize_tetra(dir + 'dead_leaves_tetra.png', save_image_mode=tetra_save_mode)\n",
    "\n",
    "    # Write a tetra video file\n",
    "    # 'RG1G2B' is a valid save_image_mode for writing video files, but mp4 won't write transparency\n",
    "    # Most likely want to use 'LMS_Q' or 'four_gray' mode for writing tetra video files!\n",
    "    tfds = ps.open_tetra_video_file(dir + 'dead_leaves_tetra.mp4', fps=30, save_image_mode=tetra_save_mode)\n",
    "    \n",
    "    # Generate random directions for the shapesto move in\n",
    "    directions = np.random.randn(len(leaves), 2)\n",
    "    directions = directions / np.linalg.norm(directions, axis=1, keepdims=True)\n",
    "    directions = np.hstack([directions, np.zeros((len(leaves), 1))])\n",
    "\n",
    "    for i in range(300):\n",
    "        animate_leaves(leaves, directions)\n",
    "        ps.write_tetra_video_frame(tfds)\n",
    "    ps.close_tetra_video_file(tfds)"
   ]
  },
  {
   "cell_type": "code",
   "execution_count": null,
   "metadata": {},
   "outputs": [],
   "source": []
  }
 ],
 "metadata": {
  "kernelspec": {
   "display_name": "polyscope",
   "language": "python",
   "name": "python3"
  },
  "language_info": {
   "codemirror_mode": {
    "name": "ipython",
    "version": 3
   },
   "file_extension": ".py",
   "mimetype": "text/x-python",
   "name": "python",
   "nbconvert_exporter": "python",
   "pygments_lexer": "ipython3",
   "version": "3.11.9"
  }
 },
 "nbformat": 4,
 "nbformat_minor": 2
}
