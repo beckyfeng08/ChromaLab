{
 "cells": [
  {
   "cell_type": "code",
   "execution_count": 1,
   "metadata": {},
   "outputs": [],
   "source": [
    "import matplotlib.colors as mcolors\n",
    "import numpy as np\n",
    "import polyscope as ps\n",
    "import random"
   ]
  },
  {
   "cell_type": "code",
   "execution_count": 2,
   "metadata": {},
   "outputs": [
    {
     "name": "stdout",
     "output_type": "stream",
     "text": [
      "[polyscope] Backend: openGL3_glfw -- Loaded openGL version: 4.1 INTEL-22.5.11\n"
     ]
    }
   ],
   "source": [
    "# Initialize polyscope and set some scene options\n",
    "ps.init()\n",
    "\n",
    "ps.set_build_gui(False)\n",
    "ps.set_ground_plane_mode(\"none\")\n",
    "ps.set_SSAA_factor(2)\n",
    "ps.set_background_color([0, 0, 0])\n",
    "\n",
    "image_res = 512\n",
    "ps.set_window_resizable(True)\n",
    "ps.set_window_size(image_res / 2, image_res / 2) "
   ]
  },
  {
   "cell_type": "code",
   "execution_count": 3,
   "metadata": {},
   "outputs": [],
   "source": [
    "def draw_circle_helper(center_x, center_y, radius, color, id):\n",
    "    # Generate mesh geometry\n",
    "    n_faces = 100\n",
    "    verts, faces = [], []\n",
    "    z = id * -0.1   # Small offset to prevent shapes from clipping into each other\n",
    "\n",
    "    verts.append([center_x, center_y, z])\n",
    "    thetas = np.linspace(0, 2 * np.pi, num=n_faces + 1)\n",
    "    for theta in thetas[:-1]:\n",
    "        x = radius * np.cos(theta) + center_x\n",
    "        y = radius * np.sin(theta) + center_y\n",
    "        verts.append([x, y, z])\n",
    "    verts = np.array(verts)\n",
    "\n",
    "    for i in range(n_faces - 1):\n",
    "        faces.append([0, i+1, i+2])\n",
    "    faces.append([0, n_faces, 1])\n",
    "    faces = np.array(faces)\n",
    "\n",
    "    circle = ps.register_surface_mesh(f'circle {str(id)}', verts, faces, enabled=True)\n",
    "    circle.set_color(color)\n",
    "    return circle\n",
    "\n",
    "def draw_square_helper(center_x, center_y, side, color, id):\n",
    "    z = id * -0.1\n",
    "    half = side / 2\n",
    "\n",
    "    verts = np.array([\n",
    "        [center_x - half, center_y + half, z],\n",
    "        [center_x - half, center_y - half, z],\n",
    "        [center_x + half, center_y - half, z],\n",
    "        [center_x + half, center_y + half, z]\n",
    "    ])\n",
    "\n",
    "    faces = np.array([\n",
    "        [0, 1, 2],\n",
    "        [0, 2, 3]\n",
    "    ])\n",
    "\n",
    "    square = ps.register_surface_mesh(f'square {str(id)}', verts, faces, enabled=True)\n",
    "    square.set_color(color)\n",
    "    return square"
   ]
  },
  {
   "cell_type": "code",
   "execution_count": 4,
   "metadata": {},
   "outputs": [],
   "source": [
    "def dead_leaves(sigma, color_palette, res=512, max_iters=50, shape_mode='mixed'):\n",
    "    \"\"\"\n",
    "    https://github.com/mbaradad/learning_with_noise/blob/main/generate_datasets/dead_leaves/generate_dataset.py\n",
    "    \n",
    "    sigma           -- determines distribution of radiis\n",
    "    color_palette   -- a numpy array of colors, of shape (n, 3) or (n, 4)\n",
    "    res             -- image resolution\n",
    "    max_iters       -- number of shapes to draw\n",
    "    shape_mode      -- whether to draw circles, squares, or a mixture\n",
    "    \"\"\"\n",
    "    r_min = 0.05\n",
    "    r_max = 0.2\n",
    "\n",
    "    # Compute distribution of radiis (exponential distribution with lambda = sigma)\n",
    "    k = 200\n",
    "    r_list = np.linspace(r_min, r_max, k)\n",
    "    r_dist = 1.0 / (r_list ** sigma)\n",
    "    if sigma > 0:\n",
    "        # Normalize\n",
    "        r_dist = r_dist - (1 / r_max ** sigma)\n",
    "    r_dist = np.cumsum(r_dist)\n",
    "    # Normalize so that cumulative sum is 1\n",
    "    r_dist = r_dist / r_dist.max()\n",
    "\n",
    "    available_shapes = ['circle', 'square']\n",
    "    assert shape_mode in available_shapes or shape_mode == 'mixed'\n",
    "    for i in range(max_iters):\n",
    "        if shape_mode == 'mixed':\n",
    "            shape = random.choice(available_shapes)\n",
    "        else:\n",
    "            shape = shape_mode\n",
    "        \n",
    "        # TODO: sample a color randomly from color_palette\n",
    "        color_index = np.random.choice(color_palette.shape[0])\n",
    "        color = color_palette[color_index]\n",
    "\n",
    "        r_p = np.random.uniform(0, 1)\n",
    "        r_i = np.argmin(np.abs(r_dist - r_p))\n",
    "        radius = max(int(r_list[r_i] * res), 1)\n",
    "        \n",
    "        center_x, center_y = np.array(np.random.uniform(0, res, size=2), dtype='int32')\n",
    "        if shape == 'circle':\n",
    "            draw_circle_helper(center_x, center_y, radius, color, i)\n",
    "        elif shape == 'square':\n",
    "            side = radius * np.sqrt(2)\n",
    "            draw_square_helper(center_x, center_y, side, color, i)\n",
    "        else:\n",
    "            raise Exception(f'Got unsupported shape mode {shape}')\n"
   ]
  },
  {
   "cell_type": "code",
   "execution_count": 5,
   "metadata": {},
   "outputs": [],
   "source": [
    "# Generate some rainbow colors\n",
    "hues = np.linspace(0, 0.9, 100)\n",
    "color_palette = np.array([mcolors.hsv_to_rgb([hue, 1, 1]) for hue in hues])\n",
    "dead_leaves(0.5, color_palette, shape_mode='mixed')"
   ]
  },
  {
   "cell_type": "code",
   "execution_count": 6,
   "metadata": {},
   "outputs": [],
   "source": [
    "ps.show()"
   ]
  },
  {
   "cell_type": "code",
   "execution_count": null,
   "metadata": {},
   "outputs": [],
   "source": []
  }
 ],
 "metadata": {
  "kernelspec": {
   "display_name": "polyscope",
   "language": "python",
   "name": "python3"
  },
  "language_info": {
   "codemirror_mode": {
    "name": "ipython",
    "version": 3
   },
   "file_extension": ".py",
   "mimetype": "text/x-python",
   "name": "python",
   "nbconvert_exporter": "python",
   "pygments_lexer": "ipython3",
   "version": "3.11.9"
  }
 },
 "nbformat": 4,
 "nbformat_minor": 2
}
