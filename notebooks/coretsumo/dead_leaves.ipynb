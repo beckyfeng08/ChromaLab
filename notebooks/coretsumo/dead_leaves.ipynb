{
 "cells": [
  {
   "cell_type": "code",
   "execution_count": 1,
   "metadata": {},
   "outputs": [],
   "source": [
    "from chromalab.adaptation import dead_leaves\n",
    "\n",
    "import matplotlib.colors as mcolors\n",
    "import numpy as np\n",
    "import polyscope as ps  # https://polyscope.run/py/\n",
    "import random"
   ]
  },
  {
   "cell_type": "code",
   "execution_count": 2,
   "metadata": {},
   "outputs": [
    {
     "name": "stdout",
     "output_type": "stream",
     "text": [
      "[polyscope] Backend: openGL3_glfw -- Loaded openGL version: 4.1 INTEL-22.5.11\n"
     ]
    }
   ],
   "source": [
    "# Initialize polyscope and set some scene options\n",
    "ps.init()\n",
    "\n",
    "ps.set_build_gui(False)\n",
    "ps.set_ground_plane_mode(\"none\")\n",
    "ps.set_SSAA_factor(4)\n",
    "ps.set_background_color([0, 0, 0])\n",
    "\n",
    "image_res = 512\n",
    "ps.set_window_resizable(True)\n",
    "ps.set_window_size(image_res / 2, image_res / 2) "
   ]
  },
  {
   "cell_type": "code",
   "execution_count": 3,
   "metadata": {},
   "outputs": [],
   "source": [
    "n_channels = 4\n",
    "\n",
    "if n_channels == 3:\n",
    "    # Generate some RGB colors\n",
    "    hues = np.linspace(0, 0.9, 100)\n",
    "    color_palette = np.array([mcolors.hsv_to_rgb([hue, 1, 1]) for hue in hues])\n",
    "\n",
    "    dead_leaves(0.5, color_palette, \n",
    "                max_iters=20,\n",
    "                filename='./out/dead_leaves_tri.png', \n",
    "                shape_mode='mixed')\n",
    "\n",
    "elif n_channels == 4:\n",
    "    # Generate some tetra colors\n",
    "    hues = np.linspace(0, 0.9, 100)\n",
    "    color_palette = np.array([mcolors.hsv_to_rgb([hue, 1, 1]) for hue in hues])\n",
    "    Qs = np.random.rand(color_palette.shape[0], 1)\n",
    "    color_palette = np.hstack([color_palette, Qs])\n",
    "\n",
    "    dead_leaves(0.5, color_palette, \n",
    "                max_iters=20,\n",
    "                filename='./out/dead_leaves_tetra.png', \n",
    "                shape_mode='mixed', \n",
    "                tetra_save_mode='LMS_Q')"
   ]
  },
  {
   "cell_type": "code",
   "execution_count": null,
   "metadata": {},
   "outputs": [],
   "source": []
  }
 ],
 "metadata": {
  "kernelspec": {
   "display_name": "polyscope",
   "language": "python",
   "name": "python3"
  },
  "language_info": {
   "codemirror_mode": {
    "name": "ipython",
    "version": 3
   },
   "file_extension": ".py",
   "mimetype": "text/x-python",
   "name": "python",
   "nbconvert_exporter": "python",
   "pygments_lexer": "ipython3",
   "version": "3.11.9"
  }
 },
 "nbformat": 4,
 "nbformat_minor": 2
}
