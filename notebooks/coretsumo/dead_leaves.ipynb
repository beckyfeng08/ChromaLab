{
 "cells": [
  {
   "cell_type": "code",
   "execution_count": 3,
   "metadata": {},
   "outputs": [],
   "source": [
    "from chromalab.adaptation import dead_leaves\n",
    "\n",
    "import matplotlib.colors as mcolors\n",
    "import numpy as np\n",
    "import polyscope as ps  # https://polyscope.run/py/\n",
    "import random\n",
    "\n",
    "from pathlib import Path"
   ]
  },
  {
   "cell_type": "code",
   "execution_count": 2,
   "metadata": {},
   "outputs": [],
   "source": [
    "%load_ext autoreload\n",
    "%autoreload 2\n",
    "%matplotlib ipympl"
   ]
  },
  {
   "cell_type": "code",
   "execution_count": 3,
   "metadata": {},
   "outputs": [
    {
     "name": "stdout",
     "output_type": "stream",
     "text": [
      "[polyscope] Backend: openGL3_glfw -- Loaded openGL version: 4.1 INTEL-22.5.11\n"
     ]
    }
   ],
   "source": [
    "# Initialize polyscope and set some scene options\n",
    "ps.init()\n",
    "\n",
    "ps.set_build_gui(False)\n",
    "ps.set_ground_plane_mode(\"none\")\n",
    "ps.set_SSAA_factor(4)\n",
    "ps.set_background_color([0, 0, 0])\n",
    "\n",
    "image_res = 512\n",
    "ps.set_window_resizable(True)\n",
    "ps.set_window_size(image_res / 2, image_res / 2)"
   ]
  },
  {
   "cell_type": "code",
   "execution_count": 4,
   "metadata": {},
   "outputs": [],
   "source": [
    "# Set up directories for saving outputs\n",
    "Path('./out/tri').mkdir(parents=True, exist_ok=True)\n",
    "Path('./out/RG1G2B').mkdir(parents=True, exist_ok=True)\n",
    "Path('./out/LMS_Q').mkdir(parents=True, exist_ok=True)\n",
    "Path('./out/four_gray').mkdir(parents=True, exist_ok=True)"
   ]
  },
  {
   "cell_type": "code",
   "execution_count": 5,
   "metadata": {},
   "outputs": [
    {
     "name": "stderr",
     "output_type": "stream",
     "text": [
      "ffmpeg version 7.0.1 Copyright (c) 2000-2024 the FFmpeg developers\n",
      "  built with Apple clang version 15.0.0 (clang-1500.3.9.4)\n",
      "  configuration: --prefix=/usr/local/Cellar/ffmpeg/7.0.1 --enable-shared --enable-pthreads --enable-version3 --cc=clang --host-cflags= --host-ldflags='-Wl,-ld_classic' --enable-ffplay --enable-gnutls --enable-gpl --enable-libaom --enable-libaribb24 --enable-libbluray --enable-libdav1d --enable-libharfbuzz --enable-libjxl --enable-libmp3lame --enable-libopus --enable-librav1e --enable-librist --enable-librubberband --enable-libsnappy --enable-libsrt --enable-libssh --enable-libsvtav1 --enable-libtesseract --enable-libtheora --enable-libvidstab --enable-libvmaf --enable-libvorbis --enable-libvpx --enable-libwebp --enable-libx264 --enable-libx265 --enable-libxml2 --enable-libxvid --enable-lzma --enable-libfontconfig --enable-libfreetype --enable-frei0r --enable-libass --enable-libopencore-amrnb --enable-libopencore-amrwb --enable-libopenjpeg --enable-libspeex --enable-libsoxr --enable-libzmq --enable-libzimg --disable-libjack --disable-indev=jack --enable-videotoolbox --enable-audiotoolbox\n",
      "  libavutil      59.  8.100 / 59.  8.100\n",
      "  libavcodec     61.  3.100 / 61.  3.100\n",
      "  libavformat    61.  1.100 / 61.  1.100\n",
      "  libavdevice    61.  1.100 / 61.  1.100\n",
      "  libavfilter    10.  1.100 / 10.  1.100\n",
      "  libswscale      8.  1.100 /  8.  1.100\n",
      "  libswresample   5.  1.100 /  5.  1.100\n",
      "  libpostproc    58.  1.100 / 58.  1.100\n",
      "Input #0, rawvideo, from 'fd:':\n",
      "  Duration: N/A, start: 0.000000, bitrate: 503316 kb/s\n",
      "  Stream #0:0: Video: rawvideo (RGBA / 0x41424752), rgba, 512x512, 503316 kb/s, 60 tbr, 60 tbn\n",
      "Stream mapping:\n",
      "  Stream #0:0 -> #0:0 (rawvideo (native) -> h264 (libx264))\n",
      "[libx264 @ 0x7fa4ed821900] using cpu capabilities: MMX2 SSE2Fast SSSE3 SSE4.2 AVX FMA3 BMI2 AVX2\n",
      "[libx264 @ 0x7fa4ed821900] profile High, level 3.1, 4:2:0, 8-bit\n",
      "[libx264 @ 0x7fa4ed821900] 264 - core 164 r3108 31e19f9 - H.264/MPEG-4 AVC codec - Copyleft 2003-2023 - http://www.videolan.org/x264.html - options: cabac=1 ref=2 deblock=1:0:0 analyse=0x3:0x113 me=hex subme=6 psy=1 psy_rd=1.00:0.00 mixed_ref=1 me_range=16 chroma_me=1 trellis=1 8x8dct=1 cqm=0 deadzone=21,11 fast_pskip=1 chroma_qp_offset=-2 threads=12 lookahead_threads=2 sliced_threads=0 nr=0 decimate=1 interlaced=0 bluray_compat=0 constrained_intra=0 bframes=3 b_pyramid=2 b_adapt=1 b_bias=0 direct=1 weightb=1 open_gop=0 weightp=1 keyint=250 keyint_min=25 scenecut=40 intra_refresh=0 rc_lookahead=30 rc=crf mbtree=1 crf=21.0 qcomp=0.60 qpmin=0 qpmax=69 qpstep=4 ip_ratio=1.40 aq=1:1.00\n",
      "Output #0, mp4, to './out/dead_leaves_tri.mp4':\n",
      "  Metadata:\n",
      "    encoder         : Lavf61.1.100\n",
      "  Stream #0:0: Video: h264 (avc1 / 0x31637661), yuv420p(progressive), 512x512, q=2-31, 60 fps, 15360 tbn\n",
      "      Metadata:\n",
      "        encoder         : Lavc61.3.100 libx264\n",
      "      Side data:\n",
      "        cpb: bitrate max/min/avg: 0/0/0 buffer size: 0 vbv_delay: N/A\n",
      "[out#0/mp4 @ 0x7fa4ecf05ec0] video:9KiB audio:0KiB subtitle:0KiB other streams:0KiB global headers:0KiB muxing overhead: 17.296464%\n",
      "frame=   60 fps=0.0 q=-1.0 Lsize=      10KiB time=00:00:00.96 bitrate=  88.1kbits/s speed=1.47x    \n",
      "[libx264 @ 0x7fa4ed821900] frame I:1     Avg QP:21.00  size:  6869\n",
      "[libx264 @ 0x7fa4ed821900] frame P:15    Avg QP:11.01  size:    44\n",
      "[libx264 @ 0x7fa4ed821900] frame B:44    Avg QP:13.68  size:    20\n",
      "[libx264 @ 0x7fa4ed821900] consecutive B-frames:  1.7%  0.0%  5.0% 93.3%\n",
      "[libx264 @ 0x7fa4ed821900] mb I  I16..4: 16.6% 68.7% 14.7%\n",
      "[libx264 @ 0x7fa4ed821900] mb P  I16..4:  0.0%  0.0%  0.0%  P16..4:  0.8%  0.0%  0.0%  0.0%  0.0%    skip:99.1%\n",
      "[libx264 @ 0x7fa4ed821900] mb B  I16..4:  0.0%  0.0%  0.0%  B16..8:  0.0%  0.0%  0.0%  direct: 0.0%  skip:100.0%  L0: 0.0% L1:100.0% BI: 0.0%\n",
      "[libx264 @ 0x7fa4ed821900] 8x8 transform intra:68.7% inter:0.0%\n",
      "[libx264 @ 0x7fa4ed821900] coded y,uvDC,uvAC intra: 7.4% 20.4% 17.7% inter: 0.0% 0.2% 0.0%\n",
      "[libx264 @ 0x7fa4ed821900] i16 v,h,dc,p: 52% 32% 16%  1%\n",
      "[libx264 @ 0x7fa4ed821900] i8 v,h,dc,ddl,ddr,vr,hd,vl,hu: 80%  5% 15%  0%  0%  0%  0%  0%  0%\n",
      "[libx264 @ 0x7fa4ed821900] i4 v,h,dc,ddl,ddr,vr,hd,vl,hu: 56% 15% 12%  4%  3%  3%  3%  2%  2%\n",
      "[libx264 @ 0x7fa4ed821900] i8c dc,h,v,p: 73% 13% 14%  1%\n",
      "[libx264 @ 0x7fa4ed821900] Weighted P-Frames: Y:0.0% UV:0.0%\n",
      "[libx264 @ 0x7fa4ed821900] kb/s:67.10\n"
     ]
    }
   ],
   "source": [
    "n_channels = 4\n",
    "\n",
    "if n_channels == 3:\n",
    "    # Generate some RGB colors\n",
    "    hues = np.linspace(0, 0.9, 100)\n",
    "    color_palette = np.array([mcolors.hsv_to_rgb([hue, 1, 1]) for hue in hues])\n",
    "\n",
    "    # Set up the dead leaves scene\n",
    "    dead_leaves(0.5, color_palette, max_iters=20, shape_mode='mixed')\n",
    "\n",
    "    # Take a screenshot\n",
    "    dir = './out/tri/'\n",
    "    ps.screenshot(dir + 'dead_leaves_tri.png')\n",
    "\n",
    "    # Write a video file\n",
    "    fd = ps.open_video_file(dir + 'dead_leaves_tri.mp4', fps=60)\n",
    "    for i in range(60):\n",
    "        # Add in some camera motion here per frame\n",
    "        ps.write_video_frame(fd)\n",
    "    ps.close_video_file(fd)"
   ]
  },
  {
   "cell_type": "code",
   "execution_count": null,
   "metadata": {},
   "outputs": [],
   "source": [
    "if n_channels == 4:\n",
    "    # Generate some tetra colors\n",
    "    hues = np.linspace(0, 0.9, 100)\n",
    "    color_palette = np.array([mcolors.hsv_to_rgb([hue, 1, 1]) for hue in hues])\n",
    "    Qs = np.random.rand(color_palette.shape[0], 1)\n",
    "    color_palette = np.hstack([color_palette, Qs])\n",
    "\n",
    "    # Set up the dead leaves scene\n",
    "    dead_leaves(0.5, color_palette, max_iters=20, shape_mode='mixed')\n",
    "    \n",
    "    \"\"\"\n",
    "    save_image_mode -- if rasterizing a tetracolor scene, mode to save the output (to either image or video file)\n",
    "        'LMS_Q' : saves first 3 channels in one RGB .png file, saves 4th channel in one grayscale .png file\n",
    "        'four_gray' : saves each channel to a separate grayscale .png file\n",
    "        'RG1G2B' : saves 4 color channels in one RGBA .png file\n",
    "    \"\"\"\n",
    "    tetra_save_mode = 'LMS_Q'\n",
    "    # tetra_save_mode = 'four_gray'\n",
    "    # tetra_save_mode = 'RG1G2B'\n",
    "\n",
    "    dir = f'./out/{tetra_save_mode}/'\n",
    "\n",
    "    # Take a tetra screenshot\n",
    "    ps.rasterize_tetra(dir + 'dead_leaves_tetra.png', save_image_mode=tetra_save_mode)\n",
    "\n",
    "    # Write a tetra video file\n",
    "    # 'RG1G2B' is a valid save_image_mode for writing video files, but mp4 won't write transparency\n",
    "    # Most likely want to use 'LMS_Q' or 'four_gray' mode for writing tetra video files!\n",
    "    tfds = ps.open_tetra_video_file(dir + 'dead_leaves_tetra.mp4', fps=30, save_image_mode=tetra_save_mode)\n",
    "    for i in range(30):\n",
    "        # Add in some camera motion\n",
    "        ps.write_tetra_video_frame(tfds)\n",
    "    ps.close_tetra_video_file(tfds)"
   ]
  }
 ],
 "metadata": {
  "kernelspec": {
   "display_name": "polyscope",
   "language": "python",
   "name": "python3"
  },
  "language_info": {
   "codemirror_mode": {
    "name": "ipython",
    "version": 3
   },
   "file_extension": ".py",
   "mimetype": "text/x-python",
   "name": "python",
   "nbconvert_exporter": "python",
   "pygments_lexer": "ipython3",
   "version": "3.11.9"
  }
 },
 "nbformat": 4,
 "nbformat_minor": 2
}
