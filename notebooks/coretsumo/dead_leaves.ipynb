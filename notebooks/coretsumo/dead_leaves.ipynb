{
 "cells": [
  {
   "cell_type": "code",
   "execution_count": 2,
   "metadata": {},
   "outputs": [],
   "source": [
    "from chromalab.adaptation import dead_leaves\n",
    "\n",
    "import matplotlib.colors as mcolors\n",
    "import numpy as np\n",
    "import polyscope as ps  # https://polyscope.run/py/\n",
    "import random"
   ]
  },
  {
   "cell_type": "code",
   "execution_count": 3,
   "metadata": {},
   "outputs": [],
   "source": [
    "%reload_ext autoreload\n",
    "%autoreload 2\n",
    "%matplotlib ipympl"
   ]
  },
  {
   "cell_type": "code",
   "execution_count": 4,
   "metadata": {},
   "outputs": [
    {
     "name": "stdout",
     "output_type": "stream",
     "text": [
      "[polyscope] Backend: openGL3_glfw -- Loaded openGL version: 4.1 INTEL-22.5.11\n"
     ]
    }
   ],
   "source": [
    "# Initialize polyscope and set some scene options\n",
    "ps.init()\n",
    "\n",
    "ps.set_build_gui(False)\n",
    "ps.set_ground_plane_mode(\"none\")\n",
    "ps.set_SSAA_factor(4)\n",
    "ps.set_background_color([0, 0, 0])\n",
    "\n",
    "image_res = 512\n",
    "ps.set_window_resizable(True)\n",
    "ps.set_window_size(image_res / 2, image_res / 2) "
   ]
  },
  {
   "cell_type": "code",
   "execution_count": 6,
   "metadata": {},
   "outputs": [
    {
     "ename": "TypeError",
     "evalue": "dead_leaves() missing 1 required positional argument: 'filename'",
     "output_type": "error",
     "traceback": [
      "\u001b[0;31m---------------------------------------------------------------------------\u001b[0m",
      "\u001b[0;31mTypeError\u001b[0m                                 Traceback (most recent call last)",
      "Cell \u001b[0;32mIn[6], line 9\u001b[0m\n\u001b[1;32m      6\u001b[0m color_palette \u001b[38;5;241m=\u001b[39m np\u001b[38;5;241m.\u001b[39marray([mcolors\u001b[38;5;241m.\u001b[39mhsv_to_rgb([hue, \u001b[38;5;241m1\u001b[39m, \u001b[38;5;241m1\u001b[39m]) \u001b[38;5;28;01mfor\u001b[39;00m hue \u001b[38;5;129;01min\u001b[39;00m hues])\n\u001b[1;32m      7\u001b[0m filename \u001b[38;5;241m=\u001b[39m \u001b[38;5;124m'\u001b[39m\u001b[38;5;124m./out/dead_leaves_tri.png\u001b[39m\u001b[38;5;124m'\u001b[39m\n\u001b[0;32m----> 9\u001b[0m \u001b[43mdead_leaves\u001b[49m\u001b[43m(\u001b[49m\u001b[38;5;241;43m0.5\u001b[39;49m\u001b[43m,\u001b[49m\u001b[43m \u001b[49m\u001b[43mcolor_palette\u001b[49m\u001b[43m,\u001b[49m\u001b[43m \u001b[49m\u001b[43mmax_iters\u001b[49m\u001b[38;5;241;43m=\u001b[39;49m\u001b[38;5;241;43m20\u001b[39;49m\u001b[43m,\u001b[49m\u001b[43m \u001b[49m\u001b[43mshape_mode\u001b[49m\u001b[38;5;241;43m=\u001b[39;49m\u001b[38;5;124;43m'\u001b[39;49m\u001b[38;5;124;43mmixed\u001b[39;49m\u001b[38;5;124;43m'\u001b[39;49m\u001b[43m)\u001b[49m\n\u001b[1;32m     10\u001b[0m ps\u001b[38;5;241m.\u001b[39mscreenshot(filename)\n\u001b[1;32m     12\u001b[0m fd \u001b[38;5;241m=\u001b[39m ps\u001b[38;5;241m.\u001b[39mopen_video_file(\u001b[38;5;124m'\u001b[39m\u001b[38;5;124m./out/dead_leaves_tri.mp4\u001b[39m\u001b[38;5;124m'\u001b[39m)\n",
      "\u001b[0;31mTypeError\u001b[0m: dead_leaves() missing 1 required positional argument: 'filename'"
     ]
    }
   ],
   "source": [
    "n_channels = 3\n",
    "\n",
    "if n_channels == 3:\n",
    "    # Generate some RGB colors\n",
    "    hues = np.linspace(0, 0.9, 100)\n",
    "    color_palette = np.array([mcolors.hsv_to_rgb([hue, 1, 1]) for hue in hues])\n",
    "    filename = './out/dead_leaves_tri.png'\n",
    "\n",
    "    dead_leaves(0.5, color_palette, max_iters=20, shape_mode='mixed')\n",
    "    ps.screenshot(filename)\n",
    "\n",
    "    fd = ps.open_video_file('./out/dead_leaves_tri.mp4')\n",
    "    for i in range(60):\n",
    "        ps.write_video_frame(fd)\n",
    "    ps.close_video_file(fd)\n",
    "\n",
    "elif n_channels == 4:\n",
    "    # Generate some tetra colors\n",
    "    hues = np.linspace(0, 0.9, 100)\n",
    "    color_palette = np.array([mcolors.hsv_to_rgb([hue, 1, 1]) for hue in hues])\n",
    "    Qs = np.random.rand(color_palette.shape[0], 1)\n",
    "    color_palette = np.hstack([color_palette, Qs])\n",
    "    filename = './out/dead_leaves_tetra.png'\n",
    "    tetra_save_mode='LMS_Q'\n",
    "    dead_leaves(0.5, color_palette, max_iters=20, shape_mode='mixed')\n",
    "    \n",
    "    \"\"\"\n",
    "    tetra_save_mode -- if rasterizing a tetracolor scene, mode to save the output\n",
    "        'LMS_Q' : saves first 3 channels in one RGB .png file, saves 4th channel in one grayscale .png file\n",
    "        'RG1G2B' : saves 4 color channels in one RGBA .png file\n",
    "        'four_gray' : saves each channel to a separate grayscale .png file\n",
    "    \"\"\"\n",
    "    ps.rasterize_tetra(filename, tetra_save_mode)"
   ]
  },
  {
   "cell_type": "code",
   "execution_count": null,
   "metadata": {},
   "outputs": [],
   "source": []
  }
 ],
 "metadata": {
  "kernelspec": {
   "display_name": "polyscope",
   "language": "python",
   "name": "python3"
  },
  "language_info": {
   "codemirror_mode": {
    "name": "ipython",
    "version": 3
   },
   "file_extension": ".py",
   "mimetype": "text/x-python",
   "name": "python",
   "nbconvert_exporter": "python",
   "pygments_lexer": "ipython3",
   "version": "3.11.9"
  }
 },
 "nbformat": 4,
 "nbformat_minor": 2
}
