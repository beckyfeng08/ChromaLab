{
 "cells": [
  {
   "cell_type": "code",
   "execution_count": 4,
   "metadata": {},
   "outputs": [],
   "source": [
    "import numpy as np\n",
    "import matplotlib.pyplot as plt\n",
    "from tqdm import tqdm"
   ]
  },
  {
   "cell_type": "code",
   "execution_count": 5,
   "metadata": {},
   "outputs": [
    {
     "name": "stderr",
     "output_type": "stream",
     "text": [
      "objc[91675]: Class GLFWApplicationDelegate is implemented in both /Users/jessicalee/anaconda3/envs/chromalab/lib/python3.11/site-packages/open3d/cpu/pybind.cpython-311-darwin.so (0x29e7c2e28) and /Users/jessicalee/anaconda3/envs/chromalab/lib/python3.11/site-packages/polyscope_bindings.cpython-311-darwin.so (0x2b9ec2ea0). One of the two will be used. Which one is undefined.\n",
      "objc[91675]: Class GLFWWindowDelegate is implemented in both /Users/jessicalee/anaconda3/envs/chromalab/lib/python3.11/site-packages/open3d/cpu/pybind.cpython-311-darwin.so (0x29e7c2db0) and /Users/jessicalee/anaconda3/envs/chromalab/lib/python3.11/site-packages/polyscope_bindings.cpython-311-darwin.so (0x2b9ec2ec8). One of the two will be used. Which one is undefined.\n",
      "objc[91675]: Class GLFWContentView is implemented in both /Users/jessicalee/anaconda3/envs/chromalab/lib/python3.11/site-packages/open3d/cpu/pybind.cpython-311-darwin.so (0x29e7c2e50) and /Users/jessicalee/anaconda3/envs/chromalab/lib/python3.11/site-packages/polyscope_bindings.cpython-311-darwin.so (0x2b9ec2f18). One of the two will be used. Which one is undefined.\n",
      "objc[91675]: Class GLFWWindow is implemented in both /Users/jessicalee/anaconda3/envs/chromalab/lib/python3.11/site-packages/open3d/cpu/pybind.cpython-311-darwin.so (0x29e7c2ec8) and /Users/jessicalee/anaconda3/envs/chromalab/lib/python3.11/site-packages/polyscope_bindings.cpython-311-darwin.so (0x2b9ec2f90). One of the two will be used. Which one is undefined.\n"
     ]
    }
   ],
   "source": [
    "from chromalab.spectra import Spectra, Illuminant, convert_refs_to_spectras\n",
    "from chromalab.observer import Observer\n",
    "from chromalab.maxbasis import MaxBasis\n",
    "from chromalab.spectral_analysis import NTIREDataLoader, RudermanAnalysis\n",
    "from chromalab.visualizer import PSWrapper, DisplayBasisType, exportAndPlay\n"
   ]
  },
  {
   "cell_type": "code",
   "execution_count": 6,
   "metadata": {},
   "outputs": [],
   "source": [
    "%load_ext autoreload\n",
    "%autoreload 2\n",
    "%matplotlib ipympl"
   ]
  },
  {
   "cell_type": "code",
   "execution_count": 23,
   "metadata": {},
   "outputs": [
    {
     "name": "stderr",
     "output_type": "stream",
     "text": [
      "100%|██████████| 28/28 [00:00<00:00, 942.00it/s]\n",
      "/Users/jessicalee/Projects/generalized-colorimetry/code/ChromaLab/chromalab/spectra.py:36: UserWarning: Data has values not between 0 and 1. Clipping.\n",
      "  warnings.warn(\"Data has values not between 0 and 1. Clipping.\")\n",
      "100%|██████████| 28/28 [00:00<00:00, 63.65it/s]\n"
     ]
    }
   ],
   "source": [
    "wavelengths10 = np.arange(400, 701, 10)\n",
    "d65 = Illuminant.get(\"D65\")\n",
    "\n",
    "trichromat = Observer.trichromat(wavelengths=wavelengths10, illuminant=d65) \n",
    "maxbasis_tri = MaxBasis(trichromat, verbose=True)\n",
    "LMS_to_RGB = maxbasis_tri.get_cone_to_maxbasis_transform()\n",
    "\n",
    "tetrachromat = Observer.tetrachromat(wavelengths=wavelengths10, illuminant=d65, verbose=True)\n",
    "maxbasis = MaxBasis(tetrachromat, verbose=True)\n",
    "viz = PSWrapper(tetrachromat, maxbasis, itemsToDisplay=PSWrapper.ItemsToDisplay.MESH, displayBasis=DisplayBasisType.CONE, verbose=True)"
   ]
  },
  {
   "cell_type": "code",
   "execution_count": 8,
   "metadata": {},
   "outputs": [],
   "source": [
    "# Process NTIRE Data\n",
    "# ntire_data_loader = NTIREDataLoader(\"/data/NTIRE_2022\", tetrachromat)\n",
    "# ntire_data_loader.getConeResponses()\n",
    "# ntire_data_loader.getSpatialConeResponses()\n",
    "# ntire_data_loader.save(\"./data/ntire_data_loader.pkl\")\n",
    "\n",
    "# Load NTIRE Data\n",
    "ntire_data_loader = NTIREDataLoader.load(\"./data/ntire_data_loader.pkl\")"
   ]
  },
  {
   "cell_type": "code",
   "execution_count": 9,
   "metadata": {},
   "outputs": [],
   "source": [
    "tetrachromat_analysis = RudermanAnalysis(tetrachromat, ntire_data_loader)"
   ]
  },
  {
   "cell_type": "code",
   "execution_count": 24,
   "metadata": {},
   "outputs": [
    {
     "name": "stdout",
     "output_type": "stream",
     "text": [
      "[[ 0.49793299  0.50450443  0.50035148  0.49717845]\n",
      " [ 0.86178678 -0.20338577 -0.29933659 -0.35546501]\n",
      " [-0.09675478  0.76733862 -0.04946008 -0.63196808]\n",
      " [ 0.00497864 -0.33955994  0.81092521 -0.47652341]]\n",
      "[  9.62180134e-01   3.59249986e-02   1.89164777e-03   3.21939766e-06]\n"
     ]
    }
   ],
   "source": [
    "tetrachromat_analysis.doConeResponsePCA()\n",
    "tetrachromat_analysis.plotPCA4D(viz, LMS_to_RGB)\n",
    "viz.ps.show()"
   ]
  },
  {
   "cell_type": "code",
   "execution_count": null,
   "metadata": {},
   "outputs": [],
   "source": [
    "tetrachromat_analysis.doSpatialPCA()\n",
    "# displays the Spatial PCA results first plotting in SML, and then in MQL space (the long wavelength cone space)\n",
    "tetrachromat_analysis.displaySpatialPCA(\"./outputs/spatial_pca.png\")"
   ]
  }
 ],
 "metadata": {
  "kernelspec": {
   "display_name": "chromalab",
   "language": "python",
   "name": "python3"
  },
  "language_info": {
   "codemirror_mode": {
    "name": "ipython",
    "version": 3
   },
   "file_extension": ".py",
   "mimetype": "text/x-python",
   "name": "python",
   "nbconvert_exporter": "python",
   "pygments_lexer": "ipython3",
   "version": "3.11.9"
  }
 },
 "nbformat": 4,
 "nbformat_minor": 2
}
