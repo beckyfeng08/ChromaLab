{
 "cells": [
  {
   "cell_type": "code",
   "execution_count": 1,
   "metadata": {},
   "outputs": [],
   "source": [
    "import numpy as np\n",
    "import matplotlib.pyplot as plt\n",
    "from tqdm import tqdm"
   ]
  },
  {
   "cell_type": "code",
   "execution_count": 9,
   "metadata": {},
   "outputs": [],
   "source": [
    "from chromalab.spectra import Spectra, Illuminant, convert_refs_to_spectras\n",
    "from chromalab.observer import Observer\n",
    "from chromalab.maxbasis import MaxBasis\n",
    "from chromalab.spectral_analysis import PlumageDataLoader, RudermanAnalysis\n",
    "from chromalab.visualizer import PSWrapper, DisplayBasisType, exportAndPlay\n"
   ]
  },
  {
   "cell_type": "code",
   "execution_count": 3,
   "metadata": {},
   "outputs": [],
   "source": [
    "%load_ext autoreload\n",
    "%autoreload 2\n",
    "%matplotlib ipympl"
   ]
  },
  {
   "cell_type": "code",
   "execution_count": 7,
   "metadata": {},
   "outputs": [
    {
     "name": "stderr",
     "output_type": "stream",
     "text": [
      "100%|██████████| 38/38 [00:00<00:00, 56.85it/s]\n",
      "/Users/jessicalee/Projects/generalized-colorimetry/code/ChromaLab/chromalab/spectra.py:36: UserWarning: Data has values not between 0 and 1. Clipping.\n",
      "  warnings.warn(\"Data has values not between 0 and 1. Clipping.\")\n"
     ]
    },
    {
     "name": "stdout",
     "output_type": "stream",
     "text": [
      "[polyscope] Backend: openGL3_glfw -- Loaded openGL version: 4.1 Metal - 83.1\n"
     ]
    },
    {
     "name": "stderr",
     "output_type": "stream",
     "text": [
      "100%|██████████| 10660/10660 [00:01<00:00, 6821.19it/s]\n",
      "100%|██████████| 10660/10660 [00:00<00:00, 10946.24it/s]\n",
      "100%|██████████| 21320/21320 [00:50<00:00, 422.13it/s]\n"
     ]
    }
   ],
   "source": [
    "wavelengths = np.arange(300, 701, 10)\n",
    "d65 = Illuminant.get(\"D65\")\n",
    "\n",
    "trichromat = Observer.trichromat(wavelengths=wavelengths10, illuminant=d65) \n",
    "maxbasis_tri = MaxBasis(trichromat, verbose=True)\n",
    "LMS_to_RGB = maxbasis_tri.get_cone_to_maxbasis_transform()\n",
    "\n",
    "tetrachromat = Observer.bird('UVS-Average-Bird', wavelengths=wavelengths, illuminant=d65, verbose=True)\n",
    "maxbasis = MaxBasis(tetrachromat, verbose=True)\n",
    "viz = PSWrapper(tetrachromat, maxbasis, itemsToDisplay=PSWrapper.ItemsToDisplay.MESH, displayBasis=DisplayBasisType.CONE, verbose=True)"
   ]
  },
  {
   "cell_type": "code",
   "execution_count": 26,
   "metadata": {},
   "outputs": [],
   "source": [
    "# Load Bird PLumage Data\n",
    "plumage_data_loader = PlumageDataLoader(\"./data/hummingbird_spectra_300_700_10.npy\", tetrachromat)"
   ]
  },
  {
   "cell_type": "code",
   "execution_count": 27,
   "metadata": {},
   "outputs": [],
   "source": [
    "tetrachromat_analysis = RudermanAnalysis(tetrachromat, plumage_data_loader)"
   ]
  },
  {
   "cell_type": "code",
   "execution_count": 29,
   "metadata": {},
   "outputs": [
    {
     "name": "stdout",
     "output_type": "stream",
     "text": [
      "[[ 0.40952551  0.52478978  0.56140623  0.49163766]\n",
      " [ 0.29061237  0.69623489 -0.42421658 -0.50084101]\n",
      " [-0.4004965   0.14903324  0.67729425 -0.59888575]\n",
      " [ 0.76644364 -0.46652091  0.21479256 -0.38572859]]\n",
      "[ 0.70096335  0.19373892  0.07257152  0.03272621]\n"
     ]
    }
   ],
   "source": [
    "tetrachromat_analysis.doConeResponsePCA()\n",
    "# tetrachromat_analysis.plotPCA4D(viz, LMS_to_RGB)\n",
    "# viz.ps.show()"
   ]
  },
  {
   "cell_type": "code",
   "execution_count": null,
   "metadata": {},
   "outputs": [],
   "source": []
  }
 ],
 "metadata": {
  "kernelspec": {
   "display_name": "chromalab",
   "language": "python",
   "name": "python3"
  },
  "language_info": {
   "codemirror_mode": {
    "name": "ipython",
    "version": 3
   },
   "file_extension": ".py",
   "mimetype": "text/x-python",
   "name": "python",
   "nbconvert_exporter": "python",
   "pygments_lexer": "ipython3",
   "version": "3.11.9"
  }
 },
 "nbformat": 4,
 "nbformat_minor": 2
}
